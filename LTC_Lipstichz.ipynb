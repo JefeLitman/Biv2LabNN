{
 "cells": [
  {
   "cell_type": "markdown",
   "metadata": {},
   "source": [
    "# Configuracion de grafica a usar"
   ]
  },
  {
   "cell_type": "code",
   "execution_count": 1,
   "metadata": {},
   "outputs": [],
   "source": [
    "import os\n",
    "os.environ[\"CUDA_DEVICE_ORDER\"]=\"PCI_BUS_ID\";\n",
    " \n",
    "# lA ID de la GPU a usar, puede ser desde 0 hasta las N GPU's. Si es -1 significa que es en la CPU\n",
    "os.environ[\"CUDA_VISIBLE_DEVICES\"]=\"1\";"
   ]
  },
  {
   "cell_type": "markdown",
   "metadata": {},
   "source": [
    "# Importacion de librerias"
   ]
  },
  {
   "cell_type": "code",
   "execution_count": 2,
   "metadata": {},
   "outputs": [],
   "source": [
    "from __future__ import absolute_import, division, print_function, unicode_literals\n",
    "import tensorflow as tf\n",
    "from tensorflow import keras\n",
    "from IPython.display import display, clear_output\n",
    "\n",
    "%matplotlib inline\n",
    "import sys\n",
    "import matplotlib.pyplot as plt\n",
    "sys.path.append('../')\n",
    "from Datasets_utils.DatasetsLoader import VideoDataGenerator"
   ]
  },
  {
   "cell_type": "markdown",
   "metadata": {},
   "source": [
    "# Configuraciones para Tensorflow y Keras"
   ]
  },
  {
   "cell_type": "code",
   "execution_count": 3,
   "metadata": {},
   "outputs": [
    {
     "name": "stdout",
     "output_type": "stream",
     "text": [
      "Num GPUs Available:  1\n"
     ]
    }
   ],
   "source": [
    "print(\"Num GPUs Available: \", len(tf.config.experimental.list_physical_devices('GPU')))"
   ]
  },
  {
   "cell_type": "code",
   "execution_count": 4,
   "metadata": {},
   "outputs": [],
   "source": [
    "gpus = tf.config.experimental.list_physical_devices('GPU')\n",
    "tf.config.experimental.set_memory_growth(gpus[0], True)"
   ]
  },
  {
   "cell_type": "code",
   "execution_count": 5,
   "metadata": {},
   "outputs": [],
   "source": [
    "tf.debugging.set_log_device_placement(False)"
   ]
  },
  {
   "cell_type": "code",
   "execution_count": 6,
   "metadata": {},
   "outputs": [
    {
     "data": {
      "text/plain": [
       "True"
      ]
     },
     "execution_count": 6,
     "metadata": {},
     "output_type": "execute_result"
    }
   ],
   "source": [
    "#Comprobar que estoy ejecutandome en modo eagerly\n",
    "tf.executing_eagerly()"
   ]
  },
  {
   "cell_type": "markdown",
   "metadata": {},
   "source": [
    "# Carga de Datos"
   ]
  },
  {
   "cell_type": "code",
   "execution_count": 7,
   "metadata": {},
   "outputs": [
    {
     "data": {
      "text/plain": [
       "'/home/jefelitman/DataSets/jhmdb/subset_split_1'"
      ]
     },
     "execution_count": 7,
     "metadata": {},
     "output_type": "execute_result"
    }
   ],
   "source": [
    "root_path = \"/home/jefelitman/DataSets/jhmdb/subset_split_1\"\n",
    "root_path"
   ]
  },
  {
   "cell_type": "code",
   "execution_count": 8,
   "metadata": {},
   "outputs": [],
   "source": [
    "batch_size = 4\n",
    "original_size = [320, 240]\n",
    "size = [320, 240]\n",
    "frames = 16\n",
    "canales = 3"
   ]
  },
  {
   "cell_type": "code",
   "execution_count": 9,
   "metadata": {},
   "outputs": [],
   "source": [
    "def custom_temp_crop(frames):\n",
    "    mitad = len(frames)//2\n",
    "    paso = len(frames)//16\n",
    "    indices = sorted(list(range(mitad, -1,-paso)) + list(range(mitad+paso, len(frames),paso)))\n",
    "    indices = indices[len(indices)//2 - 8 : len(indices)//2 + 8]\n",
    "    return [[frames[i] for i in indices]]"
   ]
  },
  {
   "cell_type": "code",
   "execution_count": null,
   "metadata": {},
   "outputs": [],
   "source": [
    "def half_video_temporal(frames):\n",
    "    mitad = len(frames)//2\n",
    "    return [frames[mitad-8:mitad+8]]"
   ]
  },
  {
   "cell_type": "code",
   "execution_count": 10,
   "metadata": {},
   "outputs": [],
   "source": [
    "dataset = VideoDataGenerator(directory_path = root_path, \n",
    "                             batch_size = batch_size, \n",
    "                             original_frame_size = original_size, \n",
    "                             frame_size=size, \n",
    "                             video_frames = frames, \n",
    "                             temporal_crop = (\"custom\", half_video_temporal), \n",
    "                             frame_crop = (\"random\", 1), \n",
    "                             shuffle = True, \n",
    "                             conserve_original = False)"
   ]
  },
  {
   "cell_type": "markdown",
   "metadata": {},
   "source": [
    "# Red Neuronal LTC"
   ]
  },
  {
   "cell_type": "markdown",
   "metadata": {},
   "source": [
    "### Construccion del modelo"
   ]
  },
  {
   "cell_type": "code",
   "execution_count": 11,
   "metadata": {},
   "outputs": [],
   "source": [
    "#Entrada de la red neuronal\n",
    "video_shape = tuple([frames]+size[::-1]+[canales])\n",
    "dropout = 0.5\n",
    "lr = 1e-3\n",
    "\n",
    "ltc_save_path = '/home/jefelitman/Saved_Models/trained_jhmdb/LTC/subset1_{w}x{h}x{f}_softmax_sgd_'.format(\n",
    "        w=size[0], h=size[1],f=frames)\n",
    "if canales == 3:\n",
    "    ltc_save_path += 'RGB_'\n",
    "else:\n",
    "    ltc_save_path += 'B&N_'\n",
    "\n",
    "ltc_save_path +=  'lr=Lip'\n",
    "\n",
    "#Creacion de la carpeta donde se salvara el modelo\n",
    "if not os.path.isdir(ltc_save_path):\n",
    "    os.mkdir(ltc_save_path)\n",
    "model_saves_path = os.path.join(ltc_save_path,'model_saves')\n",
    "if not os.path.isdir(model_saves_path):\n",
    "    os.mkdir(model_saves_path)"
   ]
  },
  {
   "cell_type": "code",
   "execution_count": 12,
   "metadata": {},
   "outputs": [],
   "source": [
    "#Parametros para la compilacion del modelo\n",
    "optimizador = keras.optimizers.SGD(learning_rate=lr)\n",
    "perdida = keras.losses.SparseCategoricalCrossentropy()\n",
    "precision = keras.metrics.SparseCategoricalAccuracy()"
   ]
  },
  {
   "cell_type": "code",
   "execution_count": 13,
   "metadata": {},
   "outputs": [],
   "source": [
    "entrada = keras.Input(shape=video_shape,\n",
    "                     name=\"Input_video\")\n",
    "#Conv1\n",
    "x = keras.layers.Conv3D(filters=64, kernel_size=3, padding=\"same\", activation=\"relu\", \n",
    "                          kernel_regularizer=keras.regularizers.l2(weigh_decay),\n",
    "                          name='conv3d_1')(entrada)\n",
    "x = keras.layers.MaxPool3D(pool_size=(1,2,2),strides=(1,2,2), name='max_pooling3d_1')(x)\n",
    "\n",
    "#Conv2\n",
    "x = keras.layers.Conv3D(filters=128, kernel_size=3, padding=\"same\", activation=\"relu\", \n",
    "                      kernel_regularizer=keras.regularizers.l2(weigh_decay),\n",
    "                      name='conv3d_2')(x)\n",
    "x = keras.layers.MaxPool3D(pool_size=(2,2,2),strides=(2,2,2), name='max_pooling3d_2')(x)\n",
    "\n",
    "#Conv3\n",
    "x = keras.layers.Conv3D(filters=256, kernel_size=3, padding=\"same\", activation=\"relu\", \n",
    "                      kernel_regularizer=keras.regularizers.l2(weigh_decay),\n",
    "                      name='conv3d_3')(x)\n",
    "x = keras.layers.MaxPool3D(pool_size=(2,2,2),strides=(2,2,2),name='max_pooling3d_3')(x)\n",
    "\n",
    "#Conv4\n",
    "x = keras.layers.Conv3D(filters=256, kernel_size=3, padding=\"same\", activation=\"relu\", \n",
    "                      kernel_regularizer=keras.regularizers.l2(weigh_decay),\n",
    "                      name='conv3d_4')(x)\n",
    "x = keras.layers.MaxPool3D(pool_size=(2,2,2),strides=(2,2,2),name='max_pooling3d_4')(x)\n",
    "\n",
    "#Conv5\n",
    "x = keras.layers.Conv3D(filters=256, kernel_size=3, padding=\"same\", activation=\"relu\", \n",
    "                      kernel_regularizer=keras.regularizers.l2(weigh_decay),\n",
    "                      name='conv3d_5')(x)\n",
    "x = keras.layers.MaxPool3D(pool_size=(2,2,2),strides=(2,2,2),name='max_pooling3d_5')(x)\n",
    "\n",
    "#fc6s\n",
    "x = keras.layers.Flatten(name='flatten_6')(x)\n",
    "x = keras.layers.Dense(2048, activation=\"relu\", kernel_regularizer=keras.regularizers.l2(weigh_decay),\n",
    "                     name='dense_6')(x)\n",
    "x = keras.layers.Dropout(rate=dropout,name='dropout_6')(x)\n",
    "\n",
    "#fc7\n",
    "x = keras.layers.Dense(2048, activation=\"relu\", kernel_regularizer=keras.regularizers.l2(weigh_decay),\n",
    "                     name='dense_7')(x)\n",
    "x = keras.layers.Dropout(rate=dropout,name='dropout_7')(x)\n",
    "\n",
    "#fc8\n",
    "salidas = keras.layers.Dense(len(dataset.to_class), activation=\"softmax\", \n",
    "                          kernel_regularizer=keras.regularizers.l2(weigh_decay), name='dense_8')(x)\n",
    "\n",
    "ltc = keras.Model(entrada, salidas, name=\"LTC\")"
   ]
  },
  {
   "cell_type": "code",
   "execution_count": 14,
   "metadata": {},
   "outputs": [],
   "source": [
    "#ltc = keras.models.load_model(os.path.join(ltc_save_path,'ltc_final_200.h5'))"
   ]
  },
  {
   "cell_type": "code",
   "execution_count": 15,
   "metadata": {},
   "outputs": [],
   "source": [
    "#Compilacion del modelo\n",
    "ltc.compile(optimizer = optimizador,\n",
    "           loss = perdida,\n",
    "           metrics = [precision])"
   ]
  },
  {
   "cell_type": "code",
   "execution_count": 16,
   "metadata": {},
   "outputs": [],
   "source": [
    "#keras.utils.plot_model(ltc, 'LTC.png', show_shapes=True)"
   ]
  },
  {
   "cell_type": "code",
   "execution_count": 17,
   "metadata": {},
   "outputs": [
    {
     "name": "stdout",
     "output_type": "stream",
     "text": [
      "Model: \"LTC\"\n",
      "_________________________________________________________________\n",
      "Layer (type)                 Output Shape              Param #   \n",
      "=================================================================\n",
      "Input_video (InputLayer)     [(None, 16, 240, 320, 3)] 0         \n",
      "_________________________________________________________________\n",
      "conv3d (Conv3D)              (None, 16, 240, 320, 64)  5248      \n",
      "_________________________________________________________________\n",
      "max_pooling3d (MaxPooling3D) (None, 16, 120, 160, 64)  0         \n",
      "_________________________________________________________________\n",
      "conv3d_1 (Conv3D)            (None, 16, 120, 160, 128) 221312    \n",
      "_________________________________________________________________\n",
      "max_pooling3d_1 (MaxPooling3 (None, 8, 60, 80, 128)    0         \n",
      "_________________________________________________________________\n",
      "conv3d_2 (Conv3D)            (None, 8, 60, 80, 256)    884992    \n",
      "_________________________________________________________________\n",
      "max_pooling3d_2 (MaxPooling3 (None, 4, 30, 40, 256)    0         \n",
      "_________________________________________________________________\n",
      "conv3d_3 (Conv3D)            (None, 4, 30, 40, 256)    1769728   \n",
      "_________________________________________________________________\n",
      "max_pooling3d_3 (MaxPooling3 (None, 2, 15, 20, 256)    0         \n",
      "_________________________________________________________________\n",
      "conv3d_4 (Conv3D)            (None, 2, 15, 20, 256)    1769728   \n",
      "_________________________________________________________________\n",
      "max_pooling3d_4 (MaxPooling3 (None, 1, 7, 10, 256)     0         \n",
      "_________________________________________________________________\n",
      "flatten (Flatten)            (None, 17920)             0         \n",
      "_________________________________________________________________\n",
      "dense (Dense)                (None, 2048)              36702208  \n",
      "_________________________________________________________________\n",
      "dropout (Dropout)            (None, 2048)              0         \n",
      "_________________________________________________________________\n",
      "dense_1 (Dense)              (None, 2048)              4196352   \n",
      "_________________________________________________________________\n",
      "dropout_1 (Dropout)          (None, 2048)              0         \n",
      "_________________________________________________________________\n",
      "dense_2 (Dense)              (None, 12)                24588     \n",
      "=================================================================\n",
      "Total params: 45,574,156\n",
      "Trainable params: 45,574,156\n",
      "Non-trainable params: 0\n",
      "_________________________________________________________________\n"
     ]
    }
   ],
   "source": [
    "ltc.summary()"
   ]
  },
  {
   "cell_type": "markdown",
   "metadata": {},
   "source": [
    "### Entrenamiento de la red paso a paso"
   ]
  },
  {
   "cell_type": "code",
   "execution_count": 18,
   "metadata": {},
   "outputs": [],
   "source": [
    "epochs = 30\n",
    "train_loss = []\n",
    "train_accuracy = []\n",
    "eval_loss = []\n",
    "eval_accuracy = []\n",
    "maximo = -1\n",
    "step_max = 0"
   ]
  },
  {
   "cell_type": "code",
   "execution_count": 19,
   "metadata": {},
   "outputs": [
    {
     "name": "stdout",
     "output_type": "stream",
     "text": [
      "Step:  57  Learning rate:  0.082628265\n",
      "Train Epoch:  100  Train batch:  57 / 57\n",
      "Train_Loss:  2.3864403  Train_Accuracy:  0.13157895\n",
      "Tain_max_Accuracy: 0.5 at the step: 1 in the epoch: 100\n",
      "Epoch: 99 - Eval_Loss: 2.5839881896972656 Eval_Accuracy: 0.1304347813129425\n",
      "Value of L = 12.102395820911868\n"
     ]
    }
   ],
   "source": [
    "for train_epoch in range(epochs):\n",
    "    #Momento de entrenar primero\n",
    "    keras.backend.set_learning_phase(True)\n",
    "    valores_l =[]\n",
    "    for step in range(dataset.train_batches):\n",
    "        with tf.device('/GPU:0'):\n",
    "            batch, labels = dataset.get_next_train_batch(canales)\n",
    "            with tf.GradientTape() as tape:\n",
    "                predicciones = ltc(batch)\n",
    "                valor_perdida = perdida(labels, predicciones)\n",
    "                \n",
    "            grads = tape.gradient(valor_perdida, ltc.trainable_weights)\n",
    "            optimizador.apply_gradients(zip(grads, ltc.trainable_weights))\n",
    "\n",
    "        with tf.device('/CPU:0'):\n",
    "            #Agrego los valores a L\n",
    "            for i,l in enumerate(labels):\n",
    "                valores_l.append(1/predicciones[i,l].numpy())\n",
    "            precision.update_state(labels, predicciones)\n",
    "\n",
    "            if precision.result().numpy() >= maximo:\n",
    "                if precision.result().numpy() - maximo >= 0.1:\n",
    "                    ltc.save(os.path.join(model_saves_path,'ltc_epoch_{i}.h5'.format(i=train_epoch+1)))\n",
    "                maximo = precision.result().numpy()\n",
    "                step_max = step+1\n",
    "\n",
    "            clear_output(wait=True)\n",
    "            print(\"Step: \",step+1, \" Learning rate: \", optimizador.lr.numpy())\n",
    "            print(\"Train Epoch: \",train_epoch+1, \" Train batch: \",dataset.train_batch_index,\"/\",dataset.train_batches)\n",
    "            print(\"Train_Loss: \",valor_perdida.numpy(),\" Train_Accuracy: \",precision.result().numpy())\n",
    "            print(\"Tain_max_Accuracy: {m} at the step: {s} in the epoch: {e}\".format(m=maximo, s=step_max, e=train_epoch+1))\n",
    "            if train_epoch != 0 and step != 0:\n",
    "                print(\"Epoch: {e} - Eval_Loss: {l} Eval_Accuracy: {a}\".format(e=train_epoch,l=eval_loss[-1],a=eval_accuracy[-1]))\n",
    "            print(\"Value of L = {n}\".format(n = np.mean(valores_l)))\n",
    "\n",
    "    with tf.device('/CPU:0'):\n",
    "        #Actualizacion del valor del lr segun lipschitz\n",
    "        L = np.mean(valores_l)\n",
    "        keras.backend.set_value(optimizador.lr, 1/L)\n",
    "        \n",
    "        train_loss.append(valor_perdida.numpy())\n",
    "        train_accuracy.append(precision.result().numpy())\n",
    "        precision.reset_states()\n",
    "                \n",
    "    keras.backend.set_learning_phase(False)\n",
    "    for step in range(dataset.test_batches):\n",
    "        with tf.device('/GPU:0'):\n",
    "            batch, labels = dataset.get_next_test_batch(canales)\n",
    "            predicciones = ltc(batch)\n",
    "            valor_perdida_eval = perdida(labels, predicciones)\n",
    "            precision.update_state(labels, predicciones)\n",
    "        \n",
    "    with tf.device('/CPU:0'):\n",
    "        eval_loss.append(valor_perdida_eval.numpy())\n",
    "        eval_accuracy.append(precision.result().numpy())\n",
    "        precision.reset_states()"
   ]
  },
  {
   "cell_type": "markdown",
   "metadata": {},
   "source": [
    "### Guardado del modelo "
   ]
  },
  {
   "cell_type": "code",
   "execution_count": 20,
   "metadata": {},
   "outputs": [],
   "source": [
    "#Salvado final definitivo del modelo una vez se detenga\n",
    "ltc.save(os.path.join(ltc_save_path,\"ltc_final_{e}.h5\".format(e=epochs)))"
   ]
  },
  {
   "cell_type": "markdown",
   "metadata": {},
   "source": [
    "### Graficas de los resultados de entrenamiento"
   ]
  },
  {
   "cell_type": "code",
   "execution_count": 21,
   "metadata": {},
   "outputs": [
    {
     "data": {
      "image/png": "[encoded data removed]",
      "text/plain": [
       "<Figure size 432x288 with 1 Axes>"
      ]
     },
     "metadata": {
      "needs_background": "light"
     },
     "output_type": "display_data"
    }
   ],
   "source": [
    "fig = plt.figure()\n",
    "plt.plot(train_loss,'k--')\n",
    "plt.plot(eval_loss,'b--')\n",
    "plt.title('Loss over epochs')\n",
    "plt.legend(labels=[\"Loss\",\"Val_Loss\"])\n",
    "plt.show()\n",
    "fig.savefig(os.path.join(ltc_save_path,'train_loss_epoch_{e}.png'.format(e=epochs)))"
   ]
  },
  {
   "cell_type": "code",
   "execution_count": 22,
   "metadata": {},
   "outputs": [
    {
     "data": {
      "image/png": "[encoded data removed]",
      "text/plain": [
       "<Figure size 432x288 with 1 Axes>"
      ]
     },
     "metadata": {
      "needs_background": "light"
     },
     "output_type": "display_data"
    }
   ],
   "source": [
    "fig = plt.figure()\n",
    "plt.plot(train_accuracy,'k--')\n",
    "plt.plot(eval_accuracy,'b--')\n",
    "plt.title('Accuracy over epochs')\n",
    "plt.legend(labels=[\"Accuracy\",\"Val_Accuracy\"])\n",
    "plt.show()\n",
    "fig.savefig(os.path.join(ltc_save_path,'train_accuracy_epoch_{e}.png'.format(e=epochs)))"
   ]
  },
  {
   "cell_type": "markdown",
   "metadata": {},
   "source": [
    "### Evaluacion del entrenamiento"
   ]
  },
  {
   "cell_type": "raw",
   "metadata": {},
   "source": [
    "keras.backend.set_learning_phase(False)\n",
    "for step in range(dataset.test_batches):\n",
    "    with tf.device('/GPU:0'):\n",
    "        batch, labels = dataset.get_next_test_batch(canales)\n",
    "        predicciones = ltc(batch)\n",
    "        valor_perdida = perdida(labels, predicciones)\n",
    "        precision.update_state(labels, predicciones)\n",
    "print(\"\"\"Los resultados de la evaluacion del modelo fueron: \n",
    "Perdida: {l}\n",
    "Precision: {a}\"\"\".format(l=valor_perdida.numpy(),a=precision.result().numpy()))\n",
    "precision.reset_states()"
   ]
  }
 ],
 "metadata": {
  "kernelspec": {
   "display_name": "Python 3",
   "language": "python",
   "name": "python3"
  },
  "language_info": {
   "codemirror_mode": {
    "name": "ipython",
    "version": 3
   },
   "file_extension": ".py",
   "mimetype": "text/x-python",
   "name": "python",
   "nbconvert_exporter": "python",
   "pygments_lexer": "ipython3",
   "version": "3.6.9"
  }
 },
 "nbformat": 4,
 "nbformat_minor": 2
}
