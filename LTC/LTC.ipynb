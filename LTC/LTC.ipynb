{
 "cells": [
  {
   "cell_type": "markdown",
   "metadata": {},
   "source": [
    "# Configuracion de grafica a usar"
   ]
  },
  {
   "cell_type": "code",
   "execution_count": 1,
   "metadata": {},
   "outputs": [],
   "source": [
    "import os\n",
    "os.environ[\"CUDA_DEVICE_ORDER\"]=\"PCI_BUS_ID\";\n",
    " \n",
    "# lA ID de la GPU a usar, puede ser desde 0 hasta las N GPU's. Si es -1 significa que es en la CPU\n",
    "os.environ[\"CUDA_VISIBLE_DEVICES\"]=\"1\";"
   ]
  },
  {
   "cell_type": "markdown",
   "metadata": {},
   "source": [
    "# Importacion de librerias"
   ]
  },
  {
   "cell_type": "code",
   "execution_count": 34,
   "metadata": {},
   "outputs": [],
   "source": [
    "from __future__ import absolute_import, division, print_function, unicode_literals\n",
    "import tensorflow as tf\n",
    "from tensorflow import keras\n",
    "from IPython.display import display, clear_output\n",
    "\n",
    "%matplotlib inline\n",
    "import sys\n",
    "import seaborn as sns\n",
    "import plotly\n",
    "import matplotlib.pyplot as plt\n",
    "sys.path.append('../')\n",
    "from Datasets_utils.DatasetsLoader import VideoDataGenerator"
   ]
  },
  {
   "cell_type": "markdown",
   "metadata": {},
   "source": [
    "# Configuraciones para Tensorflow y Keras"
   ]
  },
  {
   "cell_type": "code",
   "execution_count": 3,
   "metadata": {},
   "outputs": [
    {
     "name": "stdout",
     "output_type": "stream",
     "text": [
      "Num GPUs Available:  1\n"
     ]
    }
   ],
   "source": [
    "print(\"Num GPUs Available: \", len(tf.config.experimental.list_physical_devices('GPU')))"
   ]
  },
  {
   "cell_type": "code",
   "execution_count": 4,
   "metadata": {},
   "outputs": [],
   "source": [
    "gpus = tf.config.experimental.list_physical_devices('GPU')\n",
    "tf.config.experimental.set_memory_growth(gpus[0], True)"
   ]
  },
  {
   "cell_type": "code",
   "execution_count": 5,
   "metadata": {},
   "outputs": [],
   "source": [
    "tf.debugging.set_log_device_placement(False)"
   ]
  },
  {
   "cell_type": "code",
   "execution_count": 6,
   "metadata": {},
   "outputs": [
    {
     "data": {
      "text/plain": [
       "True"
      ]
     },
     "execution_count": 6,
     "metadata": {},
     "output_type": "execute_result"
    }
   ],
   "source": [
    "#Comprobar que estoy ejecutandome en modo eagerly\n",
    "tf.executing_eagerly()"
   ]
  },
  {
   "cell_type": "markdown",
   "metadata": {},
   "source": [
    "# Carga de Datos"
   ]
  },
  {
   "cell_type": "code",
   "execution_count": 7,
   "metadata": {},
   "outputs": [
    {
     "data": {
      "text/plain": [
       "'/home/jefelitman/DataSets/ucf101/split_1'"
      ]
     },
     "execution_count": 7,
     "metadata": {},
     "output_type": "execute_result"
    }
   ],
   "source": [
    "root_path = \"/home/jefelitman/DataSets/ucf101/split_1\"\n",
    "root_path"
   ]
  },
  {
   "cell_type": "code",
   "execution_count": 8,
   "metadata": {},
   "outputs": [],
   "source": [
    "batch = 30\n",
    "original_size = [171,128]\n",
    "size = [112,112]\n",
    "frames = 16\n",
    "canales = 3"
   ]
  },
  {
   "cell_type": "code",
   "execution_count": 9,
   "metadata": {},
   "outputs": [],
   "source": [
    "dataset = VideoDataGenerator(directory_path = root_path, \n",
    "                             batch_size = batch, \n",
    "                             original_frame_size = original_size, \n",
    "                             frame_size=size, \n",
    "                             video_frames = frames, \n",
    "                             temporal_crop = ('random', 4), \n",
    "                             frame_crop = ('random', 2), \n",
    "                             shuffle = True, \n",
    "                             conserve_original = True)"
   ]
  },
  {
   "cell_type": "markdown",
   "metadata": {},
   "source": [
    "# Red Neuronal LTC"
   ]
  },
  {
   "cell_type": "markdown",
   "metadata": {},
   "source": [
    "### Construccion del modelo"
   ]
  },
  {
   "cell_type": "code",
   "execution_count": 10,
   "metadata": {},
   "outputs": [],
   "source": [
    "#Entrada de la red neuronal\n",
    "video_shape = tuple([frames]+size+[canales])\n",
    "dropout = 0.5\n",
    "entrenamiento = True\n",
    "lr = 1e-3"
   ]
  },
  {
   "cell_type": "code",
   "execution_count": null,
   "metadata": {},
   "outputs": [],
   "source": [
    "entrada = keras.Input(shape=video_shape,\n",
    "                     batch_size=batch,\n",
    "                     name=\"Input_video\")\n",
    "#Conv1\n",
    "x = keras.layers.Conv3D(filters=64, kernel_size=3, padding=\"same\", activation=\"relu\", use_bias=False)(entrada)\n",
    "x = keras.layers.MaxPool3D(pool_size=(1,2,2),strides=(1,2,2))(x)\n",
    "\n",
    "#Conv2\n",
    "x = keras.layers.Conv3D(filters=128, kernel_size=3, padding=\"same\", activation=\"relu\", use_bias=False)(x)\n",
    "x = keras.layers.MaxPool3D(pool_size=(2,2,2),strides=(2,2,2))(x)\n",
    "\n",
    "#Conv3\n",
    "x = keras.layers.Conv3D(filters=256, kernel_size=3, padding=\"same\", activation=\"relu\", use_bias=False)(x)\n",
    "x = keras.layers.MaxPool3D(pool_size=(2,2,2),strides=(2,2,2))(x)\n",
    "\n",
    "#Conv4\n",
    "x = keras.layers.Conv3D(filters=256, kernel_size=3, padding=\"same\", activation=\"relu\", use_bias=False)(x)\n",
    "x = keras.layers.MaxPool3D(pool_size=(2,2,2),strides=(2,2,2))(x)\n",
    "\n",
    "#Conv5\n",
    "x = keras.layers.Conv3D(filters=256, kernel_size=3, padding=\"same\", activation=\"relu\", use_bias=False)(x)\n",
    "x = keras.layers.MaxPool3D(pool_size=(2,2,2),strides=(1,1,1))(x)\n",
    "\n",
    "#fc6\n",
    "x = tf.reshape(tensor=x, shape=[batch,-1], name=\"Aplanado\")\n",
    "x = keras.layers.Dense(2048, activation=\"relu\")(x)\n",
    "x = keras.layers.Dropout(dropout)(x, training=entrenamiento)\n",
    "\n",
    "#fc7\n",
    "x = keras.layers.Dense(2048, activation=\"relu\")(x)\n",
    "x = keras.layers.Dropout(dropout)(x, training=entrenamiento)\n",
    "\n",
    "#fc8\n",
    "salidas= keras.layers.Dense(len(dataset.to_class), activation=\"softmax\")(x)\n",
    "\n",
    "ltc = keras.Model(entrada, salidas, name=\"LTC\")"
   ]
  },
  {
   "cell_type": "code",
   "execution_count": 11,
   "metadata": {},
   "outputs": [],
   "source": [
    "#Optimizador del modelo\n",
    "optimizador = keras.optimizers.SGD(learning_rate=lr)\n",
    "perdida = keras.losses.SparseCategoricalCrossentropy()"
   ]
  },
  {
   "cell_type": "code",
   "execution_count": null,
   "metadata": {},
   "outputs": [],
   "source": [
    "#keras.utils.plot_model(ltc, 'LTC.png', show_shapes=True)"
   ]
  },
  {
   "cell_type": "code",
   "execution_count": 12,
   "metadata": {},
   "outputs": [
    {
     "name": "stdout",
     "output_type": "stream",
     "text": [
      "WARNING:tensorflow:No training configuration found in save file: the model was *not* compiled. Compile it manually.\n"
     ]
    }
   ],
   "source": [
    "ltc = keras.models.load_model('/home/jefelitman/Saved_Models/LTC_112x112x16_rgb_batch30/ltc.h5')"
   ]
  },
  {
   "cell_type": "code",
   "execution_count": 13,
   "metadata": {},
   "outputs": [
    {
     "name": "stdout",
     "output_type": "stream",
     "text": [
      "Model: \"LTC\"\n",
      "_________________________________________________________________\n",
      "Layer (type)                 Output Shape              Param #   \n",
      "=================================================================\n",
      "Input_video (InputLayer)     [(30, 16, 112, 112, 3)]   0         \n",
      "_________________________________________________________________\n",
      "conv3d (Conv3D)              (30, 16, 112, 112, 64)    5184      \n",
      "_________________________________________________________________\n",
      "max_pooling3d (MaxPooling3D) (30, 16, 56, 56, 64)      0         \n",
      "_________________________________________________________________\n",
      "conv3d_1 (Conv3D)            (30, 16, 56, 56, 128)     221184    \n",
      "_________________________________________________________________\n",
      "max_pooling3d_1 (MaxPooling3 (30, 8, 28, 28, 128)      0         \n",
      "_________________________________________________________________\n",
      "conv3d_2 (Conv3D)            (30, 8, 28, 28, 256)      884736    \n",
      "_________________________________________________________________\n",
      "max_pooling3d_2 (MaxPooling3 (30, 4, 14, 14, 256)      0         \n",
      "_________________________________________________________________\n",
      "conv3d_3 (Conv3D)            (30, 4, 14, 14, 256)      1769472   \n",
      "_________________________________________________________________\n",
      "max_pooling3d_3 (MaxPooling3 (30, 2, 7, 7, 256)        0         \n",
      "_________________________________________________________________\n",
      "conv3d_4 (Conv3D)            (30, 2, 7, 7, 256)        1769472   \n",
      "_________________________________________________________________\n",
      "max_pooling3d_4 (MaxPooling3 (30, 1, 6, 6, 256)        0         \n",
      "_________________________________________________________________\n",
      "tf_op_layer_Aplanado (Tensor (30, 9216)                0         \n",
      "_________________________________________________________________\n",
      "dense (Dense)                (30, 2048)                18876416  \n",
      "_________________________________________________________________\n",
      "dropout (Dropout)            (30, 2048)                0         \n",
      "_________________________________________________________________\n",
      "dense_1 (Dense)              (30, 2048)                4196352   \n",
      "_________________________________________________________________\n",
      "dropout_1 (Dropout)          (30, 2048)                0         \n",
      "_________________________________________________________________\n",
      "dense_2 (Dense)              (30, 101)                 206949    \n",
      "=================================================================\n",
      "Total params: 27,929,765\n",
      "Trainable params: 27,929,765\n",
      "Non-trainable params: 0\n",
      "_________________________________________________________________\n"
     ]
    }
   ],
   "source": [
    "ltc.summary()"
   ]
  },
  {
   "cell_type": "markdown",
   "metadata": {},
   "source": [
    "### Entrenamiento de la red"
   ]
  },
  {
   "cell_type": "code",
   "execution_count": 14,
   "metadata": {},
   "outputs": [],
   "source": [
    "def precision(y, y_predicho):\n",
    "    clases = tf.argmax(y_predicho, axis=1)\n",
    "    comparaciones = tf.equal(y, clases)\n",
    "    return tf.reduce_mean(tf.cast(comparaciones, tf.int32))"
   ]
  },
  {
   "cell_type": "code",
   "execution_count": 15,
   "metadata": {},
   "outputs": [],
   "source": [
    "step = 1\n",
    "train_epoch = 1\n",
    "train_loss = []\n",
    "train_accuracy = []\n",
    "maximo = -1\n",
    "step_max = 0"
   ]
  },
  {
   "cell_type": "code",
   "execution_count": 16,
   "metadata": {},
   "outputs": [
    {
     "name": "stdout",
     "output_type": "stream",
     "text": [
      "Step:  58077\n",
      "Train Epoch:  5  Train batch:  1 / 14519\n",
      "Train_Loss:  0.053884998  Train_Acuraccy:  0\n",
      "Tain_max_Acuraccy: 1 at the step: 13146\n"
     ]
    },
    {
     "ename": "KeyboardInterrupt",
     "evalue": "",
     "output_type": "error",
     "traceback": [
      "\u001b[0;31m---------------------------------------------------------------------------\u001b[0m",
      "\u001b[0;31mKeyboardInterrupt\u001b[0m                         Traceback (most recent call last)",
      "\u001b[0;32m<ipython-input-16-a32e650067ab>\u001b[0m in \u001b[0;36m<module>\u001b[0;34m\u001b[0m\n\u001b[1;32m     30\u001b[0m     \u001b[0mprint\u001b[0m\u001b[0;34m(\u001b[0m\u001b[0;34m\"Tain_max_Acuraccy: {m} at the step: {s}\"\u001b[0m\u001b[0;34m.\u001b[0m\u001b[0mformat\u001b[0m\u001b[0;34m(\u001b[0m\u001b[0mm\u001b[0m\u001b[0;34m=\u001b[0m\u001b[0mmaximo\u001b[0m\u001b[0;34m,\u001b[0m \u001b[0ms\u001b[0m\u001b[0;34m=\u001b[0m\u001b[0mstep_max\u001b[0m\u001b[0;34m)\u001b[0m\u001b[0;34m)\u001b[0m\u001b[0;34m\u001b[0m\u001b[0;34m\u001b[0m\u001b[0m\n\u001b[1;32m     31\u001b[0m \u001b[0;34m\u001b[0m\u001b[0m\n\u001b[0;32m---> 32\u001b[0;31m     \u001b[0mgrads\u001b[0m \u001b[0;34m=\u001b[0m \u001b[0mtape\u001b[0m\u001b[0;34m.\u001b[0m\u001b[0mgradient\u001b[0m\u001b[0;34m(\u001b[0m\u001b[0mvalor_perdida\u001b[0m\u001b[0;34m,\u001b[0m \u001b[0mltc\u001b[0m\u001b[0;34m.\u001b[0m\u001b[0mtrainable_weights\u001b[0m\u001b[0;34m)\u001b[0m\u001b[0;34m\u001b[0m\u001b[0;34m\u001b[0m\u001b[0m\n\u001b[0m\u001b[1;32m     33\u001b[0m \u001b[0;34m\u001b[0m\u001b[0m\n\u001b[1;32m     34\u001b[0m     \u001b[0moptimizador\u001b[0m\u001b[0;34m.\u001b[0m\u001b[0mapply_gradients\u001b[0m\u001b[0;34m(\u001b[0m\u001b[0mzip\u001b[0m\u001b[0;34m(\u001b[0m\u001b[0mgrads\u001b[0m\u001b[0;34m,\u001b[0m \u001b[0mltc\u001b[0m\u001b[0;34m.\u001b[0m\u001b[0mtrainable_weights\u001b[0m\u001b[0;34m)\u001b[0m\u001b[0;34m)\u001b[0m\u001b[0;34m\u001b[0m\u001b[0;34m\u001b[0m\u001b[0m\n",
      "\u001b[0;32m/usr/local/lib/python3.6/dist-packages/tensorflow_core/python/eager/backprop.py\u001b[0m in \u001b[0;36mgradient\u001b[0;34m(self, target, sources, output_gradients, unconnected_gradients)\u001b[0m\n\u001b[1;32m   1012\u001b[0m         \u001b[0moutput_gradients\u001b[0m\u001b[0;34m=\u001b[0m\u001b[0moutput_gradients\u001b[0m\u001b[0;34m,\u001b[0m\u001b[0;34m\u001b[0m\u001b[0;34m\u001b[0m\u001b[0m\n\u001b[1;32m   1013\u001b[0m         \u001b[0msources_raw\u001b[0m\u001b[0;34m=\u001b[0m\u001b[0mflat_sources_raw\u001b[0m\u001b[0;34m,\u001b[0m\u001b[0;34m\u001b[0m\u001b[0;34m\u001b[0m\u001b[0m\n\u001b[0;32m-> 1014\u001b[0;31m         unconnected_gradients=unconnected_gradients)\n\u001b[0m\u001b[1;32m   1015\u001b[0m \u001b[0;34m\u001b[0m\u001b[0m\n\u001b[1;32m   1016\u001b[0m     \u001b[0;32mif\u001b[0m \u001b[0;32mnot\u001b[0m \u001b[0mself\u001b[0m\u001b[0;34m.\u001b[0m\u001b[0m_persistent\u001b[0m\u001b[0;34m:\u001b[0m\u001b[0;34m\u001b[0m\u001b[0;34m\u001b[0m\u001b[0m\n",
      "\u001b[0;32m/usr/local/lib/python3.6/dist-packages/tensorflow_core/python/eager/imperative_grad.py\u001b[0m in \u001b[0;36mimperative_grad\u001b[0;34m(tape, target, sources, output_gradients, sources_raw, unconnected_gradients)\u001b[0m\n\u001b[1;32m     74\u001b[0m       \u001b[0moutput_gradients\u001b[0m\u001b[0;34m,\u001b[0m\u001b[0;34m\u001b[0m\u001b[0;34m\u001b[0m\u001b[0m\n\u001b[1;32m     75\u001b[0m       \u001b[0msources_raw\u001b[0m\u001b[0;34m,\u001b[0m\u001b[0;34m\u001b[0m\u001b[0;34m\u001b[0m\u001b[0m\n\u001b[0;32m---> 76\u001b[0;31m       compat.as_str(unconnected_gradients.value))\n\u001b[0m",
      "\u001b[0;32m/usr/local/lib/python3.6/dist-packages/tensorflow_core/python/eager/backprop.py\u001b[0m in \u001b[0;36m_gradient_function\u001b[0;34m(op_name, attr_tuple, num_inputs, inputs, outputs, out_grads, skip_input_indices)\u001b[0m\n\u001b[1;32m    136\u001b[0m     \u001b[0;32mreturn\u001b[0m \u001b[0;34m[\u001b[0m\u001b[0;32mNone\u001b[0m\u001b[0;34m]\u001b[0m \u001b[0;34m*\u001b[0m \u001b[0mnum_inputs\u001b[0m\u001b[0;34m\u001b[0m\u001b[0;34m\u001b[0m\u001b[0m\n\u001b[1;32m    137\u001b[0m \u001b[0;34m\u001b[0m\u001b[0m\n\u001b[0;32m--> 138\u001b[0;31m   \u001b[0;32mreturn\u001b[0m \u001b[0mgrad_fn\u001b[0m\u001b[0;34m(\u001b[0m\u001b[0mmock_op\u001b[0m\u001b[0;34m,\u001b[0m \u001b[0;34m*\u001b[0m\u001b[0mout_grads\u001b[0m\u001b[0;34m)\u001b[0m\u001b[0;34m\u001b[0m\u001b[0;34m\u001b[0m\u001b[0m\n\u001b[0m\u001b[1;32m    139\u001b[0m \u001b[0;34m\u001b[0m\u001b[0m\n\u001b[1;32m    140\u001b[0m \u001b[0;34m\u001b[0m\u001b[0m\n",
      "\u001b[0;32m/usr/local/lib/python3.6/dist-packages/tensorflow_core/python/ops/nn_grad.py\u001b[0m in \u001b[0;36m_Conv3DGrad\u001b[0;34m(op, grad)\u001b[0m\n\u001b[1;32m    151\u001b[0m   return [\n\u001b[1;32m    152\u001b[0m       nn_ops.conv3d_backprop_input_v2(\n\u001b[0;32m--> 153\u001b[0;31m           \u001b[0marray_ops\u001b[0m\u001b[0;34m.\u001b[0m\u001b[0mshape\u001b[0m\u001b[0;34m(\u001b[0m\u001b[0mop\u001b[0m\u001b[0;34m.\u001b[0m\u001b[0minputs\u001b[0m\u001b[0;34m[\u001b[0m\u001b[0;36m0\u001b[0m\u001b[0;34m]\u001b[0m\u001b[0;34m)\u001b[0m\u001b[0;34m,\u001b[0m\u001b[0;34m\u001b[0m\u001b[0;34m\u001b[0m\u001b[0m\n\u001b[0m\u001b[1;32m    154\u001b[0m           \u001b[0mop\u001b[0m\u001b[0;34m.\u001b[0m\u001b[0minputs\u001b[0m\u001b[0;34m[\u001b[0m\u001b[0;36m1\u001b[0m\u001b[0;34m]\u001b[0m\u001b[0;34m,\u001b[0m\u001b[0;34m\u001b[0m\u001b[0;34m\u001b[0m\u001b[0m\n\u001b[1;32m    155\u001b[0m           \u001b[0mgrad\u001b[0m\u001b[0;34m,\u001b[0m\u001b[0;34m\u001b[0m\u001b[0;34m\u001b[0m\u001b[0m\n",
      "\u001b[0;32m/usr/local/lib/python3.6/dist-packages/tensorflow_core/python/ops/array_ops.py\u001b[0m in \u001b[0;36mshape\u001b[0;34m(input, name, out_type)\u001b[0m\n\u001b[1;32m    456\u001b[0m     \u001b[0mA\u001b[0m\u001b[0;31m \u001b[0m\u001b[0;31m`\u001b[0m\u001b[0mTensor\u001b[0m\u001b[0;31m`\u001b[0m \u001b[0mof\u001b[0m \u001b[0mtype\u001b[0m\u001b[0;31m \u001b[0m\u001b[0;31m`\u001b[0m\u001b[0mout_type\u001b[0m\u001b[0;31m`\u001b[0m\u001b[0;34m.\u001b[0m\u001b[0;34m\u001b[0m\u001b[0;34m\u001b[0m\u001b[0m\n\u001b[1;32m    457\u001b[0m   \"\"\"\n\u001b[0;32m--> 458\u001b[0;31m   \u001b[0;32mreturn\u001b[0m \u001b[0mshape_internal\u001b[0m\u001b[0;34m(\u001b[0m\u001b[0minput\u001b[0m\u001b[0;34m,\u001b[0m \u001b[0mname\u001b[0m\u001b[0;34m,\u001b[0m \u001b[0moptimize\u001b[0m\u001b[0;34m=\u001b[0m\u001b[0;32mTrue\u001b[0m\u001b[0;34m,\u001b[0m \u001b[0mout_type\u001b[0m\u001b[0;34m=\u001b[0m\u001b[0mout_type\u001b[0m\u001b[0;34m)\u001b[0m\u001b[0;34m\u001b[0m\u001b[0;34m\u001b[0m\u001b[0m\n\u001b[0m\u001b[1;32m    459\u001b[0m \u001b[0;34m\u001b[0m\u001b[0m\n\u001b[1;32m    460\u001b[0m \u001b[0;34m\u001b[0m\u001b[0m\n",
      "\u001b[0;32m/usr/local/lib/python3.6/dist-packages/tensorflow_core/python/ops/array_ops.py\u001b[0m in \u001b[0;36mshape_internal\u001b[0;34m(input, name, optimize, out_type)\u001b[0m\n\u001b[1;32m    484\u001b[0m         \u001b[0;32mif\u001b[0m \u001b[0moptimize\u001b[0m \u001b[0;32mand\u001b[0m \u001b[0minput_shape\u001b[0m\u001b[0;34m.\u001b[0m\u001b[0mis_fully_defined\u001b[0m\u001b[0;34m(\u001b[0m\u001b[0;34m)\u001b[0m\u001b[0;34m:\u001b[0m\u001b[0;34m\u001b[0m\u001b[0;34m\u001b[0m\u001b[0m\n\u001b[1;32m    485\u001b[0m           \u001b[0;32mreturn\u001b[0m \u001b[0mconstant\u001b[0m\u001b[0;34m(\u001b[0m\u001b[0minput_shape\u001b[0m\u001b[0;34m.\u001b[0m\u001b[0mas_list\u001b[0m\u001b[0;34m(\u001b[0m\u001b[0;34m)\u001b[0m\u001b[0;34m,\u001b[0m \u001b[0mout_type\u001b[0m\u001b[0;34m,\u001b[0m \u001b[0mname\u001b[0m\u001b[0;34m=\u001b[0m\u001b[0mname\u001b[0m\u001b[0;34m)\u001b[0m\u001b[0;34m\u001b[0m\u001b[0;34m\u001b[0m\u001b[0m\n\u001b[0;32m--> 486\u001b[0;31m       \u001b[0;32mreturn\u001b[0m \u001b[0mgen_array_ops\u001b[0m\u001b[0;34m.\u001b[0m\u001b[0mshape\u001b[0m\u001b[0;34m(\u001b[0m\u001b[0minput\u001b[0m\u001b[0;34m,\u001b[0m \u001b[0mname\u001b[0m\u001b[0;34m=\u001b[0m\u001b[0mname\u001b[0m\u001b[0;34m,\u001b[0m \u001b[0mout_type\u001b[0m\u001b[0;34m=\u001b[0m\u001b[0mout_type\u001b[0m\u001b[0;34m)\u001b[0m\u001b[0;34m\u001b[0m\u001b[0;34m\u001b[0m\u001b[0m\n\u001b[0m\u001b[1;32m    487\u001b[0m \u001b[0;34m\u001b[0m\u001b[0m\n\u001b[1;32m    488\u001b[0m \u001b[0;34m\u001b[0m\u001b[0m\n",
      "\u001b[0;32m/usr/local/lib/python3.6/dist-packages/tensorflow_core/python/ops/gen_array_ops.py\u001b[0m in \u001b[0;36mshape\u001b[0;34m(input, out_type, name)\u001b[0m\n\u001b[1;32m   8959\u001b[0m       _result = _pywrap_tensorflow.TFE_Py_FastPathExecute(\n\u001b[1;32m   8960\u001b[0m         \u001b[0m_ctx\u001b[0m\u001b[0;34m.\u001b[0m\u001b[0m_context_handle\u001b[0m\u001b[0;34m,\u001b[0m \u001b[0m_ctx\u001b[0m\u001b[0;34m.\u001b[0m\u001b[0m_thread_local_data\u001b[0m\u001b[0;34m.\u001b[0m\u001b[0mdevice_name\u001b[0m\u001b[0;34m,\u001b[0m \u001b[0;34m\"Shape\"\u001b[0m\u001b[0;34m,\u001b[0m\u001b[0;34m\u001b[0m\u001b[0;34m\u001b[0m\u001b[0m\n\u001b[0;32m-> 8961\u001b[0;31m         name, _ctx._post_execution_callbacks, input, \"out_type\", out_type)\n\u001b[0m\u001b[1;32m   8962\u001b[0m       \u001b[0;32mreturn\u001b[0m \u001b[0m_result\u001b[0m\u001b[0;34m\u001b[0m\u001b[0;34m\u001b[0m\u001b[0m\n\u001b[1;32m   8963\u001b[0m     \u001b[0;32mexcept\u001b[0m \u001b[0m_core\u001b[0m\u001b[0;34m.\u001b[0m\u001b[0m_FallbackException\u001b[0m\u001b[0;34m:\u001b[0m\u001b[0;34m\u001b[0m\u001b[0;34m\u001b[0m\u001b[0m\n",
      "\u001b[0;31mKeyboardInterrupt\u001b[0m: "
     ]
    }
   ],
   "source": [
    "while train_epoch < 5:\n",
    "    if step % 1000 == 0:\n",
    "        ltc.save('/home/jefelitman/Saved_Models/LTC_112x112x16_rgb_batch30/ltc.h5')\n",
    "        print('Modelo salvado en la iteracion: {i}'.format(i=step))\n",
    "        \n",
    "    if step == 80000 or step == 125000:\n",
    "        lr = lr * 0.1\n",
    "        optimizador = keras.optimizers.SGD(learning_rate=lr)\n",
    "    \n",
    "    if dataset.train_batch_index == dataset.train_batches:\n",
    "        train_epoch += 1\n",
    "    \n",
    "    batch, labels = dataset.get_next_train_batch(canales)\n",
    "    \n",
    "    with tf.GradientTape() as tape:\n",
    "        predicciones = ltc(batch)\n",
    "        valor_perdida = perdida(labels, predicciones)\n",
    "    \n",
    "    with tf.device('/CPU:0'):\n",
    "        train_loss.append(valor_perdida)    \n",
    "        train_accuracy.append(precision(labels, predicciones))\n",
    "\n",
    "        if train_accuracy[-1] > maximo:\n",
    "            maximo = train_accuracy[-1]\n",
    "            step_max = step\n",
    "\n",
    "        clear_output(wait=True)\n",
    "        print(\"Step: \",step)\n",
    "        print(\"Train Epoch: \",train_epoch, \" Train batch: \",dataset.train_batch_index,\"/\",dataset.train_batches)\n",
    "        print(\"Train_Loss: \",train_loss[-1].numpy(),\" Train_Acuraccy: \",train_accuracy[-1].numpy())\n",
    "        print(\"Tain_max_Acuraccy: {m} at the step: {s}\".format(m=maximo, s=step_max))\n",
    "        \n",
    "    grads = tape.gradient(valor_perdida, ltc.trainable_weights)\n",
    "    \n",
    "    optimizador.apply_gradients(zip(grads, ltc.trainable_weights))\n",
    "    \n",
    "    step += 1"
   ]
  },
  {
   "cell_type": "markdown",
   "metadata": {},
   "source": [
    "### Graficas de los resultados de entrenamiento"
   ]
  },
  {
   "cell_type": "code",
   "execution_count": 42,
   "metadata": {},
   "outputs": [
    {
     "data": {
      "image/png": "[encoded data removed]",
      "text/plain": [
       "<Figure size 432x288 with 1 Axes>"
      ]
     },
     "metadata": {
      "needs_background": "light"
     },
     "output_type": "display_data"
    }
   ],
   "source": [
    "fig = plt.figure()\n",
    "plt.plot(range(len(train_loss)), train_loss,'k--')\n",
    "plt.title('Loss over steps')\n",
    "plt.show()\n",
    "fig.savefig('/home/jefelitman/Saved_Models/LTC_112x112x16_rgb_batch30/train_loss.png')"
   ]
  },
  {
   "cell_type": "code",
   "execution_count": 43,
   "metadata": {},
   "outputs": [
    {
     "data": {
      "image/png": "[encoded data removed]",
      "text/plain": [
       "<Figure size 432x288 with 1 Axes>"
      ]
     },
     "metadata": {
      "needs_background": "light"
     },
     "output_type": "display_data"
    }
   ],
   "source": [
    "fig = plt.figure()\n",
    "plt.plot(range(len(train_accuracy)), train_accuracy,'k--')\n",
    "plt.title('Accuracy over steps')\n",
    "plt.show()\n",
    "fig.savefig('/home/jefelitman/Saved_Models/LTC_112x112x16_rgb_batch30/train_accuracy.png')"
   ]
  },
  {
   "cell_type": "markdown",
   "metadata": {},
   "source": [
    "### Evaluacion del entrenamiento"
   ]
  },
  {
   "cell_type": "code",
   "execution_count": 30,
   "metadata": {},
   "outputs": [
    {
     "ename": "SyntaxError",
     "evalue": "can't assign to function call (<ipython-input-30-436adb5f60eb>, line 1)",
     "output_type": "error",
     "traceback": [
      "\u001b[0;36m  File \u001b[0;32m\"<ipython-input-30-436adb5f60eb>\"\u001b[0;36m, line \u001b[0;32m1\u001b[0m\n\u001b[0;31m    ltc.get_layer(index=13) = keras.layers.Dropout(dropout)(x, training=False)\u001b[0m\n\u001b[0m                                                                              ^\u001b[0m\n\u001b[0;31mSyntaxError\u001b[0m\u001b[0;31m:\u001b[0m can't assign to function call\n"
     ]
    }
   ],
   "source": [
    "ltc.get_layer(index=13)._"
   ]
  },
  {
   "cell_type": "code",
   "execution_count": null,
   "metadata": {},
   "outputs": [
    {
     "name": "stdout",
     "output_type": "stream",
     "text": [
      "Step:  63450\n",
      "Test Epoch:  1  Test batch:  5374 / 5689\n",
      "Test_Loss:  2.466967  Test_Acuraccy:  0\n"
     ]
    }
   ],
   "source": [
    "test_epoch = 1\n",
    "test_loss = []\n",
    "test_accuracy = []\n",
    "entrenamiento = False\n",
    "while test_epoch == 1:\n",
    "    \n",
    "    if dataset.test_batch_index == dataset.test_batches:\n",
    "        test_epoch += 1\n",
    "    \n",
    "    batch, labels = dataset.get_next_test_batch(canales)\n",
    "    \n",
    "    with tf.GradientTape() as tape:\n",
    "        predicciones = ltc(batch)\n",
    "        valor_perdida = perdida(labels, predicciones)\n",
    "    \n",
    "    with tf.device('/CPU:0'):\n",
    "        test_loss.append(valor_perdida)    \n",
    "        test_accuracy.append(precision(labels, predicciones))\n",
    "    \n",
    "        clear_output(wait=True)\n",
    "        print(\"Step: \",step)\n",
    "        print(\"Test Epoch: \",test_epoch, \" Test batch: \",dataset.test_batch_index,\"/\",dataset.test_batches)\n",
    "        print(\"Test_Loss: \",test_loss[-1].numpy(),\" Test_Acuraccy: \",test_accuracy[-1].numpy())\n",
    "    \n",
    "    step += 1"
   ]
  },
  {
   "cell_type": "markdown",
   "metadata": {},
   "source": [
    "### Graficas de los resultados de entrenamiento"
   ]
  },
  {
   "cell_type": "code",
   "execution_count": 46,
   "metadata": {},
   "outputs": [
    {
     "data": {
      "image/png": "[encoded data removed]",
      "text/plain": [
       "<Figure size 432x288 with 1 Axes>"
      ]
     },
     "metadata": {
      "needs_background": "light"
     },
     "output_type": "display_data"
    }
   ],
   "source": [
    "fig = plt.figure()\n",
    "plt.plot(range(len(test_loss)), test_loss,'k--')\n",
    "plt.title('Loss over steps')\n",
    "plt.show()\n",
    "fig.savefig('/home/jefelitman/Saved_Models/LTC_112x112x16_rgb_batch30/test_loss.png')"
   ]
  },
  {
   "cell_type": "code",
   "execution_count": 47,
   "metadata": {},
   "outputs": [
    {
     "data": {
      "image/png": "[encoded data removed]",
      "text/plain": [
       "<Figure size 432x288 with 1 Axes>"
      ]
     },
     "metadata": {
      "needs_background": "light"
     },
     "output_type": "display_data"
    }
   ],
   "source": [
    "fig = plt.figure()\n",
    "plt.plot(range(len(test_accuracy)), test_accuracy,'k--')\n",
    "plt.title('Accuracy over steps')\n",
    "plt.show()\n",
    "fig.savefig('/home/jefelitman/Saved_Models/LTC_112x112x16_rgb_batch30/test_accuracy.png')"
   ]
  }
 ],
 "metadata": {
  "kernelspec": {
   "display_name": "Python 3",
   "language": "python",
   "name": "python3"
  },
  "language_info": {
   "codemirror_mode": {
    "name": "ipython",
    "version": 3
   },
   "file_extension": ".py",
   "mimetype": "text/x-python",
   "name": "python",
   "nbconvert_exporter": "python",
   "pygments_lexer": "ipython3",
   "version": "3.6.8"
  }
 },
 "nbformat": 4,
 "nbformat_minor": 2
}
