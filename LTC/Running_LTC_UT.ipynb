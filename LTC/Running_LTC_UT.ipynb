{
 "cells": [
  {
   "cell_type": "markdown",
   "metadata": {},
   "source": [
    "# Configuracion de grafica a usar"
   ]
  },
  {
   "cell_type": "code",
   "execution_count": 1,
   "metadata": {},
   "outputs": [],
   "source": [
    "import os\n",
    "os.environ[\"CUDA_DEVICE_ORDER\"]=\"PCI_BUS_ID\";\n",
    " \n",
    "# lA ID de la GPU a usar, puede ser desde 0 hasta las N GPU's. Si es -1 significa que es en la CPU\n",
    "os.environ[\"CUDA_VISIBLE_DEVICES\"]=\"1\";"
   ]
  },
  {
   "cell_type": "markdown",
   "metadata": {},
   "source": [
    "# Importacion de librerias"
   ]
  },
  {
   "cell_type": "code",
   "execution_count": 2,
   "metadata": {},
   "outputs": [],
   "source": [
    "from __future__ import absolute_import, division, print_function, unicode_literals\n",
    "import tensorflow as tf\n",
    "from tensorflow import keras\n",
    "from IPython.display import display, clear_output\n",
    "from ipywidgets import interact, IntSlider\n",
    "import h5py\n",
    "import numpy as np\n",
    "\n",
    "%matplotlib inline\n",
    "import sys\n",
    "import matplotlib.pyplot as plt\n",
    "from sklearn.preprocessing import MinMaxScaler\n",
    "from LTC import *\n",
    "sys.path.append('../')\n",
    "from Datasets_utils.DatasetsLoader import VideoDataGenerator"
   ]
  },
  {
   "cell_type": "markdown",
   "metadata": {},
   "source": [
    "# Configuraciones para Tensorflow y Keras"
   ]
  },
  {
   "cell_type": "code",
   "execution_count": 3,
   "metadata": {},
   "outputs": [
    {
     "name": "stdout",
     "output_type": "stream",
     "text": [
      "Num GPUs Available:  1\n"
     ]
    }
   ],
   "source": [
    "print(\"Num GPUs Available: \", len(tf.config.experimental.list_physical_devices('GPU')))"
   ]
  },
  {
   "cell_type": "code",
   "execution_count": 4,
   "metadata": {},
   "outputs": [],
   "source": [
    "gpus = tf.config.experimental.list_physical_devices('GPU')\n",
    "tf.config.experimental.set_memory_growth(gpus[0], True)"
   ]
  },
  {
   "cell_type": "code",
   "execution_count": 5,
   "metadata": {},
   "outputs": [],
   "source": [
    "tf.debugging.set_log_device_placement(False)"
   ]
  },
  {
   "cell_type": "code",
   "execution_count": null,
   "metadata": {},
   "outputs": [],
   "source": [
    "#Comprobar que estoy ejecutandome en modo eagerly\n",
    "tf.executing_eagerly()"
   ]
  },
  {
   "cell_type": "markdown",
   "metadata": {},
   "source": [
    "# Carga de Datos"
   ]
  },
  {
   "cell_type": "code",
   "execution_count": null,
   "metadata": {},
   "outputs": [],
   "source": [
    "root_path = \"/home/jefelitman/DataSets/ut/videos_set_1\"\n",
    "root_path"
   ]
  },
  {
   "cell_type": "code",
   "execution_count": null,
   "metadata": {},
   "outputs": [],
   "source": [
    "batch_size = 12\n",
    "original_size = [171,128]\n",
    "size = [112,112]\n",
    "frames = 16\n",
    "canales = 3"
   ]
  },
  {
   "cell_type": "code",
   "execution_count": null,
   "metadata": {},
   "outputs": [],
   "source": [
    "def custom_steps_temporal(frames):\n",
    "    mitad = len(frames)//2\n",
    "    paso = len(frames)//16\n",
    "    videos = []\n",
    "    for i in range(paso):\n",
    "        indices = range(i, len(frames),paso)\n",
    "        videos.append([frames[j] for j in indices[:16]])\n",
    "    return videos"
   ]
  },
  {
   "cell_type": "code",
   "execution_count": null,
   "metadata": {},
   "outputs": [],
   "source": [
    "def custom_temp_crop_unique(frames):\n",
    "    mitad = len(frames)//2\n",
    "    paso = len(frames)//16\n",
    "    indices = sorted(list(range(mitad, -1,-paso)) + list(range(mitad+paso, len(frames),paso)))\n",
    "    indices = indices[len(indices)//2 - 8 : len(indices)//2 + 8]\n",
    "    return [[frames[i] for i in indices]]"
   ]
  },
  {
   "cell_type": "code",
   "execution_count": null,
   "metadata": {},
   "outputs": [],
   "source": [
    "def half_video_temporal(frames):\n",
    "    mitad = len(frames)//2\n",
    "    return [frames[mitad-8*2:mitad+8*2]]"
   ]
  },
  {
   "cell_type": "code",
   "execution_count": null,
   "metadata": {},
   "outputs": [],
   "source": [
    "def video_transf(video):\n",
    "    escalador = MinMaxScaler()\n",
    "    new_video = video.reshape((video.shape[0]*video.shape[1]*video.shape[2]*video.shape[3],1))\n",
    "    new_video = escalador.fit_transform(new_video)\n",
    "    return new_video.reshape((video.shape[0],video.shape[1],video.shape[2],video.shape[3]))"
   ]
  },
  {
   "cell_type": "code",
   "execution_count": null,
   "metadata": {},
   "outputs": [],
   "source": [
    "def flip_vertical(volume):\n",
    "    return np.flip(volume, (0, 2))[::-1]"
   ]
  },
  {
   "cell_type": "code",
   "execution_count": null,
   "metadata": {},
   "outputs": [],
   "source": [
    "def corner_frame_crop(original_width, original_height):\n",
    "    x = original_width-112\n",
    "    y = original_height-112\n",
    "    return [[x//2, original_width - x//2 -1, y//2, original_height-y//2],\n",
    "            [x//2, original_width - x//2 -1, y//2, original_height-y//2]\n",
    "           ]"
   ]
  },
  {
   "cell_type": "code",
   "execution_count": null,
   "metadata": {},
   "outputs": [],
   "source": [
    "dataset = VideoDataGenerator(directory_path = root_path, \n",
    "                             table_paths = None, \n",
    "                             batch_size = batch_size, \n",
    "                             original_frame_size = original_size, \n",
    "                             frame_size=size, \n",
    "                             video_frames = frames, \n",
    "                             temporal_crop = (\"custom\", custom_steps_temporal),\n",
    "                             video_transformation = [(\"augmented\",flip_vertical)],\n",
    "                             frame_crop = (\"custom\", corner_frame_crop), \n",
    "                             shuffle = True, \n",
    "                             conserve_original = False)"
   ]
  },
  {
   "cell_type": "markdown",
   "metadata": {},
   "source": [
    "# Red Neuronal LTC"
   ]
  },
  {
   "cell_type": "markdown",
   "metadata": {},
   "source": [
    "### Construccion del modelo"
   ]
  },
  {
   "cell_type": "code",
   "execution_count": null,
   "metadata": {},
   "outputs": [],
   "source": [
    "#Entrada de la red neuronal\n",
    "video_shape = tuple([frames]+size[::-1]+[canales])\n",
    "dropout = 0.5\n",
    "lr = 1e-3\n",
    "weigh_decay = 5e-3\n",
    "\n",
    "ltc_save_path = '/home/jefelitman/Saved_Models/trained_ut/Encoder/Inception/inception_enhan/LTC-enhan-noMaxPoolT-SLTEnc_Seq_split1_{w}x{h}x{f}_softmax_sgd_'.format(\n",
    "        w=size[0], h=size[1],f=frames)\n",
    "if canales == 3:\n",
    "    ltc_save_path += 'RGB_'\n",
    "else:\n",
    "    ltc_save_path += 'B&N_'\n",
    "\n",
    "ltc_save_path += 'lr={l}__dec-ori_2center-frame-crop_video-flip_temporal-dynamic_batchNorm_pretrained-c3d'.format(l = lr)\n",
    "\n",
    "#Creacion de la carpeta donde se salvara el modelo\n",
    "if not os.path.isdir(ltc_save_path):\n",
    "    os.mkdir(ltc_save_path)\n",
    "model_saves_path = os.path.join(ltc_save_path,'model_saves')\n",
    "if not os.path.isdir(model_saves_path):\n",
    "    os.mkdir(model_saves_path)\n",
    "ltc_save_path"
   ]
  },
  {
   "cell_type": "code",
   "execution_count": 6,
   "metadata": {},
   "outputs": [],
   "source": [
    "lr = 1e-3\n",
    "weigh_decay = 5e-3\n",
    "#Parametros para la compilacion del modelo\n",
    "optimizador = keras.optimizers.SGD(learning_rate=lr, momentum=0.9)\n",
    "#optimizador = keras.optimizers.Adam(learning_rate=lr)\n",
    "perdida = keras.losses.SparseCategoricalCrossentropy()\n",
    "precision = keras.metrics.SparseCategoricalAccuracy()"
   ]
  },
  {
   "cell_type": "code",
   "execution_count": 13,
   "metadata": {},
   "outputs": [],
   "source": [
    "entrada = keras.Input(shape=(300,224,224,3),batch_size=1,\n",
    "                     name=\"Input_video\")\n",
    "#Conv1\n",
    "x = keras.layers.Conv3D(filters=16, kernel_size=3, padding=\"same\", activation=\"relu\", \n",
    "                          kernel_regularizer=keras.regularizers.l2(weigh_decay),\n",
    "                          name='conv3d_1')(entrada)\n",
    "x = keras.layers.MaxPool3D(pool_size=(1,2,2),strides=(1,2,2), name='max_pooling3d_1')(x)\n",
    "\n",
    "#Conv2\n",
    "x = keras.layers.Conv3D(filters=32, kernel_size=3, padding=\"same\", activation=\"relu\", \n",
    "                      kernel_regularizer=keras.regularizers.l2(weigh_decay),\n",
    "                      name='conv3d_2')(x)\n",
    "x = keras.layers.MaxPool3D(pool_size=(1,2,2),strides=(1,2,2), name='max_pooling3d_2')(x)\n",
    "\n",
    "#Conv3\n",
    "x = keras.layers.Conv3D(filters=64, kernel_size=3, padding=\"same\", activation=\"relu\", \n",
    "                      kernel_regularizer=keras.regularizers.l2(weigh_decay),\n",
    "                      name='conv3d_3')(x)\n",
    "x = keras.layers.MaxPool3D(pool_size=(1,2,2),strides=(1,2,2),name='max_pooling3d_3')(x)\n",
    "\n",
    "#Conv4\n",
    "x = keras.layers.Conv3D(filters=128, kernel_size=3, padding=\"same\", activation=\"relu\", \n",
    "                      kernel_regularizer=keras.regularizers.l2(weigh_decay),\n",
    "                      name='conv3d_4')(x)\n",
    "x = keras.layers.MaxPool3D(pool_size=(1,2,2),strides=(1,2,2),name='max_pooling3d_4')(x)\n",
    "\n",
    "ltc = keras.Model(entrada, x, name=\"LTC_original\")"
   ]
  },
  {
   "cell_type": "code",
   "execution_count": null,
   "metadata": {},
   "outputs": [],
   "source": [
    "ltc = get_LTC_encoder_slt_I(video_shape, len(dataset.to_class),dropout, weigh_decay, 256, 512, True)"
   ]
  },
  {
   "cell_type": "code",
   "execution_count": 8,
   "metadata": {},
   "outputs": [],
   "source": [
    "#Compilacion del modelo\n",
    "ltc.compile(optimizer = optimizador,\n",
    "           loss = perdida,\n",
    "           metrics = [precision])"
   ]
  },
  {
   "cell_type": "code",
   "execution_count": 9,
   "metadata": {},
   "outputs": [],
   "source": [
    "#keras.utils.plot_model(ltc, 'LTC.png', show_shapes=True)"
   ]
  },
  {
   "cell_type": "code",
   "execution_count": 10,
   "metadata": {},
   "outputs": [],
   "source": [
    "#ltc = keras.models.load_model('/home/jefelitman/Saved_Models/trained_ut/Inception/conv_channels/LTC-incept-channels_split1_112x112x16_softmax_sgd_RGB_lr=0.001_decreased-original_2center-frame-crop_video-flip_temporal-dynamic_batchNorm_pretrained-c3d/ltc_final_1.h5')"
   ]
  },
  {
   "cell_type": "code",
   "execution_count": 14,
   "metadata": {},
   "outputs": [
    {
     "name": "stdout",
     "output_type": "stream",
     "text": [
      "Model: \"LTC_original\"\n",
      "_________________________________________________________________\n",
      "Layer (type)                 Output Shape              Param #   \n",
      "=================================================================\n",
      "Input_video (InputLayer)     [(1, 300, 224, 224, 3)]   0         \n",
      "_________________________________________________________________\n",
      "conv3d_1 (Conv3D)            (1, 300, 224, 224, 16)    1312      \n",
      "_________________________________________________________________\n",
      "max_pooling3d_1 (MaxPooling3 (1, 300, 112, 112, 16)    0         \n",
      "_________________________________________________________________\n",
      "conv3d_2 (Conv3D)            (1, 300, 112, 112, 32)    13856     \n",
      "_________________________________________________________________\n",
      "max_pooling3d_2 (MaxPooling3 (1, 300, 56, 56, 32)      0         \n",
      "_________________________________________________________________\n",
      "conv3d_3 (Conv3D)            (1, 300, 56, 56, 64)      55360     \n",
      "_________________________________________________________________\n",
      "max_pooling3d_3 (MaxPooling3 (1, 300, 28, 28, 64)      0         \n",
      "_________________________________________________________________\n",
      "conv3d_4 (Conv3D)            (1, 300, 28, 28, 128)     221312    \n",
      "_________________________________________________________________\n",
      "max_pooling3d_4 (MaxPooling3 (1, 300, 14, 14, 128)     0         \n",
      "=================================================================\n",
      "Total params: 291,840\n",
      "Trainable params: 291,840\n",
      "Non-trainable params: 0\n",
      "_________________________________________________________________\n"
     ]
    }
   ],
   "source": [
    "ltc.summary()"
   ]
  },
  {
   "cell_type": "code",
   "execution_count": 12,
   "metadata": {},
   "outputs": [
    {
     "data": {
      "text/plain": [
       "array([[[[[0., 0., 0., ..., 0., 0., 0.],\n",
       "          [0., 0., 0., ..., 0., 0., 0.],\n",
       "          [0., 0., 0., ..., 0., 0., 0.],\n",
       "          ...,\n",
       "          [0., 0., 0., ..., 0., 0., 0.],\n",
       "          [0., 0., 0., ..., 0., 0., 0.],\n",
       "          [0., 0., 0., ..., 0., 0., 0.]],\n",
       "\n",
       "         [[0., 0., 0., ..., 0., 0., 0.],\n",
       "          [0., 0., 0., ..., 0., 0., 0.],\n",
       "          [0., 0., 0., ..., 0., 0., 0.],\n",
       "          ...,\n",
       "          [0., 0., 0., ..., 0., 0., 0.],\n",
       "          [0., 0., 0., ..., 0., 0., 0.],\n",
       "          [0., 0., 0., ..., 0., 0., 0.]],\n",
       "\n",
       "         [[0., 0., 0., ..., 0., 0., 0.],\n",
       "          [0., 0., 0., ..., 0., 0., 0.],\n",
       "          [0., 0., 0., ..., 0., 0., 0.],\n",
       "          ...,\n",
       "          [0., 0., 0., ..., 0., 0., 0.],\n",
       "          [0., 0., 0., ..., 0., 0., 0.],\n",
       "          [0., 0., 0., ..., 0., 0., 0.]],\n",
       "\n",
       "         ...,\n",
       "\n",
       "         [[0., 0., 0., ..., 0., 0., 0.],\n",
       "          [0., 0., 0., ..., 0., 0., 0.],\n",
       "          [0., 0., 0., ..., 0., 0., 0.],\n",
       "          ...,\n",
       "          [0., 0., 0., ..., 0., 0., 0.],\n",
       "          [0., 0., 0., ..., 0., 0., 0.],\n",
       "          [0., 0., 0., ..., 0., 0., 0.]],\n",
       "\n",
       "         [[0., 0., 0., ..., 0., 0., 0.],\n",
       "          [0., 0., 0., ..., 0., 0., 0.],\n",
       "          [0., 0., 0., ..., 0., 0., 0.],\n",
       "          ...,\n",
       "          [0., 0., 0., ..., 0., 0., 0.],\n",
       "          [0., 0., 0., ..., 0., 0., 0.],\n",
       "          [0., 0., 0., ..., 0., 0., 0.]],\n",
       "\n",
       "         [[0., 0., 0., ..., 0., 0., 0.],\n",
       "          [0., 0., 0., ..., 0., 0., 0.],\n",
       "          [0., 0., 0., ..., 0., 0., 0.],\n",
       "          ...,\n",
       "          [0., 0., 0., ..., 0., 0., 0.],\n",
       "          [0., 0., 0., ..., 0., 0., 0.],\n",
       "          [0., 0., 0., ..., 0., 0., 0.]]],\n",
       "\n",
       "\n",
       "        [[[0., 0., 0., ..., 0., 0., 0.],\n",
       "          [0., 0., 0., ..., 0., 0., 0.],\n",
       "          [0., 0., 0., ..., 0., 0., 0.],\n",
       "          ...,\n",
       "          [0., 0., 0., ..., 0., 0., 0.],\n",
       "          [0., 0., 0., ..., 0., 0., 0.],\n",
       "          [0., 0., 0., ..., 0., 0., 0.]],\n",
       "\n",
       "         [[0., 0., 0., ..., 0., 0., 0.],\n",
       "          [0., 0., 0., ..., 0., 0., 0.],\n",
       "          [0., 0., 0., ..., 0., 0., 0.],\n",
       "          ...,\n",
       "          [0., 0., 0., ..., 0., 0., 0.],\n",
       "          [0., 0., 0., ..., 0., 0., 0.],\n",
       "          [0., 0., 0., ..., 0., 0., 0.]],\n",
       "\n",
       "         [[0., 0., 0., ..., 0., 0., 0.],\n",
       "          [0., 0., 0., ..., 0., 0., 0.],\n",
       "          [0., 0., 0., ..., 0., 0., 0.],\n",
       "          ...,\n",
       "          [0., 0., 0., ..., 0., 0., 0.],\n",
       "          [0., 0., 0., ..., 0., 0., 0.],\n",
       "          [0., 0., 0., ..., 0., 0., 0.]],\n",
       "\n",
       "         ...,\n",
       "\n",
       "         [[0., 0., 0., ..., 0., 0., 0.],\n",
       "          [0., 0., 0., ..., 0., 0., 0.],\n",
       "          [0., 0., 0., ..., 0., 0., 0.],\n",
       "          ...,\n",
       "          [0., 0., 0., ..., 0., 0., 0.],\n",
       "          [0., 0., 0., ..., 0., 0., 0.],\n",
       "          [0., 0., 0., ..., 0., 0., 0.]],\n",
       "\n",
       "         [[0., 0., 0., ..., 0., 0., 0.],\n",
       "          [0., 0., 0., ..., 0., 0., 0.],\n",
       "          [0., 0., 0., ..., 0., 0., 0.],\n",
       "          ...,\n",
       "          [0., 0., 0., ..., 0., 0., 0.],\n",
       "          [0., 0., 0., ..., 0., 0., 0.],\n",
       "          [0., 0., 0., ..., 0., 0., 0.]],\n",
       "\n",
       "         [[0., 0., 0., ..., 0., 0., 0.],\n",
       "          [0., 0., 0., ..., 0., 0., 0.],\n",
       "          [0., 0., 0., ..., 0., 0., 0.],\n",
       "          ...,\n",
       "          [0., 0., 0., ..., 0., 0., 0.],\n",
       "          [0., 0., 0., ..., 0., 0., 0.],\n",
       "          [0., 0., 0., ..., 0., 0., 0.]]],\n",
       "\n",
       "\n",
       "        [[[0., 0., 0., ..., 0., 0., 0.],\n",
       "          [0., 0., 0., ..., 0., 0., 0.],\n",
       "          [0., 0., 0., ..., 0., 0., 0.],\n",
       "          ...,\n",
       "          [0., 0., 0., ..., 0., 0., 0.],\n",
       "          [0., 0., 0., ..., 0., 0., 0.],\n",
       "          [0., 0., 0., ..., 0., 0., 0.]],\n",
       "\n",
       "         [[0., 0., 0., ..., 0., 0., 0.],\n",
       "          [0., 0., 0., ..., 0., 0., 0.],\n",
       "          [0., 0., 0., ..., 0., 0., 0.],\n",
       "          ...,\n",
       "          [0., 0., 0., ..., 0., 0., 0.],\n",
       "          [0., 0., 0., ..., 0., 0., 0.],\n",
       "          [0., 0., 0., ..., 0., 0., 0.]],\n",
       "\n",
       "         [[0., 0., 0., ..., 0., 0., 0.],\n",
       "          [0., 0., 0., ..., 0., 0., 0.],\n",
       "          [0., 0., 0., ..., 0., 0., 0.],\n",
       "          ...,\n",
       "          [0., 0., 0., ..., 0., 0., 0.],\n",
       "          [0., 0., 0., ..., 0., 0., 0.],\n",
       "          [0., 0., 0., ..., 0., 0., 0.]],\n",
       "\n",
       "         ...,\n",
       "\n",
       "         [[0., 0., 0., ..., 0., 0., 0.],\n",
       "          [0., 0., 0., ..., 0., 0., 0.],\n",
       "          [0., 0., 0., ..., 0., 0., 0.],\n",
       "          ...,\n",
       "          [0., 0., 0., ..., 0., 0., 0.],\n",
       "          [0., 0., 0., ..., 0., 0., 0.],\n",
       "          [0., 0., 0., ..., 0., 0., 0.]],\n",
       "\n",
       "         [[0., 0., 0., ..., 0., 0., 0.],\n",
       "          [0., 0., 0., ..., 0., 0., 0.],\n",
       "          [0., 0., 0., ..., 0., 0., 0.],\n",
       "          ...,\n",
       "          [0., 0., 0., ..., 0., 0., 0.],\n",
       "          [0., 0., 0., ..., 0., 0., 0.],\n",
       "          [0., 0., 0., ..., 0., 0., 0.]],\n",
       "\n",
       "         [[0., 0., 0., ..., 0., 0., 0.],\n",
       "          [0., 0., 0., ..., 0., 0., 0.],\n",
       "          [0., 0., 0., ..., 0., 0., 0.],\n",
       "          ...,\n",
       "          [0., 0., 0., ..., 0., 0., 0.],\n",
       "          [0., 0., 0., ..., 0., 0., 0.],\n",
       "          [0., 0., 0., ..., 0., 0., 0.]]],\n",
       "\n",
       "\n",
       "        ...,\n",
       "\n",
       "\n",
       "        [[[0., 0., 0., ..., 0., 0., 0.],\n",
       "          [0., 0., 0., ..., 0., 0., 0.],\n",
       "          [0., 0., 0., ..., 0., 0., 0.],\n",
       "          ...,\n",
       "          [0., 0., 0., ..., 0., 0., 0.],\n",
       "          [0., 0., 0., ..., 0., 0., 0.],\n",
       "          [0., 0., 0., ..., 0., 0., 0.]],\n",
       "\n",
       "         [[0., 0., 0., ..., 0., 0., 0.],\n",
       "          [0., 0., 0., ..., 0., 0., 0.],\n",
       "          [0., 0., 0., ..., 0., 0., 0.],\n",
       "          ...,\n",
       "          [0., 0., 0., ..., 0., 0., 0.],\n",
       "          [0., 0., 0., ..., 0., 0., 0.],\n",
       "          [0., 0., 0., ..., 0., 0., 0.]],\n",
       "\n",
       "         [[0., 0., 0., ..., 0., 0., 0.],\n",
       "          [0., 0., 0., ..., 0., 0., 0.],\n",
       "          [0., 0., 0., ..., 0., 0., 0.],\n",
       "          ...,\n",
       "          [0., 0., 0., ..., 0., 0., 0.],\n",
       "          [0., 0., 0., ..., 0., 0., 0.],\n",
       "          [0., 0., 0., ..., 0., 0., 0.]],\n",
       "\n",
       "         ...,\n",
       "\n",
       "         [[0., 0., 0., ..., 0., 0., 0.],\n",
       "          [0., 0., 0., ..., 0., 0., 0.],\n",
       "          [0., 0., 0., ..., 0., 0., 0.],\n",
       "          ...,\n",
       "          [0., 0., 0., ..., 0., 0., 0.],\n",
       "          [0., 0., 0., ..., 0., 0., 0.],\n",
       "          [0., 0., 0., ..., 0., 0., 0.]],\n",
       "\n",
       "         [[0., 0., 0., ..., 0., 0., 0.],\n",
       "          [0., 0., 0., ..., 0., 0., 0.],\n",
       "          [0., 0., 0., ..., 0., 0., 0.],\n",
       "          ...,\n",
       "          [0., 0., 0., ..., 0., 0., 0.],\n",
       "          [0., 0., 0., ..., 0., 0., 0.],\n",
       "          [0., 0., 0., ..., 0., 0., 0.]],\n",
       "\n",
       "         [[0., 0., 0., ..., 0., 0., 0.],\n",
       "          [0., 0., 0., ..., 0., 0., 0.],\n",
       "          [0., 0., 0., ..., 0., 0., 0.],\n",
       "          ...,\n",
       "          [0., 0., 0., ..., 0., 0., 0.],\n",
       "          [0., 0., 0., ..., 0., 0., 0.],\n",
       "          [0., 0., 0., ..., 0., 0., 0.]]],\n",
       "\n",
       "\n",
       "        [[[0., 0., 0., ..., 0., 0., 0.],\n",
       "          [0., 0., 0., ..., 0., 0., 0.],\n",
       "          [0., 0., 0., ..., 0., 0., 0.],\n",
       "          ...,\n",
       "          [0., 0., 0., ..., 0., 0., 0.],\n",
       "          [0., 0., 0., ..., 0., 0., 0.],\n",
       "          [0., 0., 0., ..., 0., 0., 0.]],\n",
       "\n",
       "         [[0., 0., 0., ..., 0., 0., 0.],\n",
       "          [0., 0., 0., ..., 0., 0., 0.],\n",
       "          [0., 0., 0., ..., 0., 0., 0.],\n",
       "          ...,\n",
       "          [0., 0., 0., ..., 0., 0., 0.],\n",
       "          [0., 0., 0., ..., 0., 0., 0.],\n",
       "          [0., 0., 0., ..., 0., 0., 0.]],\n",
       "\n",
       "         [[0., 0., 0., ..., 0., 0., 0.],\n",
       "          [0., 0., 0., ..., 0., 0., 0.],\n",
       "          [0., 0., 0., ..., 0., 0., 0.],\n",
       "          ...,\n",
       "          [0., 0., 0., ..., 0., 0., 0.],\n",
       "          [0., 0., 0., ..., 0., 0., 0.],\n",
       "          [0., 0., 0., ..., 0., 0., 0.]],\n",
       "\n",
       "         ...,\n",
       "\n",
       "         [[0., 0., 0., ..., 0., 0., 0.],\n",
       "          [0., 0., 0., ..., 0., 0., 0.],\n",
       "          [0., 0., 0., ..., 0., 0., 0.],\n",
       "          ...,\n",
       "          [0., 0., 0., ..., 0., 0., 0.],\n",
       "          [0., 0., 0., ..., 0., 0., 0.],\n",
       "          [0., 0., 0., ..., 0., 0., 0.]],\n",
       "\n",
       "         [[0., 0., 0., ..., 0., 0., 0.],\n",
       "          [0., 0., 0., ..., 0., 0., 0.],\n",
       "          [0., 0., 0., ..., 0., 0., 0.],\n",
       "          ...,\n",
       "          [0., 0., 0., ..., 0., 0., 0.],\n",
       "          [0., 0., 0., ..., 0., 0., 0.],\n",
       "          [0., 0., 0., ..., 0., 0., 0.]],\n",
       "\n",
       "         [[0., 0., 0., ..., 0., 0., 0.],\n",
       "          [0., 0., 0., ..., 0., 0., 0.],\n",
       "          [0., 0., 0., ..., 0., 0., 0.],\n",
       "          ...,\n",
       "          [0., 0., 0., ..., 0., 0., 0.],\n",
       "          [0., 0., 0., ..., 0., 0., 0.],\n",
       "          [0., 0., 0., ..., 0., 0., 0.]]],\n",
       "\n",
       "\n",
       "        [[[0., 0., 0., ..., 0., 0., 0.],\n",
       "          [0., 0., 0., ..., 0., 0., 0.],\n",
       "          [0., 0., 0., ..., 0., 0., 0.],\n",
       "          ...,\n",
       "          [0., 0., 0., ..., 0., 0., 0.],\n",
       "          [0., 0., 0., ..., 0., 0., 0.],\n",
       "          [0., 0., 0., ..., 0., 0., 0.]],\n",
       "\n",
       "         [[0., 0., 0., ..., 0., 0., 0.],\n",
       "          [0., 0., 0., ..., 0., 0., 0.],\n",
       "          [0., 0., 0., ..., 0., 0., 0.],\n",
       "          ...,\n",
       "          [0., 0., 0., ..., 0., 0., 0.],\n",
       "          [0., 0., 0., ..., 0., 0., 0.],\n",
       "          [0., 0., 0., ..., 0., 0., 0.]],\n",
       "\n",
       "         [[0., 0., 0., ..., 0., 0., 0.],\n",
       "          [0., 0., 0., ..., 0., 0., 0.],\n",
       "          [0., 0., 0., ..., 0., 0., 0.],\n",
       "          ...,\n",
       "          [0., 0., 0., ..., 0., 0., 0.],\n",
       "          [0., 0., 0., ..., 0., 0., 0.],\n",
       "          [0., 0., 0., ..., 0., 0., 0.]],\n",
       "\n",
       "         ...,\n",
       "\n",
       "         [[0., 0., 0., ..., 0., 0., 0.],\n",
       "          [0., 0., 0., ..., 0., 0., 0.],\n",
       "          [0., 0., 0., ..., 0., 0., 0.],\n",
       "          ...,\n",
       "          [0., 0., 0., ..., 0., 0., 0.],\n",
       "          [0., 0., 0., ..., 0., 0., 0.],\n",
       "          [0., 0., 0., ..., 0., 0., 0.]],\n",
       "\n",
       "         [[0., 0., 0., ..., 0., 0., 0.],\n",
       "          [0., 0., 0., ..., 0., 0., 0.],\n",
       "          [0., 0., 0., ..., 0., 0., 0.],\n",
       "          ...,\n",
       "          [0., 0., 0., ..., 0., 0., 0.],\n",
       "          [0., 0., 0., ..., 0., 0., 0.],\n",
       "          [0., 0., 0., ..., 0., 0., 0.]],\n",
       "\n",
       "         [[0., 0., 0., ..., 0., 0., 0.],\n",
       "          [0., 0., 0., ..., 0., 0., 0.],\n",
       "          [0., 0., 0., ..., 0., 0., 0.],\n",
       "          ...,\n",
       "          [0., 0., 0., ..., 0., 0., 0.],\n",
       "          [0., 0., 0., ..., 0., 0., 0.],\n",
       "          [0., 0., 0., ..., 0., 0., 0.]]]]], dtype=float32)"
      ]
     },
     "execution_count": 12,
     "metadata": {},
     "output_type": "execute_result"
    }
   ],
   "source": [
    "ltc.predict(np.zeros((1,300,224,224,3)))"
   ]
  },
  {
   "cell_type": "markdown",
   "metadata": {},
   "source": [
    "### Cargo los pesos pre entrenados"
   ]
  },
  {
   "cell_type": "markdown",
   "metadata": {},
   "source": [
    "##### Pesos del C3D"
   ]
  },
  {
   "cell_type": "code",
   "execution_count": null,
   "metadata": {},
   "outputs": [],
   "source": [
    "c3d_weights = h5py.File('/home/jefelitman/Saved_Models/c3d-sports1M_weights.h5', 'r')\n",
    "print(c3d_weights.keys())"
   ]
  },
  {
   "cell_type": "code",
   "execution_count": null,
   "metadata": {},
   "outputs": [],
   "source": [
    "c3d_weights['layer_0'].keys()"
   ]
  },
  {
   "cell_type": "code",
   "execution_count": null,
   "metadata": {},
   "outputs": [],
   "source": [
    "weights = []\n",
    "for capa in ['layer_0','layer_2','layer_4','layer_5','layer_5']:\n",
    "    weights.append([\n",
    "        np.moveaxis(np.r_[c3d_weights[capa]['param_0']], (0,1),(4,3)), #Cambio los ejes porque c3d estan con canales primero\n",
    "        np.r_[c3d_weights[capa]['param_1']]\n",
    "                   ])\n",
    "for index, capa in enumerate(['conv3d_1','conv3d_2','conv3d_3','conv3d_4','conv3d_5']):\n",
    "    ltc.get_layer(capa).set_weights(weights[index])"
   ]
  },
  {
   "cell_type": "markdown",
   "metadata": {},
   "source": [
    "##### Pesos de la InceptionV3"
   ]
  },
  {
   "cell_type": "raw",
   "metadata": {},
   "source": [
    "inceptionv3 = keras.applications.InceptionV3(weights=\"imagenet\")"
   ]
  },
  {
   "cell_type": "raw",
   "metadata": {},
   "source": [
    "for layer, index in [('conv3d_1',1),('conv3d_2',4),('conv3d_3',7),('conv3d_4',11),('conv3d_5',14)]:\n",
    "    old_weights, old_bias = ltc.get_layer(layer).get_weights()\n",
    "    new_weight = np.zeros(old_weights.shape)\n",
    "    new_bias = np.zeros(old_bias.shape)\n",
    "    pesos = inceptionv3.layers[index].get_weights()[0]\n",
    "    for entrada in range(old_weights.shape[3]):\n",
    "        for salida in range(old_weights.shape[4]):\n",
    "            new_weight[:,:,:,entrada,salida] = np.stack([pesos[:,:,entrada%pesos.shape[2],salida%pesos.shape[3]], \n",
    "                                                         pesos[:,:,entrada%pesos.shape[2],salida%pesos.shape[3]], \n",
    "                                                         pesos[:,:,entrada%pesos.shape[2],salida%pesos.shape[3]]\n",
    "                                                        ]\n",
    "                                                       )/3\n",
    "    ltc.get_layer(layer).set_weights([new_weight, new_bias])"
   ]
  },
  {
   "cell_type": "markdown",
   "metadata": {},
   "source": [
    "### Entrenamiento de la red con el generador"
   ]
  },
  {
   "cell_type": "code",
   "execution_count": null,
   "metadata": {},
   "outputs": [],
   "source": [
    "#Funcion customizadas para el entrenamiento del modelo      \n",
    "class custom_callback(keras.callbacks.Callback):\n",
    "    def __init__(self):\n",
    "        self.accuracies = []\n",
    "        self.losses = []\n",
    "        self.val_accuracies = []\n",
    "        self.val_loss = []\n",
    "        \n",
    "    def on_batch_end(self, batch, logs):\n",
    "        corte = dataset.train_batches//3 + 1\n",
    "        if batch == corte or batch == corte*2:\n",
    "            keras.backend.set_value(optimizador.lr, optimizador.lr.numpy()*0.1)\n",
    "            for i in ['conv3d_1','conv3d_2','conv3d_3','conv3d_4','conv3d_5','dense_8','dense_9','dense_10']:\n",
    "                weigh_decay = ltc.get_layer(i).kernel_regularizer.get_config()['l2'] * 0.1\n",
    "                ltc.get_layer(i).kernel_regularizer = keras.regularizers.l2(weigh_decay)\n",
    "            print(\"\\n\",\"Actual LR: \", str(optimizador.lr.numpy()))\n",
    "            \n",
    "        self.accuracies.append(logs['sparse_categorical_accuracy'])\n",
    "        self.losses.append(logs['loss'])\n",
    "        \n",
    "    def on_epoch_begin(self, epoch, logs):\n",
    "        keras.backend.set_value(optimizador.lr, 0.001)\n",
    "            \n",
    "    def on_epoch_end(self,batch, logs):\n",
    "        self.val_accuracies.append(logs['val_sparse_categorical_accuracy'])\n",
    "        self.val_loss.append(logs['val_loss'])\n",
    "\n",
    "funciones = [\n",
    "    keras.callbacks.ModelCheckpoint(\n",
    "        filepath=os.path.join(model_saves_path,'ltc_epoch_{epoch}.h5'),\n",
    "        save_best_only=True,\n",
    "        monitor='val_sparse_categorical_accuracy',\n",
    "        verbose=1),\n",
    "    keras.callbacks.CSVLogger(os.path.join(ltc_save_path,'output.csv')),\n",
    "    custom_callback()\n",
    "]"
   ]
  },
  {
   "cell_type": "code",
   "execution_count": null,
   "metadata": {
    "scrolled": true
   },
   "outputs": [],
   "source": [
    "epoch = 1\n",
    "historial = ltc.fit(x = dataset.get_train_generator(canales),\n",
    "                 steps_per_epoch=dataset.train_batches,\n",
    "                 epochs=epoch,\n",
    "                 callbacks=funciones,\n",
    "                 validation_data= dataset.get_test_generator(canales),\n",
    "                 validation_steps=dataset.test_batches,\n",
    "                 max_queue_size=batch_size%24)"
   ]
  },
  {
   "cell_type": "markdown",
   "metadata": {},
   "source": [
    "### Guardado del modelo "
   ]
  },
  {
   "cell_type": "code",
   "execution_count": null,
   "metadata": {},
   "outputs": [],
   "source": [
    "#Salvado final definitivo del modelo una vez se detenga\n",
    "ltc.save(os.path.join(ltc_save_path,\"ltc_final_{e}.h5\".format(e=epoch)))"
   ]
  },
  {
   "cell_type": "markdown",
   "metadata": {},
   "source": [
    "### Graficas de los resultados de entrenamiento"
   ]
  },
  {
   "cell_type": "code",
   "execution_count": null,
   "metadata": {
    "scrolled": false
   },
   "outputs": [],
   "source": [
    "fig = plt.figure()\n",
    "plt.plot(funciones[-1].losses,'k--')\n",
    "rango = [i*dataset.train_batches-1 for i in range(1,epoch+1)]\n",
    "plt.plot(rango, funciones[-1].val_loss,'bo')\n",
    "plt.title('Loss over steps')\n",
    "plt.legend(labels=[\"Loss\",\"Test Loss\"])\n",
    "plt.show()\n",
    "fig.savefig(os.path.join(ltc_save_path,'train_loss_steps_{e}.png'.format(e=dataset.train_batches)))"
   ]
  },
  {
   "cell_type": "code",
   "execution_count": null,
   "metadata": {
    "scrolled": true
   },
   "outputs": [],
   "source": [
    "fig = plt.figure()\n",
    "plt.plot(funciones[-1].accuracies,'k--')\n",
    "rango = [i*dataset.train_batches-1 for i in range(1,epoch+1)]\n",
    "plt.plot(rango, funciones[-1].val_accuracies,'bo')\n",
    "plt.title('Accuracy over steps')\n",
    "plt.legend(labels=[\"Accuracy\",\"Test Accuracy\"])\n",
    "plt.show()\n",
    "fig.savefig(os.path.join(ltc_save_path,'train_accuracy_steps_{e}.png'.format(e=dataset.train_batches)))"
   ]
  },
  {
   "cell_type": "markdown",
   "metadata": {},
   "source": [
    "### Evaluacion del entrenamiento"
   ]
  },
  {
   "cell_type": "raw",
   "metadata": {},
   "source": [
    "resultados = ltc.evaluate_generator(generator=dataset.get_test_generator(canales),\n",
    "                      steps=dataset.test_batches,\n",
    "                      max_queue_size=batch_size)\n",
    "print(\"\"\"Los resultados de la evaluacion del modelo fueron: \n",
    "Perdida: {l}\n",
    "Precision: {a}\"\"\".format(l=resultados[0],a=resultados[1]))"
   ]
  }
 ],
 "metadata": {
  "kernelspec": {
   "display_name": "Python 3",
   "language": "python",
   "name": "python3"
  },
  "language_info": {
   "codemirror_mode": {
    "name": "ipython",
    "version": 3
   },
   "file_extension": ".py",
   "mimetype": "text/x-python",
   "name": "python",
   "nbconvert_exporter": "python",
   "pygments_lexer": "ipython3",
   "version": "3.6.9"
  }
 },
 "nbformat": 4,
 "nbformat_minor": 2
}
