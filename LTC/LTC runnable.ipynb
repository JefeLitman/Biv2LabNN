{
 "cells": [
  {
   "cell_type": "code",
   "execution_count": null,
   "metadata": {},
   "outputs": [],
   "source": [
    "import os\n",
    "os.environ[\"CUDA_DEVICE_ORDER\"]=\"PCI_BUS_ID\";\n",
    " \n",
    "# lA ID de la GPU a usar, puede ser desde 0 hasta las N GPU's. Si es -1 significa que es en la CPU\n",
    "os.environ[\"CUDA_VISIBLE_DEVICES\"]=\"0\";"
   ]
  },
  {
   "cell_type": "markdown",
   "metadata": {},
   "source": [
    "# Importacion de librerias"
   ]
  },
  {
   "cell_type": "code",
   "execution_count": null,
   "metadata": {},
   "outputs": [],
   "source": [
    "from __future__ import absolute_import\n",
    "from __future__ import division\n",
    "from __future__ import print_function\n",
    "\n",
    "import warnings\n",
    "warnings.filterwarnings(\"ignore\")\n",
    "\n",
    "import argparse\n",
    "import tensorflow as tf\n",
    "from IPython.display import display, clear_output\n",
    "from random import randint"
   ]
  },
  {
   "cell_type": "markdown",
   "metadata": {},
   "source": [
    "# Configuraciones de TensorFlow"
   ]
  },
  {
   "cell_type": "code",
   "execution_count": null,
   "metadata": {},
   "outputs": [],
   "source": [
    "config = tf.ConfigProto(log_device_placement=True)\n",
    "config.gpu_options.allow_growth = True"
   ]
  },
  {
   "cell_type": "markdown",
   "metadata": {},
   "source": [
    "### Modo eagerly"
   ]
  },
  {
   "cell_type": "code",
   "execution_count": null,
   "metadata": {},
   "outputs": [],
   "source": [
    "#Comprobar que estoy ejecutandome en modo eagerly\n",
    "tf.executing_eagerly()"
   ]
  },
  {
   "cell_type": "markdown",
   "metadata": {},
   "source": [
    "# Carga de Datos"
   ]
  },
  {
   "cell_type": "code",
   "execution_count": null,
   "metadata": {},
   "outputs": [],
   "source": [
    "root_path = \"/home/jefelitman/DataSets/ucf101/split_1\"\n",
    "root_path"
   ]
  },
  {
   "cell_type": "code",
   "execution_count": null,
   "metadata": {},
   "outputs": [],
   "source": [
    "batch_size = 32\n",
    "size = [112,112]\n",
    "frames = 16\n",
    "canales = 3"
   ]
  },
  {
   "cell_type": "code",
   "execution_count": null,
   "metadata": {},
   "outputs": [],
   "source": [
    "import sys\n",
    "sys.path.append('../')\n",
    "\n",
    "from Datasets_utils.DatasetsLoader import VideoDataGenerator\n",
    "\n",
    "dataset = VideoDataGenerator(root_path,batch_size,True)"
   ]
  },
  {
   "cell_type": "markdown",
   "metadata": {},
   "source": [
    "# Red Neuronal"
   ]
  },
  {
   "cell_type": "code",
   "execution_count": null,
   "metadata": {},
   "outputs": [],
   "source": [
    "from LTC import LTC\n",
    "\n",
    "Sesion = tf.Session(config=config)\n",
    "\n",
    "video_shape = [frames]+size+[canales]\n",
    "\n",
    "ltc = LTC(101,batch_size,video_shape)\n",
    "\n",
    "ltc.enable_training()"
   ]
  },
  {
   "cell_type": "code",
   "execution_count": null,
   "metadata": {},
   "outputs": [],
   "source": [
    "ltc.inicializar_modelo(0.003,0.5)\n",
    "init = tf.global_variables_initializer()\n",
    "Sesion.run(init)"
   ]
  },
  {
   "cell_type": "code",
   "execution_count": null,
   "metadata": {},
   "outputs": [],
   "source": [
    "#Como es primera ver corriendo este modelo entonces no debo cargar nada\n",
    "saver = tf.train.Saver()\n",
    "steps = 160000\n",
    "epoch = 1\n",
    "for paso in range(steps):\n",
    "    clear_output(wait=True)\n",
    "    \n",
    "    #Primero voy salvando el modelo de 40000 en 40000\n",
    "    if paso % 40000 == 0:\n",
    "        saved_path = saver.save(Sesion, '../Checkpoints/LTC_112x112x16_rgb')\n",
    "        print('Modelo salvado en: {}'.format(saved_path))\n",
    "        \n",
    "    if paso == 80000 or paso == 125000:\n",
    "        ltc.lr = ltc.lr * 0.1\n",
    "    \n",
    "    if dataset.train_batch_index == self.train_batches:\n",
    "        epoch += 1\n",
    "        \n",
    "    print(\"Epoch: \",epoch)\n",
    "    print(\"Train batch: \",dataset.train_batch_index+1,\"/\",dataset.train_batches)\n",
    "    \n",
    "    train_batch, train_labels = dataset.get_next_train_batch(size,frames,canales)\n",
    "    \n",
    "    #Propago\n",
    "    Sesion.run(ltc.entrenar,feed_dict={ltc.x: train_batch, ltc.y: train_labels})\n",
    "    \n",
    "    perdida = Sesion.run(ltc.perdida,feed_dict={ltc.x: train_batch, ltc.y: train_labels})\n",
    "    precision = Sesion.run(ltc.precision,feed_dict={ltc.x: train_batch, ltc.y: train_labels})\n",
    "    print(\"Loss: \",perdida,\" Acuraccy: \",precision)\n",
    "    \n",
    "print(\"Final de entrenamiento\")"
   ]
  },
  {
   "cell_type": "code",
   "execution_count": null,
   "metadata": {},
   "outputs": [],
   "source": [
    "Sesion.close()\n",
    "del(Sesion)"
   ]
  }
 ],
 "metadata": {
  "kernelspec": {
   "display_name": "Python 3",
   "language": "python",
   "name": "python3"
  },
  "language_info": {
   "codemirror_mode": {
    "name": "ipython",
    "version": 3
   },
   "file_extension": ".py",
   "mimetype": "text/x-python",
   "name": "python",
   "nbconvert_exporter": "python",
   "pygments_lexer": "ipython3",
   "version": "3.6.8"
  }
 },
 "nbformat": 4,
 "nbformat_minor": 2
}
