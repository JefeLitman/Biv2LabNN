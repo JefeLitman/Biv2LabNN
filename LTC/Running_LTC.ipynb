{
 "cells": [
  {
   "cell_type": "markdown",
   "metadata": {},
   "source": [
    "# Configuracion de grafica a usar"
   ]
  },
  {
   "cell_type": "code",
   "execution_count": 1,
   "metadata": {},
   "outputs": [],
   "source": [
    "import os\n",
    "os.environ[\"CUDA_DEVICE_ORDER\"]=\"PCI_BUS_ID\";\n",
    " \n",
    "# lA ID de la GPU a usar, puede ser desde 0 hasta las N GPU's. Si es -1 significa que es en la CPU\n",
    "os.environ[\"CUDA_VISIBLE_DEVICES\"]=\"1\";"
   ]
  },
  {
   "cell_type": "markdown",
   "metadata": {},
   "source": [
    "# Importacion de librerias"
   ]
  },
  {
   "cell_type": "code",
   "execution_count": 2,
   "metadata": {},
   "outputs": [],
   "source": [
    "from __future__ import absolute_import, division, print_function, unicode_literals\n",
    "import tensorflow as tf\n",
    "from tensorflow import keras\n",
    "from IPython.display import display, clear_output\n",
    "from ipywidgets import interact, IntSlider\n",
    "import h5py\n",
    "import numpy as np\n",
    "\n",
    "%matplotlib inline\n",
    "import sys\n",
    "import matplotlib.pyplot as plt\n",
    "from sklearn.preprocessing import MinMaxScaler\n",
    "from LTC import *\n",
    "sys.path.append('../')\n",
    "from Datasets_utils.DatasetsLoader import VideoDataGenerator"
   ]
  },
  {
   "cell_type": "markdown",
   "metadata": {},
   "source": [
    "# Configuraciones para Tensorflow y Keras"
   ]
  },
  {
   "cell_type": "code",
   "execution_count": 3,
   "metadata": {},
   "outputs": [
    {
     "name": "stdout",
     "output_type": "stream",
     "text": [
      "Num GPUs Available:  1\n"
     ]
    }
   ],
   "source": [
    "print(\"Num GPUs Available: \", len(tf.config.experimental.list_physical_devices('GPU')))"
   ]
  },
  {
   "cell_type": "code",
   "execution_count": 4,
   "metadata": {},
   "outputs": [],
   "source": [
    "gpus = tf.config.experimental.list_physical_devices('GPU')\n",
    "tf.config.experimental.set_memory_growth(gpus[0], True)"
   ]
  },
  {
   "cell_type": "code",
   "execution_count": 5,
   "metadata": {},
   "outputs": [],
   "source": [
    "tf.debugging.set_log_device_placement(False)"
   ]
  },
  {
   "cell_type": "code",
   "execution_count": 6,
   "metadata": {},
   "outputs": [
    {
     "data": {
      "text/plain": [
       "True"
      ]
     },
     "execution_count": 6,
     "metadata": {},
     "output_type": "execute_result"
    }
   ],
   "source": [
    "#Comprobar que estoy ejecutandome en modo eagerly\n",
    "tf.executing_eagerly()"
   ]
  },
  {
   "cell_type": "markdown",
   "metadata": {},
   "source": [
    "# Carga de Datos"
   ]
  },
  {
   "cell_type": "code",
   "execution_count": 7,
   "metadata": {},
   "outputs": [
    {
     "data": {
      "text/plain": [
       "'/home/jefelitman/DataSets/jhmdb/fullset_split_1'"
      ]
     },
     "execution_count": 7,
     "metadata": {},
     "output_type": "execute_result"
    }
   ],
   "source": [
    "root_path = \"/home/jefelitman/DataSets/jhmdb/fullset_split_1\"\n",
    "root_path"
   ]
  },
  {
   "cell_type": "code",
   "execution_count": 9,
   "metadata": {},
   "outputs": [],
   "source": [
    "batch_size = 12\n",
    "original_size = [171,128]\n",
    "size = [112,112]\n",
    "frames = 16\n",
    "canales = 3"
   ]
  },
  {
   "cell_type": "code",
   "execution_count": 10,
   "metadata": {},
   "outputs": [],
   "source": [
    "def custom_steps_temporal(frames):\n",
    "    mitad = len(frames)//2\n",
    "    paso = len(frames)//16\n",
    "    videos = []\n",
    "    for i in range(paso):\n",
    "        indices = range(i, len(frames),paso)\n",
    "        videos.append([frames[j] for j in indices[:16]])\n",
    "    return videos"
   ]
  },
  {
   "cell_type": "code",
   "execution_count": 11,
   "metadata": {},
   "outputs": [],
   "source": [
    "def custom_temp_crop_unique(frames):\n",
    "    mitad = len(frames)//2\n",
    "    paso = len(frames)//16\n",
    "    indices = sorted(list(range(mitad, -1,-paso)) + list(range(mitad+paso, len(frames),paso)))\n",
    "    indices = indices[len(indices)//2 - 8 : len(indices)//2 + 8]\n",
    "    return [[frames[i] for i in indices]]"
   ]
  },
  {
   "cell_type": "code",
   "execution_count": 12,
   "metadata": {},
   "outputs": [],
   "source": [
    "def half_video_temporal(frames):\n",
    "    mitad = len(frames)//2\n",
    "    return [frames[mitad-8*2:mitad+8*2]]"
   ]
  },
  {
   "cell_type": "code",
   "execution_count": 13,
   "metadata": {},
   "outputs": [],
   "source": [
    "def video_transf(video):\n",
    "    escalador = MinMaxScaler()\n",
    "    new_video = video.reshape((video.shape[0]*video.shape[1]*video.shape[2]*video.shape[3],1))\n",
    "    new_video = escalador.fit_transform(new_video)\n",
    "    return new_video.reshape((video.shape[0],video.shape[1],video.shape[2],video.shape[3]))"
   ]
  },
  {
   "cell_type": "code",
   "execution_count": 14,
   "metadata": {},
   "outputs": [],
   "source": [
    "def flip_vertical(volume):\n",
    "    return np.flip(volume, (0, 2))[::-1]"
   ]
  },
  {
   "cell_type": "code",
   "execution_count": 15,
   "metadata": {},
   "outputs": [],
   "source": [
    "def corner_frame_crop(original_width, original_height):\n",
    "    x = original_width-112\n",
    "    y = original_height-112\n",
    "    return [[x//2, original_width - x//2 -1, y//2, original_height-y//2],\n",
    "            [x//2, original_width - x//2 -1, y//2, original_height-y//2]\n",
    "           ]"
   ]
  },
  {
   "cell_type": "code",
   "execution_count": 16,
   "metadata": {},
   "outputs": [],
   "source": [
    "dataset = VideoDataGenerator(directory_path = root_path, \n",
    "                             table_paths = None, \n",
    "                             batch_size = batch_size, \n",
    "                             original_frame_size = original_size, \n",
    "                             frame_size=size, \n",
    "                             video_frames = frames, \n",
    "                             temporal_crop = (\"custom\", custom_steps_temporal),\n",
    "                             video_transformation = [(\"augmented\",flip_vertical)],\n",
    "                             frame_crop = (None,None),#(\"custom\", corner_frame_crop), \n",
    "                             shuffle = True, \n",
    "                             conserve_original = False)"
   ]
  },
  {
   "cell_type": "markdown",
   "metadata": {},
   "source": [
    "# Red Neuronal LTC"
   ]
  },
  {
   "cell_type": "markdown",
   "metadata": {},
   "source": [
    "### Construccion del modelo"
   ]
  },
  {
   "cell_type": "code",
   "execution_count": 17,
   "metadata": {},
   "outputs": [
    {
     "data": {
      "text/plain": [
       "'/home/jefelitman/Saved_Models/trained_jhmdb/Inception/inception_enhan/LTC-enhanced_split1_112x112x16_softmax_sgd_RGB_lr=0.001_video-flip_temporal-dynamic_batchNorm_pretrained-c3d'"
      ]
     },
     "execution_count": 17,
     "metadata": {},
     "output_type": "execute_result"
    }
   ],
   "source": [
    "#Entrada de la red neuronal\n",
    "video_shape = tuple([frames]+size[::-1]+[canales])\n",
    "dropout = 0.5\n",
    "lr = 1e-3\n",
    "weigh_decay = 5e-3\n",
    "\n",
    "ltc_save_path = '/home/jefelitman/Saved_Models/trained_jhmdb/Inception/inception_enhan/LTC-enhanced_split1_{w}x{h}x{f}_softmax_sgd_'.format(\n",
    "        w=size[0], h=size[1],f=frames)\n",
    "if canales == 3:\n",
    "    ltc_save_path += 'RGB_'\n",
    "else:\n",
    "    ltc_save_path += 'B&N_'\n",
    "\n",
    "ltc_save_path += 'lr={l}_video-flip_temporal-dynamic_batchNorm_pretrained-c3d'.format(l = lr)\n",
    "\n",
    "#Creacion de la carpeta donde se salvara el modelo\n",
    "if not os.path.isdir(ltc_save_path):\n",
    "    os.mkdir(ltc_save_path)\n",
    "model_saves_path = os.path.join(ltc_save_path,'model_saves')\n",
    "if not os.path.isdir(model_saves_path):\n",
    "    os.mkdir(model_saves_path)\n",
    "ltc_save_path"
   ]
  },
  {
   "cell_type": "code",
   "execution_count": 18,
   "metadata": {},
   "outputs": [],
   "source": [
    "#Parametros para la compilacion del modelo\n",
    "optimizador = keras.optimizers.SGD(learning_rate=lr, momentum=0.9)\n",
    "#optimizador = keras.optimizers.Adam(learning_rate=lr)\n",
    "perdida = keras.losses.SparseCategoricalCrossentropy()\n",
    "precision = keras.metrics.SparseCategoricalAccuracy()"
   ]
  },
  {
   "cell_type": "code",
   "execution_count": 19,
   "metadata": {},
   "outputs": [],
   "source": [
    "ltc = get_LTC_inception_enhanced(video_shape, len(dataset.to_class), dropout, weigh_decay, 512)"
   ]
  },
  {
   "cell_type": "code",
   "execution_count": 20,
   "metadata": {},
   "outputs": [],
   "source": [
    "#Compilacion del modelo\n",
    "ltc.compile(optimizer = optimizador,\n",
    "           loss = perdida,\n",
    "           metrics = [precision])"
   ]
  },
  {
   "cell_type": "code",
   "execution_count": 21,
   "metadata": {},
   "outputs": [],
   "source": [
    "#keras.utils.plot_model(ltc, 'LTC.png', show_shapes=True)"
   ]
  },
  {
   "cell_type": "code",
   "execution_count": 22,
   "metadata": {},
   "outputs": [],
   "source": [
    "#ltc = keras.models.load_model(os.path.join(ltc_save_path,'ltc_final_1000.h5'))"
   ]
  },
  {
   "cell_type": "code",
   "execution_count": 23,
   "metadata": {},
   "outputs": [
    {
     "name": "stdout",
     "output_type": "stream",
     "text": [
      "Model: \"LTC_BatchNorm_inception-enhanced\"\n",
      "__________________________________________________________________________________________________\n",
      "Layer (type)                    Output Shape         Param #     Connected to                     \n",
      "==================================================================================================\n",
      "Input_video (InputLayer)        [(None, 16, 112, 112 0                                            \n",
      "__________________________________________________________________________________________________\n",
      "conv3d_1 (Conv3D)               (None, 16, 112, 112, 5248        Input_video[0][0]                \n",
      "__________________________________________________________________________________________________\n",
      "batch_norm_1 (BatchNormalizatio (None, 16, 112, 112, 256         conv3d_1[0][0]                   \n",
      "__________________________________________________________________________________________________\n",
      "max_pooling3d_1 (MaxPooling3D)  (None, 16, 56, 56, 6 0           batch_norm_1[0][0]               \n",
      "__________________________________________________________________________________________________\n",
      "conv3d_2 (Conv3D)               (None, 16, 56, 56, 1 221312      max_pooling3d_1[0][0]            \n",
      "__________________________________________________________________________________________________\n",
      "batch_norm_2 (BatchNormalizatio (None, 16, 56, 56, 1 512         conv3d_2[0][0]                   \n",
      "__________________________________________________________________________________________________\n",
      "max_pooling3d_2 (MaxPooling3D)  (None, 8, 28, 28, 12 0           batch_norm_2[0][0]               \n",
      "__________________________________________________________________________________________________\n",
      "conv3d_3 (Conv3D)               (None, 8, 28, 28, 25 884992      max_pooling3d_2[0][0]            \n",
      "__________________________________________________________________________________________________\n",
      "batch_norm_3 (BatchNormalizatio (None, 8, 28, 28, 25 1024        conv3d_3[0][0]                   \n",
      "__________________________________________________________________________________________________\n",
      "max_pooling3d_3 (MaxPooling3D)  (None, 4, 14, 14, 25 0           batch_norm_3[0][0]               \n",
      "__________________________________________________________________________________________________\n",
      "conv3d_4 (Conv3D)               (None, 4, 14, 14, 25 1769728     max_pooling3d_3[0][0]            \n",
      "__________________________________________________________________________________________________\n",
      "batch_norm_4 (BatchNormalizatio (None, 4, 14, 14, 25 1024        conv3d_4[0][0]                   \n",
      "__________________________________________________________________________________________________\n",
      "max_pooling3d_4 (MaxPooling3D)  (None, 2, 7, 7, 256) 0           batch_norm_4[0][0]               \n",
      "__________________________________________________________________________________________________\n",
      "conv3d_5 (Conv3D)               (None, 2, 7, 7, 256) 1769728     max_pooling3d_4[0][0]            \n",
      "__________________________________________________________________________________________________\n",
      "batch_norm_5 (BatchNormalizatio (None, 2, 7, 7, 256) 1024        conv3d_5[0][0]                   \n",
      "__________________________________________________________________________________________________\n",
      "max_pooling3d_5 (MaxPooling3D)  (None, 1, 3, 3, 256) 0           batch_norm_5[0][0]               \n",
      "__________________________________________________________________________________________________\n",
      "incep-2_V2-1x1x1_6_0 (Conv3D)   (None, 1, 3, 3, 64)  16448       max_pooling3d_5[0][0]            \n",
      "__________________________________________________________________________________________________\n",
      "incep-3_V2-1x1x1_6_0 (Conv3D)   (None, 1, 3, 3, 64)  16448       max_pooling3d_5[0][0]            \n",
      "__________________________________________________________________________________________________\n",
      "max_pool3d_incep-4_V2_1x1x1_6_0 (None, 1, 3, 3, 256) 0           max_pooling3d_5[0][0]            \n",
      "__________________________________________________________________________________________________\n",
      "incep-1_V2-1x1x1_6_0 (Conv3D)   (None, 1, 3, 3, 128) 32896       max_pooling3d_5[0][0]            \n",
      "__________________________________________________________________________________________________\n",
      "incep-2_v2-3x3x3_6_1 (Conv3D)   (None, 1, 3, 3, 64)  110656      incep-2_V2-1x1x1_6_0[0][0]       \n",
      "__________________________________________________________________________________________________\n",
      "incep-3_v2-5x5x5_6_1 (Conv3D)   (None, 1, 3, 3, 64)  512064      incep-3_V2-1x1x1_6_0[0][0]       \n",
      "__________________________________________________________________________________________________\n",
      "incep-4_v2-1x1x1_6_1 (Conv3D)   (None, 1, 3, 3, 256) 65792       max_pool3d_incep-4_V2_1x1x1_6_0[0\n",
      "__________________________________________________________________________________________________\n",
      "concat_incep_v2_6 (Concatenate) (None, 1, 3, 3, 512) 0           incep-1_V2-1x1x1_6_0[0][0]       \n",
      "                                                                 incep-2_v2-3x3x3_6_1[0][0]       \n",
      "                                                                 incep-3_v2-5x5x5_6_1[0][0]       \n",
      "                                                                 incep-4_v2-1x1x1_6_1[0][0]       \n",
      "__________________________________________________________________________________________________\n",
      "flatten_7 (Flatten)             (None, 4608)         0           concat_incep_v2_6[0][0]          \n",
      "__________________________________________________________________________________________________\n",
      "dense_7 (Dense)                 (None, 2048)         9439232     flatten_7[0][0]                  \n",
      "__________________________________________________________________________________________________\n",
      "dropout_7 (Dropout)             (None, 2048)         0           dense_7[0][0]                    \n",
      "__________________________________________________________________________________________________\n",
      "dense_8 (Dense)                 (None, 2048)         4196352     dropout_7[0][0]                  \n",
      "__________________________________________________________________________________________________\n",
      "dropout_8 (Dropout)             (None, 2048)         0           dense_8[0][0]                    \n",
      "__________________________________________________________________________________________________\n",
      "dense_9 (Dense)                 (None, 21)           43029       dropout_8[0][0]                  \n",
      "==================================================================================================\n",
      "Total params: 19,087,765\n",
      "Trainable params: 19,085,845\n",
      "Non-trainable params: 1,920\n",
      "__________________________________________________________________________________________________\n"
     ]
    }
   ],
   "source": [
    "ltc.summary()"
   ]
  },
  {
   "cell_type": "markdown",
   "metadata": {},
   "source": [
    "### Cargo los pesos pre entrenados"
   ]
  },
  {
   "cell_type": "markdown",
   "metadata": {},
   "source": [
    "##### Pesos del C3D"
   ]
  },
  {
   "cell_type": "code",
   "execution_count": 24,
   "metadata": {},
   "outputs": [
    {
     "name": "stdout",
     "output_type": "stream",
     "text": [
      "<KeysViewHDF5 ['layer_0', 'layer_1', 'layer_10', 'layer_11', 'layer_12', 'layer_13', 'layer_14', 'layer_15', 'layer_16', 'layer_17', 'layer_18', 'layer_19', 'layer_2', 'layer_3', 'layer_4', 'layer_5', 'layer_6', 'layer_7', 'layer_8', 'layer_9']>\n"
     ]
    }
   ],
   "source": [
    "c3d_weights = h5py.File('/home/jefelitman/Saved_Models/c3d-sports1M_weights.h5', 'r')\n",
    "print(c3d_weights.keys())"
   ]
  },
  {
   "cell_type": "code",
   "execution_count": 25,
   "metadata": {},
   "outputs": [
    {
     "data": {
      "text/plain": [
       "<KeysViewHDF5 ['param_0', 'param_1']>"
      ]
     },
     "execution_count": 25,
     "metadata": {},
     "output_type": "execute_result"
    }
   ],
   "source": [
    "c3d_weights['layer_0'].keys()"
   ]
  },
  {
   "cell_type": "code",
   "execution_count": 26,
   "metadata": {},
   "outputs": [],
   "source": [
    "weights = []\n",
    "for capa in ['layer_0','layer_2','layer_4','layer_5','layer_5']:\n",
    "    weights.append([\n",
    "        np.moveaxis(np.r_[c3d_weights[capa]['param_0']], (0,1),(4,3)), #Cambio los ejes porque c3d estan con canales primero\n",
    "        np.r_[c3d_weights[capa]['param_1']]\n",
    "                   ])\n",
    "for index, capa in enumerate(['conv3d_1','conv3d_2','conv3d_3','conv3d_4','conv3d_5']):\n",
    "    ltc.get_layer(capa).set_weights(weights[index])"
   ]
  },
  {
   "cell_type": "markdown",
   "metadata": {},
   "source": [
    "##### Pesos de la InceptionV3"
   ]
  },
  {
   "cell_type": "raw",
   "metadata": {},
   "source": [
    "inceptionv3 = keras.applications.InceptionV3(weights=\"imagenet\")"
   ]
  },
  {
   "cell_type": "raw",
   "metadata": {},
   "source": [
    "for layer, index in [('conv3d_1',1),('conv3d_2',4),('conv3d_3',7),('conv3d_4',11),('conv3d_5',14)]:\n",
    "    old_weights, old_bias = ltc.get_layer(layer).get_weights()\n",
    "    new_weight = np.zeros(old_weights.shape)\n",
    "    new_bias = np.zeros(old_bias.shape)\n",
    "    pesos = inceptionv3.layers[index].get_weights()[0]\n",
    "    for entrada in range(old_weights.shape[3]):\n",
    "        for salida in range(old_weights.shape[4]):\n",
    "            new_weight[:,:,:,entrada,salida] = np.stack([pesos[:,:,entrada%pesos.shape[2],salida%pesos.shape[3]], \n",
    "                                                         pesos[:,:,entrada%pesos.shape[2],salida%pesos.shape[3]], \n",
    "                                                         pesos[:,:,entrada%pesos.shape[2],salida%pesos.shape[3]]\n",
    "                                                        ]\n",
    "                                                       )/3\n",
    "    ltc.get_layer(layer).set_weights([new_weight, new_bias])"
   ]
  },
  {
   "cell_type": "markdown",
   "metadata": {},
   "source": [
    "### Entrenamiento de la red con el generador"
   ]
  },
  {
   "cell_type": "code",
   "execution_count": 27,
   "metadata": {},
   "outputs": [],
   "source": [
    "#Funcion customizadas para el entrenamiento del modelo \n",
    "def cambio_lr(epoch, lr):\n",
    "    if epoch == 4 or epoch == 8 :\n",
    "        for i in ['conv3d_1','conv3d_2','conv3d_3','conv3d_4','conv3d_5']:\n",
    "            weigh_decay = ltc.get_layer(i).kernel_regularizer.get_config()['l2'] * 0.1\n",
    "            ltc.get_layer(i).kernel_regularizer = keras.regularizers.l2(weigh_decay)\n",
    "        return optimizador.learning_rate.numpy() * 0.1\n",
    "    else:\n",
    "        return optimizador.learning_rate.numpy()\n",
    "\n",
    "funciones = [\n",
    "    keras.callbacks.ModelCheckpoint(\n",
    "        filepath=os.path.join(model_saves_path,'ltc_epoch_{epoch}.h5'),\n",
    "        save_best_only=True,\n",
    "        monitor='val_sparse_categorical_accuracy',\n",
    "        verbose=1),\n",
    "    keras.callbacks.LearningRateScheduler(cambio_lr, verbose=1),\n",
    "    keras.callbacks.CSVLogger(os.path.join(ltc_save_path,'output.csv'))\n",
    "]"
   ]
  },
  {
   "cell_type": "code",
   "execution_count": 28,
   "metadata": {
    "scrolled": true
   },
   "outputs": [
    {
     "name": "stdout",
     "output_type": "stream",
     "text": [
      "WARNING:tensorflow:sample_weight modes were coerced from\n",
      "  ...\n",
      "    to  \n",
      "  ['...']\n",
      "WARNING:tensorflow:sample_weight modes were coerced from\n",
      "  ...\n",
      "    to  \n",
      "  ['...']\n",
      "Train for 180 steps, validate for 73 steps\n",
      "\n",
      "Epoch 00001: LearningRateScheduler reducing learning rate to 0.001.\n",
      "Epoch 1/10\n",
      "179/180 [============================>.] - ETA: 1s - loss: 29.7920 - sparse_categorical_accuracy: 0.3003\n",
      "Epoch 00001: val_sparse_categorical_accuracy improved from -inf to 0.15639, saving model to /home/jefelitman/Saved_Models/trained_jhmdb/Inception/inception_enhan/LTC-enhanced_split1_112x112x16_softmax_sgd_RGB_lr=0.001_video-flip_temporal-dynamic_batchNorm_pretrained-c3d/model_saves/ltc_epoch_1.h5\n",
      "180/180 [==============================] - 289s 2s/step - loss: 29.7897 - sparse_categorical_accuracy: 0.3009 - val_loss: 29.4110 - val_sparse_categorical_accuracy: 0.1564\n",
      "\n",
      "Epoch 00002: LearningRateScheduler reducing learning rate to 0.001.\n",
      "Epoch 2/10\n",
      "179/180 [============================>.] - ETA: 0s - loss: 27.5680 - sparse_categorical_accuracy: 0.6276\n",
      "Epoch 00002: val_sparse_categorical_accuracy improved from 0.15639 to 0.26370, saving model to /home/jefelitman/Saved_Models/trained_jhmdb/Inception/inception_enhan/LTC-enhanced_split1_112x112x16_softmax_sgd_RGB_lr=0.001_video-flip_temporal-dynamic_batchNorm_pretrained-c3d/model_saves/ltc_epoch_2.h5\n",
      "180/180 [==============================] - 69s 386ms/step - loss: 27.5664 - sparse_categorical_accuracy: 0.6269 - val_loss: 28.3320 - val_sparse_categorical_accuracy: 0.2637\n",
      "\n",
      "Epoch 00003: LearningRateScheduler reducing learning rate to 0.001.\n",
      "Epoch 3/10\n",
      "179/180 [============================>.] - ETA: 0s - loss: 26.0735 - sparse_categorical_accuracy: 0.8082\n",
      "Epoch 00003: val_sparse_categorical_accuracy did not improve from 0.26370\n",
      "180/180 [==============================] - 69s 381ms/step - loss: 26.0733 - sparse_categorical_accuracy: 0.8074 - val_loss: 27.8156 - val_sparse_categorical_accuracy: 0.2454\n",
      "\n",
      "Epoch 00004: LearningRateScheduler reducing learning rate to 0.001.\n",
      "Epoch 4/10\n",
      "179/180 [============================>.] - ETA: 0s - loss: 24.8694 - sparse_categorical_accuracy: 0.9209\n",
      "Epoch 00004: val_sparse_categorical_accuracy improved from 0.26370 to 0.26598, saving model to /home/jefelitman/Saved_Models/trained_jhmdb/Inception/inception_enhan/LTC-enhanced_split1_112x112x16_softmax_sgd_RGB_lr=0.001_video-flip_temporal-dynamic_batchNorm_pretrained-c3d/model_saves/ltc_epoch_4.h5\n",
      "180/180 [==============================] - 69s 383ms/step - loss: 24.8672 - sparse_categorical_accuracy: 0.9208 - val_loss: 27.0107 - val_sparse_categorical_accuracy: 0.2660\n",
      "\n",
      "Epoch 00005: LearningRateScheduler reducing learning rate to 0.00010000000474974513.\n",
      "Epoch 5/10\n",
      "179/180 [============================>.] - ETA: 0s - loss: 24.2169 - sparse_categorical_accuracy: 0.9586\n",
      "Epoch 00005: val_sparse_categorical_accuracy improved from 0.26598 to 0.27511, saving model to /home/jefelitman/Saved_Models/trained_jhmdb/Inception/inception_enhan/LTC-enhanced_split1_112x112x16_softmax_sgd_RGB_lr=0.001_video-flip_temporal-dynamic_batchNorm_pretrained-c3d/model_saves/ltc_epoch_5.h5\n",
      "180/180 [==============================] - 69s 384ms/step - loss: 24.2161 - sparse_categorical_accuracy: 0.9588 - val_loss: 26.8521 - val_sparse_categorical_accuracy: 0.2751\n",
      "\n",
      "Epoch 00006: LearningRateScheduler reducing learning rate to 0.000100000005.\n",
      "Epoch 6/10\n",
      "179/180 [============================>.] - ETA: 0s - loss: 24.0757 - sparse_categorical_accuracy: 0.9767\n",
      "Epoch 00006: val_sparse_categorical_accuracy improved from 0.27511 to 0.30137, saving model to /home/jefelitman/Saved_Models/trained_jhmdb/Inception/inception_enhan/LTC-enhanced_split1_112x112x16_softmax_sgd_RGB_lr=0.001_video-flip_temporal-dynamic_batchNorm_pretrained-c3d/model_saves/ltc_epoch_6.h5\n",
      "180/180 [==============================] - 69s 381ms/step - loss: 24.0753 - sparse_categorical_accuracy: 0.9769 - val_loss: 26.8305 - val_sparse_categorical_accuracy: 0.3014\n",
      "\n",
      "Epoch 00007: LearningRateScheduler reducing learning rate to 0.000100000005.\n",
      "Epoch 7/10\n",
      "179/180 [============================>.] - ETA: 0s - loss: 23.9651 - sparse_categorical_accuracy: 0.9865\n",
      "Epoch 00007: val_sparse_categorical_accuracy improved from 0.30137 to 0.30936, saving model to /home/jefelitman/Saved_Models/trained_jhmdb/Inception/inception_enhan/LTC-enhanced_split1_112x112x16_softmax_sgd_RGB_lr=0.001_video-flip_temporal-dynamic_batchNorm_pretrained-c3d/model_saves/ltc_epoch_7.h5\n",
      "180/180 [==============================] - 69s 383ms/step - loss: 23.9646 - sparse_categorical_accuracy: 0.9866 - val_loss: 26.7793 - val_sparse_categorical_accuracy: 0.3094\n",
      "\n",
      "Epoch 00008: LearningRateScheduler reducing learning rate to 0.000100000005.\n",
      "Epoch 8/10\n",
      "179/180 [============================>.] - ETA: 0s - loss: 23.8669 - sparse_categorical_accuracy: 0.9884\n",
      "Epoch 00008: val_sparse_categorical_accuracy did not improve from 0.30936\n",
      "180/180 [==============================] - 69s 386ms/step - loss: 23.8666 - sparse_categorical_accuracy: 0.9884 - val_loss: 26.7006 - val_sparse_categorical_accuracy: 0.3002\n",
      "\n",
      "Epoch 00009: LearningRateScheduler reducing learning rate to 1.0000000474974514e-05.\n",
      "Epoch 9/10\n",
      "179/180 [============================>.] - ETA: 0s - loss: 23.8113 - sparse_categorical_accuracy: 0.9898\n",
      "Epoch 00009: val_sparse_categorical_accuracy improved from 0.30936 to 0.31050, saving model to /home/jefelitman/Saved_Models/trained_jhmdb/Inception/inception_enhan/LTC-enhanced_split1_112x112x16_softmax_sgd_RGB_lr=0.001_video-flip_temporal-dynamic_batchNorm_pretrained-c3d/model_saves/ltc_epoch_9.h5\n",
      "180/180 [==============================] - 69s 385ms/step - loss: 23.8114 - sparse_categorical_accuracy: 0.9898 - val_loss: 26.7053 - val_sparse_categorical_accuracy: 0.3105\n",
      "\n",
      "Epoch 00010: LearningRateScheduler reducing learning rate to 1.0000001e-05.\n",
      "Epoch 10/10\n",
      "179/180 [============================>.] - ETA: 0s - loss: 23.8023 - sparse_categorical_accuracy: 0.9930\n",
      "Epoch 00010: val_sparse_categorical_accuracy did not improve from 0.31050\n",
      "180/180 [==============================] - 69s 384ms/step - loss: 23.8019 - sparse_categorical_accuracy: 0.9931 - val_loss: 26.7002 - val_sparse_categorical_accuracy: 0.3105\n"
     ]
    }
   ],
   "source": [
    "epoch = 10\n",
    "historial = ltc.fit(x = dataset.get_train_generator(canales),\n",
    "                 steps_per_epoch=dataset.train_batches,\n",
    "                 epochs=epoch,\n",
    "                 callbacks=funciones,\n",
    "                 validation_data= dataset.get_test_generator(canales),\n",
    "                 validation_steps=dataset.test_batches,\n",
    "                 max_queue_size=batch_size%24)"
   ]
  },
  {
   "cell_type": "markdown",
   "metadata": {},
   "source": [
    "### Guardado del modelo "
   ]
  },
  {
   "cell_type": "code",
   "execution_count": 29,
   "metadata": {},
   "outputs": [],
   "source": [
    "#Salvado final definitivo del modelo una vez se detenga\n",
    "ltc.save(os.path.join(ltc_save_path,\"ltc_final_{e}.h5\".format(e=epoch)))"
   ]
  },
  {
   "cell_type": "markdown",
   "metadata": {},
   "source": [
    "### Graficas de los resultados de entrenamiento"
   ]
  },
  {
   "cell_type": "code",
   "execution_count": 30,
   "metadata": {
    "scrolled": false
   },
   "outputs": [
    {
     "data": {
      "image/png": "[encoded data removed]",
      "text/plain": [
       "<Figure size 432x288 with 1 Axes>"
      ]
     },
     "metadata": {
      "needs_background": "light"
     },
     "output_type": "display_data"
    }
   ],
   "source": [
    "fig = plt.figure()\n",
    "plt.plot(historial.history[\"loss\"],'k--')\n",
    "plt.plot(historial.history[\"val_loss\"],'b--')\n",
    "plt.title('Loss over epochs')\n",
    "plt.legend(labels=[\"Loss\",\"Val_Loss\"])\n",
    "plt.show()\n",
    "fig.savefig(os.path.join(ltc_save_path,'train_loss_epochs_{e}.png'.format(e=epoch)))"
   ]
  },
  {
   "cell_type": "code",
   "execution_count": 31,
   "metadata": {
    "scrolled": true
   },
   "outputs": [
    {
     "data": {
      "image/png": "[encoded data removed]",
      "text/plain": [
       "<Figure size 432x288 with 1 Axes>"
      ]
     },
     "metadata": {
      "needs_background": "light"
     },
     "output_type": "display_data"
    }
   ],
   "source": [
    "fig = plt.figure()\n",
    "plt.plot(historial.history[\"sparse_categorical_accuracy\"],'k--')\n",
    "plt.plot(historial.history[\"val_sparse_categorical_accuracy\"],'b--')\n",
    "plt.title('Accuracy over epochs')\n",
    "plt.legend(labels=[\"Accuracy\",\"Val_Accuracy\"])\n",
    "plt.show()\n",
    "fig.savefig(os.path.join(ltc_save_path,'train_accuracy_epochs_{e}.png'.format(e=epoch)))"
   ]
  },
  {
   "cell_type": "markdown",
   "metadata": {},
   "source": [
    "### Evaluacion del entrenamiento"
   ]
  },
  {
   "cell_type": "raw",
   "metadata": {},
   "source": [
    "resultados = ltc.evaluate_generator(generator=dataset.get_test_generator(canales),\n",
    "                      steps=dataset.test_batches,\n",
    "                      max_queue_size=batch_size)\n",
    "print(\"\"\"Los resultados de la evaluacion del modelo fueron: \n",
    "Perdida: {l}\n",
    "Precision: {a}\"\"\".format(l=resultados[0],a=resultados[1]))"
   ]
  }
 ],
 "metadata": {
  "kernelspec": {
   "display_name": "Python 3",
   "language": "python",
   "name": "python3"
  },
  "language_info": {
   "codemirror_mode": {
    "name": "ipython",
    "version": 3
   },
   "file_extension": ".py",
   "mimetype": "text/x-python",
   "name": "python",
   "nbconvert_exporter": "python",
   "pygments_lexer": "ipython3",
   "version": "3.6.9"
  }
 },
 "nbformat": 4,
 "nbformat_minor": 2
}
