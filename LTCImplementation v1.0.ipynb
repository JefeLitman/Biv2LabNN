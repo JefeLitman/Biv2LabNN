{
 "cells": [
  {
   "cell_type": "code",
   "execution_count": 1,
   "metadata": {},
   "outputs": [],
   "source": [
    "%matplotlib inline"
   ]
  },
  {
   "cell_type": "markdown",
   "metadata": {},
   "source": [
    "## Definicion del modelo LTC en PyTorch"
   ]
  },
  {
   "cell_type": "code",
   "execution_count": null,
   "metadata": {},
   "outputs": [],
   "source": [
    "import torch #Libreria principal que carga todos los modulos de PyTorch\n",
    "import torch.nn as nn #Liberia NN que permite la creacion de modelos de redes neuronales\n",
    "import torch.nn.functional as F #Libreria F que permite cargar las diferentes funciones para las redes\n",
    "\n",
    "class LTC(nn.Module):\n",
    "\n",
    "    def __init__(self,nro_canales):\n",
    "        super(LTC, self).__init__()\n",
    "        #Capas convolucionales\n",
    "        self.convolucion3d_1 = nn.Conv3d(in_channels=nro_canales,out_channels=64,kernel_size=3,stride=1,padding=1,bias=False)\n",
    "        self.convolucion3d_2 = nn.Conv3d(64,128,kernel_size=3,stride=1,padding=1,bias=False)\n",
    "        self.convolucion3d_3 = nn.Conv3d(128,256,kernel_size=3,stride=1,padding=1,bias=False)\n",
    "        self.convolucion3d_4 = nn.Conv3d(256,256,kernel_size=3,stride=1,padding=1,bias=False)\n",
    "        self.convolucion3d_5 = nn.Conv3d(256,256,kernel_size=3,stride=1,padding=1,bias=False)\n",
    "        self.full_connected_1 = nn.Linear(256*t/16*w/32*h/32,2048) #Como defino la entrada de la primera fc\n",
    "        self.full_connected_2 = nn.Linear(2048,2048)\n",
    "        self.full_connected_3 = nn.Linear(2048,nro_clases)\n",
    "\n",
    "    def forward(self, x):\n",
    "        #Primera convolucion\n",
    "        x = self.convolucion3d_1(x)\n",
    "        x = F.relu(x)\n",
    "        x = F.max_pool3d(x,kernel_size=(1,2,2),stride=(1,2,2)) #En Pytorch el orden de la tupla del kernel es (d,h,w)\n",
    "        #Segunda Convolucion\n",
    "        x = self.convolucion3d_2(x)\n",
    "        x = F.relu(x)\n",
    "        x = F.max_pool3d(x,kernel_size=(2,2,2),stride=(2,2,2))\n",
    "        #Tercera Convolucion\n",
    "        x = self.convolucion3d_3(x)\n",
    "        x = F.relu(x)\n",
    "        x = F.max_pool3d(x,kernel_size=(2,2,2),stride=(2,2,2))\n",
    "        #Cuarta Convolucion\n",
    "        x = self.convolucion3d_4(x)\n",
    "        x = F.relu(x)\n",
    "        x = F.max_pool3d(x,kernel_size=(2,2,2),stride=(2,2,2))\n",
    "        #Quinta Convolucion\n",
    "        x = self.convolucion3d_5(x)\n",
    "        x = F.relu(x)\n",
    "        x = F.max_pool3d(x,kernel_size=(2,2,2),stride=(2,2,2))\n",
    "        #Conversion o ajuste de dimensiones para pasarla a la Full conected\n",
    "        x = x.view(-1, self.numero_plano_caracteristicas(x)) #-1 para mantener correctamente la dimension de los batches\n",
    "        #Primera Fullconected\n",
    "        x = self.full_connected_1(x)\n",
    "        x = F.relu(x)\n",
    "        #Segunda Fullconected\n",
    "        x = self.full_connected_2(x)\n",
    "        x = F.relu(x)\n",
    "        #Tercera Fullconected\n",
    "        x = self.full_connected_3(x)\n",
    "        x = F.log_softmax(x)\n",
    "        return x\n",
    "    \n",
    "    def numero_plano_caracteristicas(self,x):\n",
    "        tamaño = x.size()[1:] #Excluimos el tamaño N que corresponde a los batches\n",
    "        num_caracteristicas = 1\n",
    "        for dimension in tamaño:\n",
    "            num_caracteristicas *= dimension\n",
    "        return num_caracteristicas"
   ]
  },
  {
   "cell_type": "markdown",
   "metadata": {},
   "source": [
    "## Definicion de Carga de Datos con el Modulo de PyTorch"
   ]
  },
  {
   "cell_type": "code",
   "execution_count": null,
   "metadata": {},
   "outputs": [],
   "source": [
    "class FaceLandmarksDataset(Dataset):\n",
    "    \"\"\"Face Landmarks dataset.\"\"\"\n",
    "\n",
    "    def __init__(self, csv_file, root_dir, transform=None):\n",
    "        \"\"\"\n",
    "        Args:\n",
    "            csv_file (string): Path to the csv file with annotations.\n",
    "            root_dir (string): Directory with all the images.\n",
    "            transform (callable, optional): Optional transform to be applied\n",
    "                on a sample.\n",
    "        \"\"\"\n",
    "        self.landmarks_frame = pd.read_csv(csv_file)\n",
    "        self.root_dir = root_dir\n",
    "        self.transform = transform\n",
    "\n",
    "    def __len__(self):\n",
    "        return len(self.landmarks_frame)\n",
    "\n",
    "    def __getitem__(self, idx):\n",
    "        img_name = os.path.join(self.root_dir,\n",
    "                                self.landmarks_frame.iloc[idx, 0])\n",
    "        image = io.imread(img_name)\n",
    "        landmarks = self.landmarks_frame.iloc[idx, 1:].as_matrix()\n",
    "        landmarks = landmarks.astype('float').reshape(-1, 2)\n",
    "        sample = {'image': image, 'landmarks': landmarks}\n",
    "\n",
    "        if self.transform:\n",
    "            sample = self.transform(sample)\n",
    "\n",
    "        return sample"
   ]
  }
 ],
 "metadata": {
  "kernelspec": {
   "display_name": "Python 3",
   "language": "python",
   "name": "python3"
  },
  "language_info": {
   "codemirror_mode": {
    "name": "ipython",
    "version": 3
   },
   "file_extension": ".py",
   "mimetype": "text/x-python",
   "name": "python",
   "nbconvert_exporter": "python",
   "pygments_lexer": "ipython3",
   "version": "3.5.2"
  },
  "widgets": {
   "application/vnd.jupyter.widget-state+json": {
    "state": {},
    "version_major": 2,
    "version_minor": 0
   }
  }
 },
 "nbformat": 4,
 "nbformat_minor": 2
}
