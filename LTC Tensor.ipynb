{
 "cells": [
  {
   "cell_type": "markdown",
   "metadata": {},
   "source": [
    "# Importacion de librerias"
   ]
  },
  {
   "cell_type": "code",
   "execution_count": 21,
   "metadata": {},
   "outputs": [],
   "source": [
    "from __future__ import absolute_import\n",
    "from __future__ import division\n",
    "from __future__ import print_function\n",
    "\n",
    "import argparse\n",
    "import tensorflow as tf\n",
    "import os\n",
    "import pathlib\n",
    "import random\n",
    "import IPython.display as display"
   ]
  },
  {
   "cell_type": "markdown",
   "metadata": {},
   "source": [
    "# Configuraciones de TensorFlow"
   ]
  },
  {
   "cell_type": "code",
   "execution_count": 2,
   "metadata": {},
   "outputs": [],
   "source": [
    "#Definimos esta variable para no usar la GPU si llega a estar ocupada\n",
    "os.environ[\"CUDA_VISIBLE_DEVICES\"]=\"-1\""
   ]
  },
  {
   "cell_type": "code",
   "execution_count": 3,
   "metadata": {},
   "outputs": [],
   "source": [
    "tf.enable_eager_execution()"
   ]
  },
  {
   "cell_type": "code",
   "execution_count": 4,
   "metadata": {},
   "outputs": [
    {
     "data": {
      "text/plain": [
       "True"
      ]
     },
     "execution_count": 4,
     "metadata": {},
     "output_type": "execute_result"
    }
   ],
   "source": [
    "#Comprobar que estoy ejecutandome en modo eagerly\n",
    "tf.executing_eagerly()"
   ]
  },
  {
   "cell_type": "code",
   "execution_count": 5,
   "metadata": {},
   "outputs": [],
   "source": [
    "#Log device placement corresponde a si yo quiero ver la informacion en donde se mapea o guardan las variables que creo\n",
    "config = tf.ConfigProto(log_device_placement=True)"
   ]
  },
  {
   "cell_type": "markdown",
   "metadata": {},
   "source": [
    "# Carga de Datos"
   ]
  },
  {
   "cell_type": "code",
   "execution_count": 10,
   "metadata": {},
   "outputs": [
    {
     "name": "stdout",
     "output_type": "stream",
     "text": [
      "flow  frames\r\n"
     ]
    }
   ],
   "source": [
    "!cd ../DataSets/UCF101 "
   ]
  },
  {
   "cell_type": "code",
   "execution_count": 13,
   "metadata": {},
   "outputs": [
    {
     "data": {
      "text/plain": [
       "PosixPath('../DataSets/UCF101')"
      ]
     },
     "execution_count": 13,
     "metadata": {},
     "output_type": "execute_result"
    }
   ],
   "source": [
    "data_root = pathlib.Path(\"../DataSets/UCF101\")\n",
    "data_root"
   ]
  },
  {
   "cell_type": "code",
   "execution_count": 14,
   "metadata": {},
   "outputs": [
    {
     "name": "stdout",
     "output_type": "stream",
     "text": [
      "../DataSets/UCF101/flow\n",
      "../DataSets/UCF101/frames\n"
     ]
    }
   ],
   "source": [
    "for folder in data_root.iterdir():\n",
    "    print(folder)"
   ]
  },
  {
   "cell_type": "code",
   "execution_count": 36,
   "metadata": {},
   "outputs": [
    {
     "data": {
      "text/plain": [
       "13320"
      ]
     },
     "execution_count": 36,
     "metadata": {},
     "output_type": "execute_result"
    }
   ],
   "source": [
    "videos_rgb_path = list(data_root.glob('frames/*'))\n",
    "#videos_rgb_path = [str(video) for video in videos_rgb_path]\n",
    "len(videos_rgb_path)"
   ]
  },
  {
   "cell_type": "code",
   "execution_count": 37,
   "metadata": {},
   "outputs": [
    {
     "data": {
      "text/plain": [
       "[PosixPath('../DataSets/UCF101/frames/v_PlayingPiano_g24_c04'),\n",
       " PosixPath('../DataSets/UCF101/frames/v_RopeClimbing_g20_c02'),\n",
       " PosixPath('../DataSets/UCF101/frames/v_BlowingCandles_g18_c01'),\n",
       " PosixPath('../DataSets/UCF101/frames/v_Rowing_g05_c04'),\n",
       " PosixPath('../DataSets/UCF101/frames/v_Archery_g23_c07'),\n",
       " PosixPath('../DataSets/UCF101/frames/v_HeadMassage_g16_c04'),\n",
       " PosixPath('../DataSets/UCF101/frames/v_JumpingJack_g07_c04'),\n",
       " PosixPath('../DataSets/UCF101/frames/v_Shotput_g08_c07'),\n",
       " PosixPath('../DataSets/UCF101/frames/v_Skiing_g16_c04'),\n",
       " PosixPath('../DataSets/UCF101/frames/v_PlayingCello_g09_c05')]"
      ]
     },
     "execution_count": 37,
     "metadata": {},
     "output_type": "execute_result"
    }
   ],
   "source": [
    "videos_rgb_path[:10]"
   ]
  },
  {
   "cell_type": "code",
   "execution_count": 43,
   "metadata": {},
   "outputs": [
    {
     "name": "stdout",
     "output_type": "stream",
     "text": [
      "../DataSets/UCF101/frames/v_BasketballDunk_g09_c01\n"
     ]
    }
   ],
   "source": [
    "video_path = random.choice(videos_rgb_path)\n",
    "frames = list(video_path.glob('*'))\n",
    "frames = [str(frame) for frame in frames]\n",
    "print(video_path)"
   ]
  },
  {
   "cell_type": "code",
   "execution_count": 82,
   "metadata": {},
   "outputs": [
    {
     "data": {
      "image/jpeg": "[encoded data removed]",
      "text/plain": [
       "<IPython.core.display.Image object>"
      ]
     },
     "metadata": {},
     "output_type": "display_data"
    }
   ],
   "source": [
    "display.display(display.Image(random.choice(frames)))"
   ]
  },
  {
   "cell_type": "code",
   "execution_count": 76,
   "metadata": {},
   "outputs": [
    {
     "data": {
      "text/plain": [
       "['ApplyEyeMakeup',\n",
       " 'ApplyLipstick',\n",
       " 'Archery',\n",
       " 'BabyCrawling',\n",
       " 'BalanceBeam',\n",
       " 'BandMarching',\n",
       " 'BaseballPitch',\n",
       " 'BasketballDunk',\n",
       " 'Basketball',\n",
       " 'BenchPress']"
      ]
     },
     "execution_count": 76,
     "metadata": {},
     "output_type": "execute_result"
    }
   ],
   "source": [
    "label_names = sorted(item.name for item in videos_rgb_path if item.is_dir())\n",
    "label_names = [clase.split(\"_\")[1] for clase in label_names]\n",
    "\n",
    "#Extraccion de todos los tipos de clases en un vector de python\n",
    "clases = []\n",
    "for clase in label_names:\n",
    "    if clase not in clases:\n",
    "        clases.append(clase)\n",
    "\n",
    "#label_names, __ = tf.unique(label_names)\n",
    "label_names = clases\n",
    "label_names [:10]"
   ]
  },
  {
   "cell_type": "code",
   "execution_count": 83,
   "metadata": {},
   "outputs": [
    {
     "data": {
      "text/plain": [
       "101"
      ]
     },
     "execution_count": 83,
     "metadata": {},
     "output_type": "execute_result"
    }
   ],
   "source": [
    "label_to_index = dict((name, index) for index,name in enumerate(label_names))\n",
    "len(label_to_index)"
   ]
  },
  {
   "cell_type": "code",
   "execution_count": 78,
   "metadata": {},
   "outputs": [
    {
     "data": {
      "text/plain": [
       "'ApplyEyeMakeup'"
      ]
     },
     "execution_count": 78,
     "metadata": {},
     "output_type": "execute_result"
    }
   ],
   "source": [
    "label_names[0]"
   ]
  },
  {
   "cell_type": "code",
   "execution_count": 81,
   "metadata": {},
   "outputs": [
    {
     "data": {
      "text/plain": [
       "[63, 74, 13, 75, 2, 38, 47, 78, 80, 58]"
      ]
     },
     "execution_count": 81,
     "metadata": {},
     "output_type": "execute_result"
    }
   ],
   "source": [
    "videos_labels = [label_to_index[item.name.split(\"_\")[1]] for item in videos_rgb_path]\n",
    "videos_labels[:10]"
   ]
  },
  {
   "cell_type": "markdown",
   "metadata": {},
   "source": [
    "### Como cargar los videos usando la libreria de tensorflow"
   ]
  },
  {
   "cell_type": "code",
   "execution_count": 90,
   "metadata": {},
   "outputs": [
    {
     "data": {
      "text/plain": [
       "PosixPath('../DataSets/UCF101/frames/v_PlayingPiano_g24_c04/frame000140.jpg')"
      ]
     },
     "execution_count": 90,
     "metadata": {},
     "output_type": "execute_result"
    }
   ],
   "source": [
    "videos_rgb = []\n",
    "for video_path in videos_rgb_path:\n",
    "    video = []\n",
    "    for frame_path in sorted(list(video.glob('*'))):\n",
    "        frame_raw = tf.io.read_file(str(frame_path))\n",
    "        "
   ]
  },
  {
   "cell_type": "code",
   "execution_count": 111,
   "metadata": {},
   "outputs": [
    {
     "data": {
      "text/plain": [
       "TensorShape([Dimension(112), Dimension(112), Dimension(3)])"
      ]
     },
     "execution_count": 111,
     "metadata": {},
     "output_type": "execute_result"
    }
   ],
   "source": [
    "frame_raw = tf.io.read_file(str(sorted(list(videos_rgb_path[0].glob('*')))[0]))\n",
    "frame_tensor = tf.image.decode_image(frame_raw, channels=3)\n",
    "frame_tensor = tf.image.resize(frame_tensor,[112,112])\n",
    "frame_tensor.shape"
   ]
  },
  {
   "cell_type": "code",
   "execution_count": 107,
   "metadata": {},
   "outputs": [
    {
     "data": {
      "text/plain": [
       "'../DataSets/UCF101/frames/v_PlayingPiano_g24_c04/frame000001.jpg'"
      ]
     },
     "execution_count": 107,
     "metadata": {},
     "output_type": "execute_result"
    }
   ],
   "source": [
    "str(sorted(list(videos_rgb_path[0].glob('*')))[0])"
   ]
  },
  {
   "cell_type": "code",
   "execution_count": null,
   "metadata": {},
   "outputs": [],
   "source": []
  },
  {
   "cell_type": "code",
   "execution_count": null,
   "metadata": {},
   "outputs": [],
   "source": []
  },
  {
   "cell_type": "code",
   "execution_count": null,
   "metadata": {},
   "outputs": [],
   "source": []
  },
  {
   "cell_type": "markdown",
   "metadata": {},
   "source": [
    "# Red Neuronal"
   ]
  },
  {
   "cell_type": "code",
   "execution_count": null,
   "metadata": {},
   "outputs": [],
   "source": []
  }
 ],
 "metadata": {
  "kernelspec": {
   "display_name": "Python 3",
   "language": "python",
   "name": "python3"
  },
  "language_info": {
   "codemirror_mode": {
    "name": "ipython",
    "version": 3
   },
   "file_extension": ".py",
   "mimetype": "text/x-python",
   "name": "python",
   "nbconvert_exporter": "python",
   "pygments_lexer": "ipython3",
   "version": "3.5.2"
  }
 },
 "nbformat": 4,
 "nbformat_minor": 2
}
