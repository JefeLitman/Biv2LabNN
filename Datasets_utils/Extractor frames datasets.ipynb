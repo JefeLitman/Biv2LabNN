{
 "cells": [
  {
   "cell_type": "markdown",
   "metadata": {},
   "source": [
    "# Importacion de Librerias"
   ]
  },
  {
   "cell_type": "code",
   "execution_count": 1,
   "metadata": {},
   "outputs": [],
   "source": [
    "from shutil import copy2 as copy\n",
    "import multiprocessing.pool\n",
    "from six.moves import range\n",
    "import os\n",
    "import cv2\n",
    "\n",
    "import numpy as np"
   ]
  },
  {
   "cell_type": "markdown",
   "metadata": {},
   "source": [
    "# Carpeta del dataset a extraerle los frames"
   ]
  },
  {
   "cell_type": "code",
   "execution_count": 17,
   "metadata": {},
   "outputs": [],
   "source": [
    "raw_dataset_path = \"/home/jefelitman/DataSets/KTH\"\n",
    "new_dataset_path = \"/home/jefelitman/DataSets/kth\"\n",
    "\n",
    "dataset_folder = new_dataset_path.split(\"/\")[-1]"
   ]
  },
  {
   "cell_type": "code",
   "execution_count": 18,
   "metadata": {},
   "outputs": [
    {
     "name": "stdout",
     "output_type": "stream",
     "text": [
      "/home/jefelitman/DataSets\n"
     ]
    }
   ],
   "source": [
    "%cd /home/jefelitman/DataSets\n",
    "\n",
    "\n",
    "if os.path.isdir(dataset_folder):\n",
    "    %cd dataset_folder\n",
    "else:\n",
    "    os.mkdir(dataset_folder)"
   ]
  },
  {
   "cell_type": "markdown",
   "metadata": {},
   "source": [
    "# Carpetas de test, train y dev segun informacion del dataset"
   ]
  },
  {
   "cell_type": "raw",
   "metadata": {},
   "source": [
    "\"\"\"For the KTH dataset we have the following order \n",
    "Training:   person11, 12, 13, 14, 15, 16, 17, 18\n",
    "Validation: person19, 20, 21, 23, 24, 25, 01, 04\n",
    "Test:       person22, 02, 03, 05, 06, 07, 08, 09, 10 \n",
    "\"\"\""
   ]
  },
  {
   "cell_type": "code",
   "execution_count": 19,
   "metadata": {},
   "outputs": [],
   "source": [
    "#Como me muestra la informacion anterior KTH tiene unicamente 3 divisiones y ningun split\n",
    "folders = [\"train\",\"test\",\"dev\"]\n",
    "for folder in folders:\n",
    "    os.mkdir(os.path.join(new_dataset_path,folder))"
   ]
  },
  {
   "cell_type": "markdown",
   "metadata": {},
   "source": [
    "# Carpetas de clases en test, train y dev"
   ]
  },
  {
   "cell_type": "code",
   "execution_count": 20,
   "metadata": {},
   "outputs": [],
   "source": [
    "#Como estoy trabajando con el dataset kth y subi las carpetas en KTH por clases no es necesario hacer los splits\n",
    "clases = sorted(os.listdir(raw_dataset_path))\n",
    "for folder in folders:\n",
    "    for clase in clases:\n",
    "        os.mkdir(os.path.join(new_dataset_path,folder,clase.lower()))"
   ]
  },
  {
   "cell_type": "markdown",
   "metadata": {},
   "source": [
    "# Empiezo a crear las carpetas de los videos en train, test y dev"
   ]
  },
  {
   "cell_type": "code",
   "execution_count": 21,
   "metadata": {},
   "outputs": [],
   "source": [
    "videos_path = []\n",
    "for clase in clases:\n",
    "    raw_class_path = os.path.join(raw_dataset_path,clase)\n",
    "    videos_path = videos_path + sorted(os.listdir(raw_class_path))"
   ]
  },
  {
   "cell_type": "code",
   "execution_count": 22,
   "metadata": {},
   "outputs": [],
   "source": [
    "training = [\"11\", \"12\", \"13\", \"14\", \"15\", \"16\", \"17\", \"18\"]\n",
    "dev = [\"19\", \"20\", \"21\", \"23\", \"24\", \"25\", \"01\", \"04\"]\n",
    "test = [\"22\", \"02\", \"03\", \"05\", \"06\", \"07\", \"08\", \"09\", \"10\"]\n",
    "\n",
    "for video in videos_path:\n",
    "    clase = video.split(\"_\")[1].lower()\n",
    "    video_path = os.path.join(raw_dataset_path,clase,video)\n",
    "    numero_persona = video.split(\"_\")[0][-2:]\n",
    "\n",
    "    #Train path\n",
    "    if numero_persona in training:\n",
    "        #Creo la carpeta en donde se guardaran los frame del video\n",
    "        save_path = os.path.join(new_dataset_path,\"train\",clase,video[:-4])\n",
    "        os.mkdir(save_path)\n",
    "        #Leo y guardo los frames del video\n",
    "        full_video = cv2.VideoCapture(video_path)\n",
    "        nro_frames = int(full_video.get(cv2.CAP_PROP_FRAME_COUNT))\n",
    "        for i in range(nro_frames):\n",
    "            frame = full_video.read()[1]\n",
    "            if i < 9:\n",
    "                frame_name = \"frame000\" + str(i+1) + \".png\" \n",
    "            elif i < 99:\n",
    "                frame_name = \"frame00\" + str(i+1) + \".png\"\n",
    "            elif i < 999:\n",
    "                frame_name = \"frame0\" + str(i+1) + \".png\"\n",
    "            else:\n",
    "                frame_name = \"frame\" + str(i+1) + \".png\"\n",
    "            frame_path = os.path.join(save_path,frame_name)\n",
    "            cv2.imwrite(frame_path, frame)\n",
    "    #Test path\n",
    "    elif numero_persona in test:\n",
    "        #Creo la carpeta en donde se guardaran los frame del video\n",
    "        save_path = os.path.join(new_dataset_path,\"test\",clase,video[:-4])\n",
    "        os.mkdir(save_path)\n",
    "        #Leo y guardo los frames del video\n",
    "        full_video = cv2.VideoCapture(video_path)\n",
    "        nro_frames = int(full_video.get(cv2.CAP_PROP_FRAME_COUNT))\n",
    "        for i in range(nro_frames):\n",
    "            frame = full_video.read()[1]\n",
    "            if i < 9:\n",
    "                frame_name = \"frame000\" + str(i+1) + \".png\" \n",
    "            elif i < 99:\n",
    "                frame_name = \"frame00\" + str(i+1) + \".png\"\n",
    "            elif i < 999:\n",
    "                frame_name = \"frame0\" + str(i+1) + \".png\"\n",
    "            else:\n",
    "                frame_name = \"frame\" + str(i+1) + \".png\"\n",
    "            frame_path = os.path.join(save_path,frame_name)\n",
    "            cv2.imwrite(frame_path, frame)\n",
    "\n",
    "    #dev path\n",
    "    elif numero_persona in dev:\n",
    "        #Creo la carpeta en donde se guardaran los frame del video\n",
    "        save_path = os.path.join(new_dataset_path,\"dev\",clase,video[:-4])\n",
    "        os.mkdir(save_path)\n",
    "        #Leo y guardo los frames del video\n",
    "        full_video = cv2.VideoCapture(video_path)\n",
    "        nro_frames = int(full_video.get(cv2.CAP_PROP_FRAME_COUNT))\n",
    "        for i in range(nro_frames):\n",
    "            frame = full_video.read()[1]\n",
    "            if i < 9:\n",
    "                frame_name = \"frame000\" + str(i+1) + \".png\" \n",
    "            elif i < 99:\n",
    "                frame_name = \"frame00\" + str(i+1) + \".png\"\n",
    "            elif i < 999:\n",
    "                frame_name = \"frame0\" + str(i+1) + \".png\"\n",
    "            else:\n",
    "                frame_name = \"frame\" + str(i+1) + \".png\"\n",
    "            frame_path = os.path.join(save_path,frame_name)\n",
    "            cv2.imwrite(frame_path, frame)"
   ]
  }
 ],
 "metadata": {
  "kernelspec": {
   "display_name": "Python 3",
   "language": "python",
   "name": "python3"
  },
  "language_info": {
   "codemirror_mode": {
    "name": "ipython",
    "version": 3
   },
   "file_extension": ".py",
   "mimetype": "text/x-python",
   "name": "python",
   "nbconvert_exporter": "python",
   "pygments_lexer": "ipython3",
   "version": "3.6.8"
  }
 },
 "nbformat": 4,
 "nbformat_minor": 2
}
