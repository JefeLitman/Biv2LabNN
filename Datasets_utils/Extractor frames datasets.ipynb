{
 "cells": [
  {
   "cell_type": "markdown",
   "metadata": {},
   "source": [
    "# Importacion de Librerias"
   ]
  },
  {
   "cell_type": "code",
   "execution_count": 1,
   "metadata": {},
   "outputs": [],
   "source": [
    "from shutil import copy2 as copy\n",
    "import multiprocessing.pool\n",
    "from six.moves import range\n",
    "import os\n",
    "import cv2\n",
    "\n",
    "import numpy as np"
   ]
  },
  {
   "cell_type": "markdown",
   "metadata": {},
   "source": [
    "# Carpeta del dataset a extraerle los frames"
   ]
  },
  {
   "cell_type": "code",
   "execution_count": 2,
   "metadata": {},
   "outputs": [],
   "source": [
    "raw_dataset_path = \"/home/jefelitman/DataSets/UT/videos_set_2\"\n",
    "new_dataset_path = \"/home/jefelitman/DataSets/ut/videos_set_2\""
   ]
  },
  {
   "cell_type": "code",
   "execution_count": 3,
   "metadata": {},
   "outputs": [
    {
     "name": "stdout",
     "output_type": "stream",
     "text": [
      "/home/jefelitman/DataSets\n"
     ]
    }
   ],
   "source": [
    "%cd /home/jefelitman/DataSets\n",
    "\n",
    "if os.path.isdir(new_dataset_path):\n",
    "    %cd new_dataset_path\n",
    "else:\n",
    "    os.mkdir(new_dataset_path)"
   ]
  },
  {
   "cell_type": "markdown",
   "metadata": {},
   "source": [
    "# Carpetas de test, train y dev segun informacion del dataset"
   ]
  },
  {
   "cell_type": "raw",
   "metadata": {},
   "source": [
    "\"\"\"For the UT Dataset we don't have split so we have to split our data manually\n",
    "in order to have the three folders\n",
    "\"\"\""
   ]
  },
  {
   "cell_type": "code",
   "execution_count": 4,
   "metadata": {},
   "outputs": [],
   "source": [
    "#Como me muestra la informacion anterior KTH tiene unicamente 3 divisiones y ningun split\n",
    "folders = [\"train\",\"test\"]\n",
    "for folder in folders:\n",
    "    os.mkdir(os.path.join(new_dataset_path,folder))"
   ]
  },
  {
   "cell_type": "markdown",
   "metadata": {},
   "source": [
    "# Carpetas de clases en test, train y dev"
   ]
  },
  {
   "cell_type": "code",
   "execution_count": 5,
   "metadata": {},
   "outputs": [],
   "source": [
    "#Como estoy trabajando con el dataset kth y subi las carpetas en KTH por clases no es necesario hacer los splits\n",
    "clases = [\"Hand_Shaking\",\"Hugging\",\"Kicking\",\"Pointing\",\"Punching\",\"Pushing\"]\n",
    "for folder in folders:\n",
    "    for clase in clases:\n",
    "        os.mkdir(os.path.join(new_dataset_path,folder,clase))"
   ]
  },
  {
   "cell_type": "markdown",
   "metadata": {},
   "source": [
    "# Empiezo a crear las carpetas de los videos en train, test y dev"
   ]
  },
  {
   "cell_type": "code",
   "execution_count": 6,
   "metadata": {},
   "outputs": [],
   "source": [
    "videos_path = [os.path.join(raw_dataset_path, video) for video in sorted(os.listdir(raw_dataset_path))]\n",
    "#for clase in clases:\n",
    "#    raw_class_path = os.path.join(raw_dataset_path,clase)\n",
    "#    videos_path = videos_path + sorted(os.listdir(raw_class_path))"
   ]
  },
  {
   "cell_type": "code",
   "execution_count": 7,
   "metadata": {},
   "outputs": [
    {
     "data": {
      "text/plain": [
       "60"
      ]
     },
     "execution_count": 7,
     "metadata": {},
     "output_type": "execute_result"
    }
   ],
   "source": [
    "len(videos_path)"
   ]
  },
  {
   "cell_type": "code",
   "execution_count": 8,
   "metadata": {},
   "outputs": [],
   "source": [
    "#Genero mis videos por cada clase y los permuto al azar\n",
    "videos_x_clase = []\n",
    "for i in range(len(clases)):\n",
    "    videos_clase = []\n",
    "    for video in videos_path:\n",
    "        if i == int(video.split(\"/\")[-1][-5:-4]):\n",
    "            videos_clase.append(video)\n",
    "    videos_clase = np.random.permutation(videos_clase).tolist()\n",
    "    videos_x_clase.append(videos_clase)"
   ]
  },
  {
   "cell_type": "code",
   "execution_count": 9,
   "metadata": {},
   "outputs": [
    {
     "data": {
      "text/plain": [
       "['/home/jefelitman/DataSets/UT/videos_set_2/56_20_5.avi',\n",
       " '/home/jefelitman/DataSets/UT/videos_set_2/39_17_5.avi',\n",
       " '/home/jefelitman/DataSets/UT/videos_set_2/46_18_5.avi',\n",
       " '/home/jefelitman/DataSets/UT/videos_set_2/35_16_5.avi',\n",
       " '/home/jefelitman/DataSets/UT/videos_set_2/8_12_5.avi',\n",
       " '/home/jefelitman/DataSets/UT/videos_set_2/52_19_5.avi',\n",
       " '/home/jefelitman/DataSets/UT/videos_set_2/20_14_5.avi',\n",
       " '/home/jefelitman/DataSets/UT/videos_set_2/16_13_5.avi',\n",
       " '/home/jefelitman/DataSets/UT/videos_set_2/2_11_5.avi',\n",
       " '/home/jefelitman/DataSets/UT/videos_set_2/29_15_5.avi']"
      ]
     },
     "execution_count": 9,
     "metadata": {},
     "output_type": "execute_result"
    }
   ],
   "source": [
    "videos_x_clase[5]"
   ]
  },
  {
   "cell_type": "code",
   "execution_count": 10,
   "metadata": {},
   "outputs": [],
   "source": [
    "#Proceso para el dataset de UT\n",
    "for k in range(len(videos_x_clase)):\n",
    "    for j in range(len(videos_x_clase[k])):\n",
    "        #Test path\n",
    "        if j >= 8:\n",
    "            #Creo la carpeta en donde se guardaran los frame del video\n",
    "            save_path = os.path.join(new_dataset_path,\"test\",clases[k],videos_x_clase[k][j].split(\"/\")[-1][:-4])\n",
    "        else:\n",
    "            save_path = os.path.join(new_dataset_path,\"train\",clases[k],videos_x_clase[k][j].split(\"/\")[-1][:-4])\n",
    "        os.mkdir(save_path)\n",
    "        #Leo y guardo los frames del video\n",
    "        full_video = cv2.VideoCapture(videos_x_clase[k][j])\n",
    "        nro_frames = int(full_video.get(cv2.CAP_PROP_FRAME_COUNT))\n",
    "        for i in range(2,nro_frames):\n",
    "            frame = full_video.read()[1]\n",
    "            if i < 9:\n",
    "                frame_name = \"frame000\" + str(i+1) + \".png\" \n",
    "            elif i < 99:\n",
    "                frame_name = \"frame00\" + str(i+1) + \".png\"\n",
    "            elif i < 999:\n",
    "                frame_name = \"frame0\" + str(i+1) + \".png\"\n",
    "            else:\n",
    "                frame_name = \"frame\" + str(i+1) + \".png\"\n",
    "            frame_path = os.path.join(save_path,frame_name)\n",
    "            cv2.imwrite(frame_path, frame)"
   ]
  },
  {
   "cell_type": "code",
   "execution_count": null,
   "metadata": {},
   "outputs": [],
   "source": [
    "#Proceso para el dataset de KTH\n",
    "training = [\"11\", \"12\", \"13\", \"14\", \"15\", \"16\", \"17\", \"18\"]\n",
    "dev = [\"19\", \"20\", \"21\", \"23\", \"24\", \"25\", \"01\", \"04\"]\n",
    "test = [\"22\", \"02\", \"03\", \"05\", \"06\", \"07\", \"08\", \"09\", \"10\"]\n",
    "\n",
    "for video in videos_path:\n",
    "    clase = video.split(\"_\")[1].lower()\n",
    "    video_path = os.path.join(raw_dataset_path,clase,video)\n",
    "    numero_persona = video.split(\"_\")[0][-2:]\n",
    "\n",
    "    #Train path\n",
    "    if numero_persona in training:\n",
    "        #Creo la carpeta en donde se guardaran los frame del video\n",
    "        save_path = os.path.join(new_dataset_path,\"train\",clase,video[:-4])\n",
    "        os.mkdir(save_path)\n",
    "        #Leo y guardo los frames del video\n",
    "        full_video = cv2.VideoCapture(video_path)\n",
    "        nro_frames = int(full_video.get(cv2.CAP_PROP_FRAME_COUNT))\n",
    "        for i in range(nro_frames):\n",
    "            frame = full_video.read()[1]\n",
    "            if i < 9:\n",
    "                frame_name = \"frame000\" + str(i+1) + \".png\" \n",
    "            elif i < 99:\n",
    "                frame_name = \"frame00\" + str(i+1) + \".png\"\n",
    "            elif i < 999:\n",
    "                frame_name = \"frame0\" + str(i+1) + \".png\"\n",
    "            else:\n",
    "                frame_name = \"frame\" + str(i+1) + \".png\"\n",
    "            frame_path = os.path.join(save_path,frame_name)\n",
    "            cv2.imwrite(frame_path, frame)\n",
    "    #Test path\n",
    "    elif numero_persona in test:\n",
    "        #Creo la carpeta en donde se guardaran los frame del video\n",
    "        save_path = os.path.join(new_dataset_path,\"test\",clase,video[:-4])\n",
    "        os.mkdir(save_path)\n",
    "        #Leo y guardo los frames del video\n",
    "        full_video = cv2.VideoCapture(video_path)\n",
    "        nro_frames = int(full_video.get(cv2.CAP_PROP_FRAME_COUNT))\n",
    "        for i in range(nro_frames):\n",
    "            frame = full_video.read()[1]\n",
    "            if i < 9:\n",
    "                frame_name = \"frame000\" + str(i+1) + \".png\" \n",
    "            elif i < 99:\n",
    "                frame_name = \"frame00\" + str(i+1) + \".png\"\n",
    "            elif i < 999:\n",
    "                frame_name = \"frame0\" + str(i+1) + \".png\"\n",
    "            else:\n",
    "                frame_name = \"frame\" + str(i+1) + \".png\"\n",
    "            frame_path = os.path.join(save_path,frame_name)\n",
    "            cv2.imwrite(frame_path, frame)\n",
    "\n",
    "    #dev path\n",
    "    elif numero_persona in dev:\n",
    "        #Creo la carpeta en donde se guardaran los frame del video\n",
    "        save_path = os.path.join(new_dataset_path,\"dev\",clase,video[:-4])\n",
    "        os.mkdir(save_path)\n",
    "        #Leo y guardo los frames del video\n",
    "        full_video = cv2.VideoCapture(video_path)\n",
    "        nro_frames = int(full_video.get(cv2.CAP_PROP_FRAME_COUNT))\n",
    "        for i in range(nro_frames):\n",
    "            frame = full_video.read()[1]\n",
    "            if i < 9:\n",
    "                frame_name = \"frame000\" + str(i+1) + \".png\" \n",
    "            elif i < 99:\n",
    "                frame_name = \"frame00\" + str(i+1) + \".png\"\n",
    "            elif i < 999:\n",
    "                frame_name = \"frame0\" + str(i+1) + \".png\"\n",
    "            else:\n",
    "                frame_name = \"frame\" + str(i+1) + \".png\"\n",
    "            frame_path = os.path.join(save_path,frame_name)\n",
    "            cv2.imwrite(frame_path, frame)"
   ]
  },
  {
   "cell_type": "markdown",
   "metadata": {},
   "source": [
    "# Comprobacion de que no haya escrito frames en blanco"
   ]
  },
  {
   "cell_type": "code",
   "execution_count": 11,
   "metadata": {},
   "outputs": [],
   "source": [
    "#Metodo para eliminar frame que quedaron con 0 Bytes de peso en el dataset UT\n",
    "for folder in folders:\n",
    "    for clase in clases:\n",
    "        clase_path = os.path.join(new_dataset_path,folder,clase)\n",
    "        for video in sorted(os.listdir(clase_path)):\n",
    "            video_path = os.path.join(clase_path,video)\n",
    "            for frame in sorted(os.listdir(video_path)):\n",
    "                frame_path = os.path.join(video_path,frame)\n",
    "                if os.path.getsize(frame_path) == 0:\n",
    "                    os.remove(frame_path)"
   ]
  }
 ],
 "metadata": {
  "kernelspec": {
   "display_name": "Python 3",
   "language": "python",
   "name": "python3"
  },
  "language_info": {
   "codemirror_mode": {
    "name": "ipython",
    "version": 3
   },
   "file_extension": ".py",
   "mimetype": "text/x-python",
   "name": "python",
   "nbconvert_exporter": "python",
   "pygments_lexer": "ipython3",
   "version": "3.6.9"
  }
 },
 "nbformat": 4,
 "nbformat_minor": 2
}
