{
 "cells": [
  {
   "cell_type": "markdown",
   "metadata": {},
   "source": [
    "# Cabecera de codigo para seleccionar el dispositivo a usar"
   ]
  },
  {
   "cell_type": "code",
   "execution_count": 1,
   "metadata": {},
   "outputs": [],
   "source": [
    "import os\n",
    "os.environ[\"CUDA_DEVICE_ORDER\"]=\"PCI_BUS_ID\";\n",
    " \n",
    "# The GPU id to use, usually either \"0\" or \"1\" or \"-1\" if you want to use the cpu;\n",
    "os.environ[\"CUDA_VISIBLE_DEVICES\"]=\"-1\";"
   ]
  },
  {
   "cell_type": "markdown",
   "metadata": {},
   "source": [
    "# Importacion de Librerias"
   ]
  },
  {
   "cell_type": "code",
   "execution_count": 2,
   "metadata": {},
   "outputs": [],
   "source": [
    "from __future__ import absolute_import\n",
    "from __future__ import division\n",
    "from __future__ import print_function\n",
    "\n",
    "from shutil import copy2 as copy\n",
    "import multiprocessing.pool\n",
    "from six.moves import range\n",
    "\n",
    "from shutil import rmtree as delete\n",
    "from IPython.display import display, clear_output\n",
    "from time import sleep\n",
    "import numpy as np"
   ]
  },
  {
   "cell_type": "markdown",
   "metadata": {},
   "source": [
    "# Organizando el DataSet"
   ]
  },
  {
   "cell_type": "code",
   "execution_count": 3,
   "metadata": {},
   "outputs": [
    {
     "name": "stdout",
     "output_type": "stream",
     "text": [
      "/home/jefelitman/DataSets\n"
     ]
    }
   ],
   "source": [
    "%cd /home/jefelitman/DataSets\n",
    "\n",
    "if os.path.isdir(\"hmdb51\"):\n",
    "    %cd hmdb51\n",
    "else:\n",
    "    os.mkdir(\"hmdb51\")"
   ]
  },
  {
   "cell_type": "code",
   "execution_count": 4,
   "metadata": {},
   "outputs": [],
   "source": [
    "raw_ds_path = \"/home/jefelitman/DataSets/HMDB51/frames\""
   ]
  },
  {
   "cell_type": "code",
   "execution_count": 5,
   "metadata": {},
   "outputs": [],
   "source": [
    "dst_ds_path = \"/home/jefelitman/DataSets/hmdb51\""
   ]
  },
  {
   "cell_type": "code",
   "execution_count": 6,
   "metadata": {},
   "outputs": [
    {
     "data": {
      "text/plain": [
       "6766"
      ]
     },
     "execution_count": 6,
     "metadata": {},
     "output_type": "execute_result"
    }
   ],
   "source": [
    "len(sorted(os.listdir(raw_ds_path)))"
   ]
  },
  {
   "cell_type": "code",
   "execution_count": null,
   "metadata": {},
   "outputs": [],
   "source": [
    "sorted(os.listdir(raw_ds_path))[:10]"
   ]
  },
  {
   "cell_type": "code",
   "execution_count": null,
   "metadata": {},
   "outputs": [],
   "source": [
    "#saber la cantidad de videos\n",
    "elementos = 0\n",
    "for clase in sorted(os.listdir(raw_ds_path)):\n",
    "    elementos += len(sorted(os.listdir(os.path.join(raw_ds_path, clase))))\n",
    "elementos"
   ]
  },
  {
   "cell_type": "code",
   "execution_count": 7,
   "metadata": {},
   "outputs": [
    {
     "data": {
      "text/plain": [
       "153"
      ]
     },
     "execution_count": 7,
     "metadata": {},
     "output_type": "execute_result"
    }
   ],
   "source": [
    "splits_path = \"/home/jefelitman/splits\"\n",
    "files_path = sorted(os.listdir(splits_path))\n",
    "len(files_path)"
   ]
  },
  {
   "cell_type": "markdown",
   "metadata": {},
   "source": [
    "### Creacion de las carpetas de splits"
   ]
  },
  {
   "cell_type": "raw",
   "metadata": {},
   "source": [
    "\"En este caso como es para el dataset HMDB51 entonces necesitamos 2 divisiones siendp\n",
    "0 - Ese video no se va agregar a ese grupo\n",
    "1 - train\n",
    "2 - test \""
   ]
  },
  {
   "cell_type": "code",
   "execution_count": 8,
   "metadata": {},
   "outputs": [],
   "source": [
    "for split in [\"split_1\",\"split_2\",\"split_3\"]:\n",
    "    split_path = os.path.join(dst_ds_path,split)\n",
    "    os.mkdir(split_path)\n",
    "    for modo in [\"train\", \"test\"]:\n",
    "        modo_path = os.path.join(split_path,modo)\n",
    "        os.mkdir(modo_path)"
   ]
  },
  {
   "cell_type": "markdown",
   "metadata": {},
   "source": [
    "### Colocando los archivos en los splits segun corresponda"
   ]
  },
  {
   "cell_type": "raw",
   "metadata": {},
   "source": [
    "#Renombrando las carpetas para dejarlas todas en minuscula\n",
    "for folder in os.listdir(\"/home/jefelitman/DataSets/UCF101/frames\"):\n",
    "    src = os.path.join(\"/home/jefelitman/DataSets/UCF101/frames\",folder)\n",
    "    dst = os.path.join(\"/home/jefelitman/DataSets/UCF101/frames\",folder.lower())\n",
    "    os.rename(src,dst)"
   ]
  },
  {
   "cell_type": "code",
   "execution_count": 9,
   "metadata": {},
   "outputs": [],
   "source": [
    "for file in files_path:\n",
    "    archivo = open(os.path.join(splits_path,file),\"r\")\n",
    "    clase = file.split(\"_test_\")[0]\n",
    "    \n",
    "    if file.endswith(\"1.txt\"):\n",
    "        split_path = os.path.join(dst_ds_path,\"split_1\")\n",
    "    elif file.endswith(\"2.txt\"):\n",
    "        split_path = os.path.join(dst_ds_path,\"split_2\")\n",
    "    elif file.endswith(\"3.txt\"):\n",
    "        split_path = os.path.join(dst_ds_path,\"split_3\")\n",
    "    else:\n",
    "        raise ValueError('Archivo invalido encontrado')\n",
    "    \n",
    "    for linea in archivo:\n",
    "        video = linea.split(\" \")[0][:-4]\n",
    "        if linea.split(\" \")[1] == '1':\n",
    "            modo = \"train\"\n",
    "        elif linea.split(\" \")[1] == '2':\n",
    "            modo = \"test\"\n",
    "        elif linea.split(\" \")[1] == '0':\n",
    "            modo = None\n",
    "        else:\n",
    "            raise ValueError(\"Ha ocurrido un error con la seleccion de los modos \"\n",
    "                            \"puede que el archivo este mal formateado: {}\".format(linea.split(\" \")[1]))\n",
    "        if modo:\n",
    "            dir_ori_path = os.path.join(raw_ds_path,video)\n",
    "            if not os.path.isdir(os.path.join(split_path,modo,clase)):\n",
    "                os.mkdir(os.path.join(split_path,modo,clase))\n",
    "\n",
    "            dest = os.path.join(split_path,modo,clase,video)\n",
    "            if not os.path.isdir(dest):\n",
    "                os.mkdir(dest) #Creamos la carpeta del destino\n",
    "\n",
    "            for frame in os.listdir(dir_ori_path):\n",
    "                ori = os.path.join(dir_ori_path,frame)\n",
    "                copy(ori,dest)"
   ]
  },
  {
   "cell_type": "code",
   "execution_count": null,
   "metadata": {},
   "outputs": [],
   "source": [
    "#Funcion para comprobar que cada split haya quedado bien hecho\n",
    "for file in files_path:\n",
    "    archivo = list(open(os.path.join(splits_path,file),\"r\"))\n",
    "    \n",
    "    if file.endswith(\"1.txt\"):\n",
    "        split_path = os.path.join(dst_ds_path,\"raw_split_1\")\n",
    "    elif file.endswith(\"2.txt\"):\n",
    "        split_path = os.path.join(dst_ds_path,\"raw_split_2\")\n",
    "    elif file.endswith(\"3.txt\"):\n",
    "        split_path = os.path.join(dst_ds_path,\"raw_split_3\")\n",
    "    else:\n",
    "        raise ValueError('Archivo invalido encontrado')\n",
    "    \n",
    "    for linea in archivo:\n",
    "        video = linea.split(\" \")[0][:-4]\n",
    "        if linea.split(\" \")[1][:-1] == '1':\n",
    "            modo = \"train\"\n",
    "        elif linea.split(\" \")[1][:-1] == '2':\n",
    "            modo = \"test\"\n",
    "        else:\n",
    "            raise ValueError(\"Ha ocurrido un error con la seleccion de los modos \"\n",
    "                            \"puede que el archivo este mal formateado: {}\".format(linea.split(\" \")[1]))\n",
    "    \n",
    "    elementos = 0\n",
    "    for clase in sorted(os.listdir(mode_path)):\n",
    "        videos_path = os.path.join(mode_path,clase)\n",
    "        elementos += len(os.listdir(videos_path))\n",
    "        \n",
    "    if len(archivo) == elementos:\n",
    "        print(True)\n",
    "    else:\n",
    "        print(False)"
   ]
  },
  {
   "cell_type": "code",
   "execution_count": null,
   "metadata": {},
   "outputs": [],
   "source": [
    "#Funcion para eliminar carpetas dentro de los frames que correspondan al flujo o algo similar\n",
    "from shutil import rmtree as delete\n",
    "for video in sorted(os.listdir(\"/home/jefelitman/DataSets/UCF101/frames\")):\n",
    "    frames_path = os.path.join(\"/home/jefelitman/DataSets/UCF101/frames\",video)\n",
    "    for frame in sorted(os.listdir(frames_path)):\n",
    "        file = os.path.join(\"/home/jefelitman/DataSets/UCF101/frames\",video,frame)\n",
    "        if os.path.isdir(file):\n",
    "            delete(file,ignore_errors=True)"
   ]
  },
  {
   "cell_type": "code",
   "execution_count": 13,
   "metadata": {},
   "outputs": [
    {
     "data": {
      "text/plain": [
       "0"
      ]
     },
     "execution_count": 13,
     "metadata": {},
     "output_type": "execute_result"
    }
   ],
   "source": [
    "#Funcion para eliminar los archivos y carpetas que comiencen con un .\n",
    "root = \"/home/jefelitman/DataSets/hmdb51/split_3\"\n",
    "modos = sorted(os.listdir(root))\n",
    "eliminados = 0\n",
    "for modo in modos:\n",
    "    modo_path = os.path.join(root, modo)\n",
    "    if modo.startswith(\".\"):\n",
    "        if os.path.isdir(modo_path):\n",
    "            delete(modo_path, ignore_errors = True)\n",
    "        else:\n",
    "            os.remove(modo_path)\n",
    "        eliminados += 1\n",
    "        break\n",
    "    clases = sorted(os.listdir(modo_path))\n",
    "    \n",
    "    for clase in clases:\n",
    "        clase_path = os.path.join(modo_path, clase)\n",
    "        if clase.startswith(\".\"):\n",
    "            if os.path.isdir(clase_path):\n",
    "                delete(clase_path, ignore_errors = True)\n",
    "            else:\n",
    "                os.remove(clase_path)\n",
    "            eliminados += 1\n",
    "            break\n",
    "        videos = sorted(os.listdir(clase_path))\n",
    "\n",
    "        for video in videos:\n",
    "            video_path = os.path.join(clase_path,video)\n",
    "            if video.startswith(\".\"):\n",
    "                if os.path.isdir(video_path):\n",
    "                    delete(video_path, ignore_errors = True)\n",
    "                else:\n",
    "                    os.remove(video_path)\n",
    "                eliminados += 1\n",
    "                break\n",
    "\n",
    "            frames = sorted(os.listdir(video_path))\n",
    "\n",
    "            for frame in frames:\n",
    "                frame_path = os.path.join(video_path,frame)\n",
    "                if frame.startswith(\".\"):\n",
    "                    if os.path.isdir(frame_path):\n",
    "                        delete(frame_path, ignore_errors = True)\n",
    "                    else:\n",
    "                        os.remove(frame_path)\n",
    "                    eliminados += 1\n",
    "                    break\n",
    "eliminados"
   ]
  },
  {
   "cell_type": "code",
   "execution_count": null,
   "metadata": {},
   "outputs": [],
   "source": [
    "#Funcion para revisar los frames en las carpetas de train, test de todos los splits\n",
    "minframes = 200\n",
    "mode_path = \"/home/jefelitman/DataSets/ucf101/split_3/test\"\n",
    "for clase in sorted(os.listdir(mode_path)):\n",
    "    clase_path = os.path.join(mode_path,clase)\n",
    "    for video in sorted(os.listdir(clase_path)):\n",
    "        video_path = os.path.join(clase_path,video)\n",
    "        if len(os.listdir(video_path)) < minframes:\n",
    "            minframes = len(os.listdir(video_path))\n",
    "            minvideo = video_path\n",
    "\n",
    "print(minframes)\n",
    "print(minvideo)"
   ]
  }
 ],
 "metadata": {
  "kernelspec": {
   "display_name": "Python 3",
   "language": "python",
   "name": "python3"
  },
  "language_info": {
   "codemirror_mode": {
    "name": "ipython",
    "version": 3
   },
   "file_extension": ".py",
   "mimetype": "text/x-python",
   "name": "python",
   "nbconvert_exporter": "python",
   "pygments_lexer": "ipython3",
   "version": "3.6.8"
  }
 },
 "nbformat": 4,
 "nbformat_minor": 2
}
