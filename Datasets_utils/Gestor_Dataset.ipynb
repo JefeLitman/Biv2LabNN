{
 "cells": [
  {
   "cell_type": "markdown",
   "metadata": {},
   "source": [
    "# Cabecera de codigo para seleccionar el dispositivo a usar"
   ]
  },
  {
   "cell_type": "code",
   "execution_count": 1,
   "metadata": {},
   "outputs": [],
   "source": [
    "import os\n",
    "os.environ[\"CUDA_DEVICE_ORDER\"]=\"PCI_BUS_ID\";\n",
    " \n",
    "# The GPU id to use, usually either \"0\" or \"1\" or \"-1\" if you want to use the cpu;\n",
    "os.environ[\"CUDA_VISIBLE_DEVICES\"]=\"-1\";"
   ]
  },
  {
   "cell_type": "markdown",
   "metadata": {},
   "source": [
    "# Importacion de Librerias"
   ]
  },
  {
   "cell_type": "code",
   "execution_count": 2,
   "metadata": {},
   "outputs": [],
   "source": [
    "from __future__ import absolute_import\n",
    "from __future__ import division\n",
    "from __future__ import print_function\n",
    "\n",
    "from shutil import copy2 as copy\n",
    "import multiprocessing.pool\n",
    "from six.moves import range\n",
    "\n",
    "import numpy as np"
   ]
  },
  {
   "cell_type": "markdown",
   "metadata": {},
   "source": [
    "# Organizando el DataSet"
   ]
  },
  {
   "cell_type": "code",
   "execution_count": 3,
   "metadata": {},
   "outputs": [
    {
     "name": "stdout",
     "output_type": "stream",
     "text": [
      "/home/jefelitman/DataSets\n",
      "/home/jefelitman/DataSets/ucf101\n"
     ]
    }
   ],
   "source": [
    "%cd ../DataSets\n",
    "\n",
    "if os.path.isdir(\"ucf101\"):\n",
    "    %cd ucf101\n",
    "else:\n",
    "    os.mkdir(\"ucf101\")"
   ]
  },
  {
   "cell_type": "code",
   "execution_count": 2,
   "metadata": {},
   "outputs": [],
   "source": [
    "ds_directory = \"/home/jefelitman/DataSets/ucf101\""
   ]
  },
  {
   "cell_type": "code",
   "execution_count": 3,
   "metadata": {},
   "outputs": [
    {
     "data": {
      "text/plain": [
       "['testlist02.txt',\n",
       " 'trainlist01.txt',\n",
       " 'classInd.txt',\n",
       " 'trainlist03.txt',\n",
       " 'testlist01.txt',\n",
       " 'testlist03.txt',\n",
       " 'trainlist02.txt']"
      ]
     },
     "execution_count": 3,
     "metadata": {},
     "output_type": "execute_result"
    }
   ],
   "source": [
    "splits_path = \"/home/jefelitman/ucf101_splits\"\n",
    "files_path = os.listdir(splits_path)\n",
    "files_path"
   ]
  },
  {
   "cell_type": "code",
   "execution_count": 4,
   "metadata": {},
   "outputs": [
    {
     "data": {
      "text/plain": [
       "'classInd.txt'"
      ]
     },
     "execution_count": 4,
     "metadata": {},
     "output_type": "execute_result"
    }
   ],
   "source": [
    "files_path.pop(2)"
   ]
  },
  {
   "cell_type": "markdown",
   "metadata": {},
   "source": [
    "### Creacion de las carpetas de clase en los train"
   ]
  },
  {
   "cell_type": "code",
   "execution_count": 7,
   "metadata": {},
   "outputs": [
    {
     "data": {
      "text/plain": [
       "101"
      ]
     },
     "execution_count": 7,
     "metadata": {},
     "output_type": "execute_result"
    }
   ],
   "source": [
    "clases_file = open(os.path.join(splits_path,'classInd.txt'),\"r\")\n",
    "clases = []\n",
    "for clase in clases_file:\n",
    "    clases.append(clase.split(\" \")[1][:-1])\n",
    "len(clases)"
   ]
  },
  {
   "cell_type": "code",
   "execution_count": 14,
   "metadata": {},
   "outputs": [],
   "source": [
    "for split in [\"split_1\",\"split_2\",\"split_3\"]:\n",
    "    split_path = os.path.join(ds_directory,split)\n",
    "    for folder in os.listdir(split_path):\n",
    "        for clase in clases:\n",
    "            os.mkdir(os.path.join(split_path,folder,clase))"
   ]
  },
  {
   "cell_type": "markdown",
   "metadata": {},
   "source": [
    "### Colocando los archivos en los splits segun corresponda"
   ]
  },
  {
   "cell_type": "code",
   "execution_count": null,
   "metadata": {},
   "outputs": [],
   "source": [
    "#Renombrando las carpetas para dejarlas todas en minuscula\n",
    "for folder in os.listdir(\"/home/jefelitman/DataSets/UCF101/frames\"):\n",
    "    src = os.path.join(\"/home/jefelitman/DataSets/UCF101/frames\",folder)\n",
    "    dst = os.path.join(\"/home/jefelitman/DataSets/UCF101/frames\",folder.lower())\n",
    "    os.rename(src,dst)"
   ]
  },
  {
   "cell_type": "code",
   "execution_count": 2,
   "metadata": {},
   "outputs": [
    {
     "data": {
      "text/plain": [
       "['v_RockClimbingIndoor_g02_c02.bin',\n",
       " 'v_PlayingPiano_g24_c04',\n",
       " 'v_RopeClimbing_g20_c02',\n",
       " 'v_HulaHoop_g16_c03.bin',\n",
       " 'v_BlowingCandles_g18_c01',\n",
       " 'v_BreastStroke_g01_c03.bin',\n",
       " 'v_Rowing_g05_c04',\n",
       " 'v_Swing_g16_c01.bin',\n",
       " 'v_ParallelBars_g11_c04.bin',\n",
       " 'v_Nunchucks_g17_c02.bin']"
      ]
     },
     "execution_count": 2,
     "metadata": {},
     "output_type": "execute_result"
    }
   ],
   "source": [
    "os.listdir(\"/home/jefelitman/DataSets/UCF101/flow/u\")[:10]"
   ]
  },
  {
   "cell_type": "code",
   "execution_count": 16,
   "metadata": {},
   "outputs": [],
   "source": [
    "origen_path = \"/home/jefelitman/DataSets/UCF101/frames\"\n",
    "for file in files_path:\n",
    "    archivo = open(os.path.join(splits_path,file),\"r\")\n",
    "    \n",
    "    if file.endswith(\"01.txt\"):\n",
    "        split_path = os.path.join(ds_directory,\"split_1\")\n",
    "    elif file.endswith(\"02.txt\"):\n",
    "        split_path = os.path.join(ds_directory,\"split_2\")\n",
    "    elif file.endswith(\"03.txt\"):\n",
    "        split_path = os.path.join(ds_directory,\"split_3\")\n",
    "    if file.startswith(\"train\"):\n",
    "        split_path = os.path.join(split_path,\"train\")\n",
    "    elif file.startswith(\"test\"):\n",
    "        split_path = os.path.join(split_path,\"test\")\n",
    "    \n",
    "    for linea in archivo:\n",
    "        clase = linea.split(\"/\")[0]\n",
    "        video = linea.split(\"/\")[1][:-1]\n",
    "        dir_ori_path = os.path.join(origen_path,video.lower())\n",
    "        dest = os.path.join(split_path,clase,video.lower())\n",
    "        os.mkdir(dest) #Creamos la carpeta del destino\n",
    "        \n",
    "        for frame in os.listdir(dir_ori_path):\n",
    "            ori = os.path.join(dir_ori_path,frame)\n",
    "            copy(ori,dest)"
   ]
  },
  {
   "cell_type": "code",
   "execution_count": 13,
   "metadata": {},
   "outputs": [],
   "source": [
    "#Funcion para eliminar carpetas dentro de los frames que correspondan al flujo o algo similar\n",
    "from shutil import rmtree as delete\n",
    "for video in sorted(os.listdir(\"/home/jefelitman/DataSets/UCF101/frames\")):\n",
    "    frames_path = os.path.join(\"/home/jefelitman/DataSets/UCF101/frames\",video)\n",
    "    for frame in sorted(os.listdir(frames_path)):\n",
    "        file = os.path.join(\"/home/jefelitman/DataSets/UCF101/frames\",video,frame)\n",
    "        if os.path.isdir(file):\n",
    "            delete(file,ignore_errors=True)"
   ]
  },
  {
   "cell_type": "code",
   "execution_count": 11,
   "metadata": {},
   "outputs": [
    {
     "name": "stdout",
     "output_type": "stream",
     "text": [
      "True\n",
      "True\n",
      "True\n",
      "True\n",
      "True\n",
      "True\n"
     ]
    }
   ],
   "source": [
    "#Funcion para comprobar que cada split haya quedado bien hecho\n",
    "for file in files_path:\n",
    "    archivo = list(open(os.path.join(splits_path,file),\"r\"))\n",
    "    \n",
    "    if file.endswith(\"01.txt\"):\n",
    "        split_path = os.path.join(ds_directory,\"split_1\")\n",
    "    elif file.endswith(\"02.txt\"):\n",
    "        split_path = os.path.join(ds_directory,\"split_2\")\n",
    "    elif file.endswith(\"03.txt\"):\n",
    "        split_path = os.path.join(ds_directory,\"split_3\")\n",
    "    if file.startswith(\"train\"):\n",
    "        mode_path = os.path.join(split_path,\"train\")\n",
    "    elif file.startswith(\"test\"):\n",
    "        mode_path = os.path.join(split_path,\"test\")\n",
    "    \n",
    "    elementos = 0\n",
    "    for clase in sorted(os.listdir(mode_path)):\n",
    "        videos_path = os.path.join(mode_path,clase)\n",
    "        elementos += len(os.listdir(videos_path))\n",
    "        \n",
    "    if len(archivo) == elementos:\n",
    "        print(True)\n",
    "    else:\n",
    "        print(False)"
   ]
  },
  {
   "cell_type": "code",
   "execution_count": 10,
   "metadata": {},
   "outputs": [
    {
     "name": "stdout",
     "output_type": "stream",
     "text": [
      "0\n"
     ]
    }
   ],
   "source": [
    "#Funcion para eliminar la carpeta .ipynb_checkpoints\n",
    "import os\n",
    "from shutil import rmtree as delete\n",
    "eliminados = 0\n",
    "root = \"/home/jefelitman/DataSets/ucf101/\"\n",
    "splits = sorted(os.listdir(root))\n",
    "\n",
    "for split in splits:\n",
    "    split_path = os.path.join(root,split)\n",
    "    if split == '.ipynb_checkpoints':\n",
    "        delete(split_path,ignore_errors=True)\n",
    "        eliminados += 1\n",
    "        break\n",
    "    modes = sorted(os.listdir(split_path))\n",
    "    \n",
    "    for mode in modes:\n",
    "        mode_path = os.path.join(split_path,mode)\n",
    "        if mode == '.ipynb_checkpoints':\n",
    "            delete(mode_path,ignore_errors=True)\n",
    "            eliminados += 1\n",
    "            break\n",
    "        clases = sorted(os.listdir(mode_path))\n",
    "        \n",
    "        for clase in clases:\n",
    "            clase_path = os.path.join(mode_path,clase)\n",
    "            if clase == '.ipynb_checkpoints':\n",
    "                delete(clase_path,ignore_errors=True)\n",
    "                eliminados += 1\n",
    "                break\n",
    "            videos = sorted( os.listdir( clase_path ) )\n",
    "            \n",
    "            for video in videos:\n",
    "                video_path = os.path.join(clase_path,video)\n",
    "                if video == '.ipynb_checkpoints':\n",
    "                    delete(video_path,ignore_errors=True)\n",
    "                    eliminados += 1\n",
    "                    break\n",
    "                frames = sorted( os.listdir(video_path) )\n",
    "                \n",
    "                for frame in frames:\n",
    "                    frame_path = os.path.join(video_path,frame)\n",
    "                    if frame == '.ipynb_checkpoints':\n",
    "                        delete(frame_path,ignore_errors=True)\n",
    "                        eliminados += 1\n",
    "                        break\n",
    "\n",
    "print(eliminados)"
   ]
  },
  {
   "cell_type": "code",
   "execution_count": 7,
   "metadata": {},
   "outputs": [
    {
     "name": "stdout",
     "output_type": "stream",
     "text": [
      "29\n",
      "/home/jefelitman/DataSets/ucf101/split_3/test/PushUps/v_pushups_g16_c04\n"
     ]
    }
   ],
   "source": [
    "#Funcion para revisar los frames en las carpetas de train, test de todos los splits\n",
    "minframes = 200\n",
    "mode_path = \"/home/jefelitman/DataSets/ucf101/split_3/test\"\n",
    "for clase in sorted(os.listdir(mode_path)):\n",
    "    clase_path = os.path.join(mode_path,clase)\n",
    "    for video in sorted(os.listdir(clase_path)):\n",
    "        video_path = os.path.join(clase_path,video)\n",
    "        if len(os.listdir(video_path)) < minframes:\n",
    "            minframes = len(os.listdir(video_path))\n",
    "            minvideo = video_path\n",
    "\n",
    "print(minframes)\n",
    "print(minvideo)"
   ]
  },
  {
   "cell_type": "code",
   "execution_count": null,
   "metadata": {},
   "outputs": [],
   "source": []
  }
 ],
 "metadata": {
  "kernelspec": {
   "display_name": "Python 3",
   "language": "python",
   "name": "python3"
  },
  "language_info": {
   "codemirror_mode": {
    "name": "ipython",
    "version": 3
   },
   "file_extension": ".py",
   "mimetype": "text/x-python",
   "name": "python",
   "nbconvert_exporter": "python",
   "pygments_lexer": "ipython3",
   "version": "3.6.8"
  }
 },
 "nbformat": 4,
 "nbformat_minor": 2
}
