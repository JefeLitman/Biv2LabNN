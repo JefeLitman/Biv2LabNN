{
 "cells": [
  {
   "cell_type": "markdown",
   "metadata": {},
   "source": [
    "# Cabecera de codigo para seleccionar el dispositivo a usar"
   ]
  },
  {
   "cell_type": "code",
   "execution_count": 1,
   "metadata": {},
   "outputs": [],
   "source": [
    "import os\n",
    "os.environ[\"CUDA_DEVICE_ORDER\"]=\"PCI_BUS_ID\";\n",
    " \n",
    "# The GPU id to use, usually either \"0\" or \"1\" or \"-1\" if you want to use the cpu;\n",
    "os.environ[\"CUDA_VISIBLE_DEVICES\"]=\"-1\";"
   ]
  },
  {
   "cell_type": "markdown",
   "metadata": {},
   "source": [
    "# Importacion de Librerias"
   ]
  },
  {
   "cell_type": "code",
   "execution_count": 2,
   "metadata": {},
   "outputs": [],
   "source": [
    "from __future__ import absolute_import\n",
    "from __future__ import division\n",
    "from __future__ import print_function\n",
    "\n",
    "from shutil import copy2 as copy\n",
    "import multiprocessing.pool\n",
    "from six.moves import range\n",
    "\n",
    "import numpy as np"
   ]
  },
  {
   "cell_type": "markdown",
   "metadata": {},
   "source": [
    "# Organizando el DataSet"
   ]
  },
  {
   "cell_type": "code",
   "execution_count": 3,
   "metadata": {},
   "outputs": [
    {
     "name": "stdout",
     "output_type": "stream",
     "text": [
      "/home/jefelitman/DataSets\n",
      "/home/jefelitman/DataSets/hmdb51\n"
     ]
    }
   ],
   "source": [
    "%cd /home/jefelitman/DataSets\n",
    "\n",
    "if os.path.isdir(\"hmdb51\"):\n",
    "    %cd hmdb51\n",
    "else:\n",
    "    os.mkdir(\"hmdb51\")"
   ]
  },
  {
   "cell_type": "code",
   "execution_count": 10,
   "metadata": {},
   "outputs": [],
   "source": [
    "ds_directory = \"/home/jefelitman/DataSets/HMDB51/frames/laughing_out_her_brains_laugh_u_cm_np1_fr_med_3\""
   ]
  },
  {
   "cell_type": "code",
   "execution_count": 14,
   "metadata": {},
   "outputs": [
    {
     "data": {
      "text/plain": [
       "['frame000001.jpg',\n",
       " 'frame000002.jpg',\n",
       " 'frame000003.jpg',\n",
       " 'frame000004.jpg',\n",
       " 'frame000005.jpg',\n",
       " 'frame000006.jpg',\n",
       " 'frame000007.jpg',\n",
       " 'frame000008.jpg',\n",
       " 'frame000009.jpg',\n",
       " 'frame000010.jpg',\n",
       " 'frame000011.jpg',\n",
       " 'frame000012.jpg',\n",
       " 'frame000013.jpg',\n",
       " 'frame000014.jpg',\n",
       " 'frame000015.jpg',\n",
       " 'frame000016.jpg',\n",
       " 'frame000017.jpg',\n",
       " 'frame000018.jpg',\n",
       " 'frame000019.jpg',\n",
       " 'frame000020.jpg',\n",
       " 'frame000021.jpg',\n",
       " 'frame000022.jpg',\n",
       " 'frame000023.jpg',\n",
       " 'frame000024.jpg',\n",
       " 'frame000025.jpg',\n",
       " 'frame000026.jpg',\n",
       " 'frame000027.jpg',\n",
       " 'frame000028.jpg',\n",
       " 'frame000029.jpg',\n",
       " 'frame000030.jpg',\n",
       " 'frame000031.jpg',\n",
       " 'frame000032.jpg',\n",
       " 'frame000033.jpg',\n",
       " 'frame000034.jpg',\n",
       " 'frame000035.jpg',\n",
       " 'frame000036.jpg',\n",
       " 'frame000037.jpg',\n",
       " 'frame000038.jpg',\n",
       " 'frame000039.jpg',\n",
       " 'frame000040.jpg',\n",
       " 'frame000041.jpg',\n",
       " 'frame000042.jpg',\n",
       " 'frame000043.jpg',\n",
       " 'frame000044.jpg',\n",
       " 'frame000045.jpg',\n",
       " 'frame000046.jpg',\n",
       " 'frame000047.jpg',\n",
       " 'frame000048.jpg',\n",
       " 'frame000049.jpg',\n",
       " 'frame000050.jpg',\n",
       " 'frame000051.jpg',\n",
       " 'frame000052.jpg',\n",
       " 'frame000053.jpg',\n",
       " 'frame000054.jpg',\n",
       " 'frame000055.jpg',\n",
       " 'frame000056.jpg',\n",
       " 'frame000057.jpg',\n",
       " 'frame000058.jpg',\n",
       " 'frame000059.jpg',\n",
       " 'frame000060.jpg',\n",
       " 'frame000061.jpg',\n",
       " 'frame000062.jpg',\n",
       " 'frame000063.jpg',\n",
       " 'frame000064.jpg',\n",
       " 'frame000065.jpg',\n",
       " 'frame000066.jpg',\n",
       " 'frame000067.jpg',\n",
       " 'frame000068.jpg',\n",
       " 'frame000069.jpg',\n",
       " 'frame000070.jpg',\n",
       " 'frame000071.jpg',\n",
       " 'frame000072.jpg',\n",
       " 'frame000073.jpg',\n",
       " 'frame000074.jpg',\n",
       " 'frame000075.jpg',\n",
       " 'frame000076.jpg',\n",
       " 'frame000077.jpg',\n",
       " 'frame000078.jpg',\n",
       " 'frame000079.jpg',\n",
       " 'frame000080.jpg',\n",
       " 'frame000081.jpg',\n",
       " 'frame000082.jpg',\n",
       " 'frame000083.jpg',\n",
       " 'frame000084.jpg',\n",
       " 'frame000085.jpg',\n",
       " 'frame000086.jpg',\n",
       " 'frame000087.jpg',\n",
       " 'frame000088.jpg',\n",
       " 'frame000089.jpg',\n",
       " 'frame000090.jpg',\n",
       " 'frame000091.jpg',\n",
       " 'frame000092.jpg',\n",
       " 'frame000093.jpg',\n",
       " 'frame000094.jpg',\n",
       " 'frame000095.jpg',\n",
       " 'frame000096.jpg',\n",
       " 'frame000097.jpg',\n",
       " 'frame000098.jpg',\n",
       " 'frame000099.jpg',\n",
       " 'frame000100.jpg',\n",
       " 'frame000101.jpg',\n",
       " 'frame000102.jpg',\n",
       " 'frame000103.jpg',\n",
       " 'frame000104.jpg',\n",
       " 'frame000105.jpg',\n",
       " 'frame000106.jpg',\n",
       " 'frame000107.jpg',\n",
       " 'frame000108.jpg',\n",
       " 'frame000109.jpg',\n",
       " 'frame000110.jpg',\n",
       " 'frame000111.jpg',\n",
       " 'frame000112.jpg',\n",
       " 'frame000113.jpg',\n",
       " 'frame000114.jpg',\n",
       " 'frame000115.jpg',\n",
       " 'frame000116.jpg',\n",
       " 'frame000117.jpg',\n",
       " 'frame000118.jpg',\n",
       " 'frame000119.jpg',\n",
       " 'frame000120.jpg',\n",
       " 'frame000121.jpg',\n",
       " 'frame000122.jpg',\n",
       " 'frame000123.jpg',\n",
       " 'frame000124.jpg',\n",
       " 'frame000125.jpg',\n",
       " 'frame000126.jpg',\n",
       " 'frame000127.jpg',\n",
       " 'frame000128.jpg',\n",
       " 'frame000129.jpg',\n",
       " 'frame000130.jpg',\n",
       " 'frame000131.jpg',\n",
       " 'frame000132.jpg',\n",
       " 'frame000133.jpg',\n",
       " 'frame000134.jpg',\n",
       " 'frame000135.jpg',\n",
       " 'frame000136.jpg',\n",
       " 'frame000137.jpg',\n",
       " 'frame000138.jpg',\n",
       " 'frame000139.jpg',\n",
       " 'frame000140.jpg',\n",
       " 'frame000141.jpg',\n",
       " 'frame000142.jpg',\n",
       " 'frame000143.jpg',\n",
       " 'frame000144.jpg',\n",
       " 'frame000145.jpg',\n",
       " 'frame000146.jpg',\n",
       " 'frame000147.jpg',\n",
       " 'frame000148.jpg',\n",
       " 'frame000149.jpg',\n",
       " 'frame000150.jpg',\n",
       " 'frame000151.jpg',\n",
       " 'frame000152.jpg',\n",
       " 'frame000153.jpg',\n",
       " 'frame000154.jpg',\n",
       " 'frame000155.jpg',\n",
       " 'frame000156.jpg',\n",
       " 'frame000157.jpg',\n",
       " 'frame000158.jpg',\n",
       " 'frame000159.jpg',\n",
       " 'frame000160.jpg',\n",
       " 'frame000161.jpg',\n",
       " 'frame000162.jpg',\n",
       " 'frame000163.jpg',\n",
       " 'frame000164.jpg',\n",
       " 'frame000165.jpg',\n",
       " 'frame000166.jpg',\n",
       " 'frame000167.jpg',\n",
       " 'frame000168.jpg',\n",
       " 'frame000169.jpg',\n",
       " 'frame000170.jpg',\n",
       " 'frame000171.jpg',\n",
       " 'frame000172.jpg',\n",
       " 'frame000173.jpg',\n",
       " 'frame000174.jpg',\n",
       " 'frame000175.jpg',\n",
       " 'frame000176.jpg',\n",
       " 'frame000177.jpg',\n",
       " 'frame000178.jpg',\n",
       " 'frame000179.jpg',\n",
       " 'frame000180.jpg']"
      ]
     },
     "execution_count": 14,
     "metadata": {},
     "output_type": "execute_result"
    }
   ],
   "source": [
    "sorted(os.listdir(ds_directory))"
   ]
  },
  {
   "cell_type": "code",
   "execution_count": 3,
   "metadata": {},
   "outputs": [
    {
     "data": {
      "text/plain": [
       "['testlist02.txt',\n",
       " 'trainlist01.txt',\n",
       " 'classInd.txt',\n",
       " 'trainlist03.txt',\n",
       " 'testlist01.txt',\n",
       " 'testlist03.txt',\n",
       " 'trainlist02.txt']"
      ]
     },
     "execution_count": 3,
     "metadata": {},
     "output_type": "execute_result"
    }
   ],
   "source": [
    "splits_path = \"/home/jefelitman/ucf101_splits\"\n",
    "files_path = os.listdir(splits_path)\n",
    "files_path"
   ]
  },
  {
   "cell_type": "code",
   "execution_count": 4,
   "metadata": {},
   "outputs": [
    {
     "data": {
      "text/plain": [
       "'classInd.txt'"
      ]
     },
     "execution_count": 4,
     "metadata": {},
     "output_type": "execute_result"
    }
   ],
   "source": [
    "files_path.pop(2)"
   ]
  },
  {
   "cell_type": "markdown",
   "metadata": {},
   "source": [
    "### Creacion de las carpetas de clase en los train"
   ]
  },
  {
   "cell_type": "code",
   "execution_count": 7,
   "metadata": {},
   "outputs": [
    {
     "data": {
      "text/plain": [
       "101"
      ]
     },
     "execution_count": 7,
     "metadata": {},
     "output_type": "execute_result"
    }
   ],
   "source": [
    "clases_file = open(os.path.join(splits_path,'classInd.txt'),\"r\")\n",
    "clases = []\n",
    "for clase in clases_file:\n",
    "    clases.append(clase.split(\" \")[1][:-1])\n",
    "len(clases)"
   ]
  },
  {
   "cell_type": "code",
   "execution_count": 14,
   "metadata": {},
   "outputs": [],
   "source": [
    "for split in [\"split_1\",\"split_2\",\"split_3\"]:\n",
    "    split_path = os.path.join(ds_directory,split)\n",
    "    for folder in os.listdir(split_path):\n",
    "        for clase in clases:\n",
    "            os.mkdir(os.path.join(split_path,folder,clase))"
   ]
  },
  {
   "cell_type": "markdown",
   "metadata": {},
   "source": [
    "### Colocando los archivos en los splits segun corresponda"
   ]
  },
  {
   "cell_type": "code",
   "execution_count": null,
   "metadata": {},
   "outputs": [],
   "source": [
    "#Renombrando las carpetas para dejarlas todas en minuscula\n",
    "for folder in os.listdir(\"/home/jefelitman/DataSets/UCF101/frames\"):\n",
    "    src = os.path.join(\"/home/jefelitman/DataSets/UCF101/frames\",folder)\n",
    "    dst = os.path.join(\"/home/jefelitman/DataSets/UCF101/frames\",folder.lower())\n",
    "    os.rename(src,dst)"
   ]
  },
  {
   "cell_type": "code",
   "execution_count": 2,
   "metadata": {},
   "outputs": [
    {
     "data": {
      "text/plain": [
       "['v_RockClimbingIndoor_g02_c02.bin',\n",
       " 'v_PlayingPiano_g24_c04',\n",
       " 'v_RopeClimbing_g20_c02',\n",
       " 'v_HulaHoop_g16_c03.bin',\n",
       " 'v_BlowingCandles_g18_c01',\n",
       " 'v_BreastStroke_g01_c03.bin',\n",
       " 'v_Rowing_g05_c04',\n",
       " 'v_Swing_g16_c01.bin',\n",
       " 'v_ParallelBars_g11_c04.bin',\n",
       " 'v_Nunchucks_g17_c02.bin']"
      ]
     },
     "execution_count": 2,
     "metadata": {},
     "output_type": "execute_result"
    }
   ],
   "source": [
    "os.listdir(\"/home/jefelitman/DataSets/UCF101/flow/u\")[:10]"
   ]
  },
  {
   "cell_type": "code",
   "execution_count": 16,
   "metadata": {},
   "outputs": [],
   "source": [
    "origen_path = \"/home/jefelitman/DataSets/UCF101/frames\"\n",
    "for file in files_path:\n",
    "    archivo = open(os.path.join(splits_path,file),\"r\")\n",
    "    \n",
    "    if file.endswith(\"01.txt\"):\n",
    "        split_path = os.path.join(ds_directory,\"split_1\")\n",
    "    elif file.endswith(\"02.txt\"):\n",
    "        split_path = os.path.join(ds_directory,\"split_2\")\n",
    "    elif file.endswith(\"03.txt\"):\n",
    "        split_path = os.path.join(ds_directory,\"split_3\")\n",
    "    if file.startswith(\"train\"):\n",
    "        split_path = os.path.join(split_path,\"train\")\n",
    "    elif file.startswith(\"test\"):\n",
    "        split_path = os.path.join(split_path,\"test\")\n",
    "    \n",
    "    for linea in archivo:\n",
    "        clase = linea.split(\"/\")[0]\n",
    "        video = linea.split(\"/\")[1][:-1]\n",
    "        dir_ori_path = os.path.join(origen_path,video.lower())\n",
    "        dest = os.path.join(split_path,clase,video.lower())\n",
    "        os.mkdir(dest) #Creamos la carpeta del destino\n",
    "        \n",
    "        for frame in os.listdir(dir_ori_path):\n",
    "            ori = os.path.join(dir_ori_path,frame)\n",
    "            copy(ori,dest)"
   ]
  },
  {
   "cell_type": "code",
   "execution_count": 13,
   "metadata": {},
   "outputs": [],
   "source": [
    "#Funcion para eliminar carpetas dentro de los frames que correspondan al flujo o algo similar\n",
    "from shutil import rmtree as delete\n",
    "for video in sorted(os.listdir(\"/home/jefelitman/DataSets/UCF101/frames\")):\n",
    "    frames_path = os.path.join(\"/home/jefelitman/DataSets/UCF101/frames\",video)\n",
    "    for frame in sorted(os.listdir(frames_path)):\n",
    "        file = os.path.join(\"/home/jefelitman/DataSets/UCF101/frames\",video,frame)\n",
    "        if os.path.isdir(file):\n",
    "            delete(file,ignore_errors=True)"
   ]
  },
  {
   "cell_type": "code",
   "execution_count": 11,
   "metadata": {},
   "outputs": [
    {
     "name": "stdout",
     "output_type": "stream",
     "text": [
      "True\n",
      "True\n",
      "True\n",
      "True\n",
      "True\n",
      "True\n"
     ]
    }
   ],
   "source": [
    "#Funcion para comprobar que cada split haya quedado bien hecho\n",
    "for file in files_path:\n",
    "    archivo = list(open(os.path.join(splits_path,file),\"r\"))\n",
    "    \n",
    "    if file.endswith(\"01.txt\"):\n",
    "        split_path = os.path.join(ds_directory,\"split_1\")\n",
    "    elif file.endswith(\"02.txt\"):\n",
    "        split_path = os.path.join(ds_directory,\"split_2\")\n",
    "    elif file.endswith(\"03.txt\"):\n",
    "        split_path = os.path.join(ds_directory,\"split_3\")\n",
    "    if file.startswith(\"train\"):\n",
    "        mode_path = os.path.join(split_path,\"train\")\n",
    "    elif file.startswith(\"test\"):\n",
    "        mode_path = os.path.join(split_path,\"test\")\n",
    "    \n",
    "    elementos = 0\n",
    "    for clase in sorted(os.listdir(mode_path)):\n",
    "        videos_path = os.path.join(mode_path,clase)\n",
    "        elementos += len(os.listdir(videos_path))\n",
    "        \n",
    "    if len(archivo) == elementos:\n",
    "        print(True)\n",
    "    else:\n",
    "        print(False)"
   ]
  },
  {
   "cell_type": "code",
   "execution_count": 10,
   "metadata": {},
   "outputs": [
    {
     "name": "stdout",
     "output_type": "stream",
     "text": [
      "0\n"
     ]
    }
   ],
   "source": [
    "#Funcion para eliminar la carpeta .ipynb_checkpoints\n",
    "import os\n",
    "from shutil import rmtree as delete\n",
    "eliminados = 0\n",
    "root = \"/home/jefelitman/DataSets/ucf101/\"\n",
    "splits = sorted(os.listdir(root))\n",
    "\n",
    "for split in splits:\n",
    "    split_path = os.path.join(root,split)\n",
    "    if split == '.ipynb_checkpoints':\n",
    "        delete(split_path,ignore_errors=True)\n",
    "        eliminados += 1\n",
    "        break\n",
    "    modes = sorted(os.listdir(split_path))\n",
    "    \n",
    "    for mode in modes:\n",
    "        mode_path = os.path.join(split_path,mode)\n",
    "        if mode == '.ipynb_checkpoints':\n",
    "            delete(mode_path,ignore_errors=True)\n",
    "            eliminados += 1\n",
    "            break\n",
    "        clases = sorted(os.listdir(mode_path))\n",
    "        \n",
    "        for clase in clases:\n",
    "            clase_path = os.path.join(mode_path,clase)\n",
    "            if clase == '.ipynb_checkpoints':\n",
    "                delete(clase_path,ignore_errors=True)\n",
    "                eliminados += 1\n",
    "                break\n",
    "            videos = sorted( os.listdir( clase_path ) )\n",
    "            \n",
    "            for video in videos:\n",
    "                video_path = os.path.join(clase_path,video)\n",
    "                if video == '.ipynb_checkpoints':\n",
    "                    delete(video_path,ignore_errors=True)\n",
    "                    eliminados += 1\n",
    "                    break\n",
    "                frames = sorted( os.listdir(video_path) )\n",
    "                \n",
    "                for frame in frames:\n",
    "                    frame_path = os.path.join(video_path,frame)\n",
    "                    if frame == '.ipynb_checkpoints':\n",
    "                        delete(frame_path,ignore_errors=True)\n",
    "                        eliminados += 1\n",
    "                        break\n",
    "\n",
    "print(eliminados)"
   ]
  },
  {
   "cell_type": "code",
   "execution_count": 7,
   "metadata": {},
   "outputs": [
    {
     "name": "stdout",
     "output_type": "stream",
     "text": [
      "29\n",
      "/home/jefelitman/DataSets/ucf101/split_3/test/PushUps/v_pushups_g16_c04\n"
     ]
    }
   ],
   "source": [
    "#Funcion para revisar los frames en las carpetas de train, test de todos los splits\n",
    "minframes = 200\n",
    "mode_path = \"/home/jefelitman/DataSets/ucf101/split_3/test\"\n",
    "for clase in sorted(os.listdir(mode_path)):\n",
    "    clase_path = os.path.join(mode_path,clase)\n",
    "    for video in sorted(os.listdir(clase_path)):\n",
    "        video_path = os.path.join(clase_path,video)\n",
    "        if len(os.listdir(video_path)) < minframes:\n",
    "            minframes = len(os.listdir(video_path))\n",
    "            minvideo = video_path\n",
    "\n",
    "print(minframes)\n",
    "print(minvideo)"
   ]
  }
 ],
 "metadata": {
  "kernelspec": {
   "display_name": "Python 3",
   "language": "python",
   "name": "python3"
  },
  "language_info": {
   "codemirror_mode": {
    "name": "ipython",
    "version": 3
   },
   "file_extension": ".py",
   "mimetype": "text/x-python",
   "name": "python",
   "nbconvert_exporter": "python",
   "pygments_lexer": "ipython3",
   "version": "3.6.8"
  }
 },
 "nbformat": 4,
 "nbformat_minor": 2
}
