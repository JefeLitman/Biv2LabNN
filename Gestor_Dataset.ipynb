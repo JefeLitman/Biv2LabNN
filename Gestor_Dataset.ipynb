{
 "cells": [
  {
   "cell_type": "markdown",
   "metadata": {},
   "source": [
    "# Cabecera de codigo para seleccionar el dispositivo a usar"
   ]
  },
  {
   "cell_type": "code",
   "execution_count": 1,
   "metadata": {},
   "outputs": [],
   "source": [
    "import os\n",
    "os.environ[\"CUDA_DEVICE_ORDER\"]=\"PCI_BUS_ID\";\n",
    " \n",
    "# The GPU id to use, usually either \"0\" or \"1\" or \"-1\" if you want to use the cpu;\n",
    "os.environ[\"CUDA_VISIBLE_DEVICES\"]=\"-1\";"
   ]
  },
  {
   "cell_type": "markdown",
   "metadata": {},
   "source": [
    "# Importacion de Librerias"
   ]
  },
  {
   "cell_type": "code",
   "execution_count": 2,
   "metadata": {},
   "outputs": [],
   "source": [
    "from __future__ import absolute_import\n",
    "from __future__ import division\n",
    "from __future__ import print_function\n",
    "\n",
    "from shutil import copy2 as copy\n",
    "import multiprocessing.pool\n",
    "from six.moves import range\n",
    "\n",
    "import numpy as np"
   ]
  },
  {
   "cell_type": "markdown",
   "metadata": {},
   "source": [
    "# Organizando el DataSet"
   ]
  },
  {
   "cell_type": "code",
   "execution_count": 3,
   "metadata": {},
   "outputs": [
    {
     "name": "stdout",
     "output_type": "stream",
     "text": [
      "/home/jefelitman/DataSets\n",
      "/home/jefelitman/DataSets/ucf101\n"
     ]
    }
   ],
   "source": [
    "%cd ../DataSets\n",
    "\n",
    "if os.path.isdir(\"ucf101\"):\n",
    "    %cd ucf101\n",
    "else:\n",
    "    os.mkdir(\"ucf101\")"
   ]
  },
  {
   "cell_type": "code",
   "execution_count": 4,
   "metadata": {},
   "outputs": [],
   "source": [
    "ds_directory = \"/home/jefelitman/DataSets/ucf101\""
   ]
  },
  {
   "cell_type": "code",
   "execution_count": 5,
   "metadata": {},
   "outputs": [
    {
     "data": {
      "text/plain": [
       "['testlist02.txt',\n",
       " 'trainlist01.txt',\n",
       " 'classInd.txt',\n",
       " 'trainlist03.txt',\n",
       " 'testlist01.txt',\n",
       " 'testlist03.txt',\n",
       " 'trainlist02.txt']"
      ]
     },
     "execution_count": 5,
     "metadata": {},
     "output_type": "execute_result"
    }
   ],
   "source": [
    "splits_path = \"/home/jefelitman/ucf101_splits\"\n",
    "files_path = os.listdir(splits_path)\n",
    "files_path"
   ]
  },
  {
   "cell_type": "code",
   "execution_count": 6,
   "metadata": {},
   "outputs": [
    {
     "data": {
      "text/plain": [
       "'classInd.txt'"
      ]
     },
     "execution_count": 6,
     "metadata": {},
     "output_type": "execute_result"
    }
   ],
   "source": [
    "files_path.pop(2)"
   ]
  },
  {
   "cell_type": "markdown",
   "metadata": {},
   "source": [
    "### Creacion de las carpetas de clase en los train"
   ]
  },
  {
   "cell_type": "code",
   "execution_count": 7,
   "metadata": {},
   "outputs": [
    {
     "data": {
      "text/plain": [
       "101"
      ]
     },
     "execution_count": 7,
     "metadata": {},
     "output_type": "execute_result"
    }
   ],
   "source": [
    "clases_file = open(os.path.join(splits_path,'classInd.txt'),\"r\")\n",
    "clases = []\n",
    "for clase in clases_file:\n",
    "    clases.append(clase.split(\" \")[1][:-1])\n",
    "len(clases)"
   ]
  },
  {
   "cell_type": "code",
   "execution_count": 14,
   "metadata": {},
   "outputs": [],
   "source": [
    "for split in [\"split_1\",\"split_2\",\"split_3\"]:\n",
    "    split_path = os.path.join(ds_directory,split)\n",
    "    for folder in os.listdir(split_path):\n",
    "        for clase in clases:\n",
    "            os.mkdir(os.path.join(split_path,folder,clase))"
   ]
  },
  {
   "cell_type": "markdown",
   "metadata": {},
   "source": [
    "### Colocando los archivos en los splits segun corresponda"
   ]
  },
  {
   "cell_type": "code",
   "execution_count": null,
   "metadata": {},
   "outputs": [],
   "source": [
    "#Renombrando las carpetas para dejarlas todas en minuscula\n",
    "for folder in os.listdir(\"/home/jefelitman/DataSets/UCF101/frames\"):\n",
    "    src = os.path.join(\"/home/jefelitman/DataSets/UCF101/frames\",folder)\n",
    "    dst = os.path.join(\"/home/jefelitman/DataSets/UCF101/frames\",folder.lower())\n",
    "    os.rename(src,dst)"
   ]
  },
  {
   "cell_type": "code",
   "execution_count": 15,
   "metadata": {},
   "outputs": [
    {
     "data": {
      "text/plain": [
       "['v_frontcrawl_g07_c03',\n",
       " 'v_bowling_g06_c02',\n",
       " 'v_cuttinginkitchen_g08_c02',\n",
       " 'v_cricketbowling_g04_c02',\n",
       " 'v_yoyo_g13_c04',\n",
       " 'v_militaryparade_g15_c03',\n",
       " 'v_hammering_g02_c04',\n",
       " 'v_playingtabla_g15_c04',\n",
       " 'v_blowdryhair_g21_c02',\n",
       " 'v_cricketbowling_g23_c04']"
      ]
     },
     "execution_count": 15,
     "metadata": {},
     "output_type": "execute_result"
    }
   ],
   "source": [
    "os.listdir(\"/home/jefelitman/DataSets/UCF101/frames\")[:10]"
   ]
  },
  {
   "cell_type": "code",
   "execution_count": 16,
   "metadata": {},
   "outputs": [],
   "source": [
    "origen_path = \"/home/jefelitman/DataSets/UCF101/frames\"\n",
    "for file in files_path:\n",
    "    archivo = open(os.path.join(splits_path,file),\"r\")\n",
    "    \n",
    "    if file.endswith(\"01.txt\"):\n",
    "        split_path = os.path.join(ds_directory,\"split_1\")\n",
    "    elif file.endswith(\"02.txt\"):\n",
    "        split_path = os.path.join(ds_directory,\"split_2\")\n",
    "    elif file.endswith(\"03.txt\"):\n",
    "        split_path = os.path.join(ds_directory,\"split_3\")\n",
    "    if file.startswith(\"train\"):\n",
    "        split_path = os.path.join(split_path,\"train\")\n",
    "    elif file.startswith(\"test\"):\n",
    "        split_path = os.path.join(split_path,\"test\")\n",
    "    \n",
    "    for linea in archivo:\n",
    "        clase = linea.split(\"/\")[0]\n",
    "        video = linea.split(\"/\")[1][:-1]\n",
    "        dir_ori_path = os.path.join(origen_path,video.lower())\n",
    "        dest = os.path.join(split_path,clase,video.lower())\n",
    "        os.mkdir(dest) #Creamos la carpeta del destino\n",
    "        \n",
    "        for frame in os.listdir(dir_ori_path):\n",
    "            ori = os.path.join(dir_ori_path,frame)\n",
    "            copy(ori,dest)"
   ]
  },
  {
   "cell_type": "code",
   "execution_count": 13,
   "metadata": {},
   "outputs": [],
   "source": [
    "#Funcion para eliminar carpetas dentro de los frames que correspondan al flujo o algo similar\n",
    "from shutil import rmtree as delete\n",
    "for video in sorted(os.listdir(\"/home/jefelitman/DataSets/UCF101/frames\")):\n",
    "    frames_path = os.path.join(\"/home/jefelitman/DataSets/UCF101/frames\",video)\n",
    "    for frame in sorted(os.listdir(frames_path)):\n",
    "        file = os.path.join(\"/home/jefelitman/DataSets/UCF101/frames\",video,frame)\n",
    "        if os.path.isdir(file):\n",
    "            delete(file,ignore_errors=True)"
   ]
  },
  {
   "cell_type": "code",
   "execution_count": 23,
   "metadata": {},
   "outputs": [
    {
     "data": {
      "text/plain": [
       "9624"
      ]
     },
     "execution_count": 23,
     "metadata": {},
     "output_type": "execute_result"
    }
   ],
   "source": [
    "#Funcion para comprobar que cada split haya quedado bien hecho\n",
    "path = os.path.join(ds_directory,\"split_3\",\"train\")\n",
    "elementos = 0\n",
    "for clase in sorted(os.listdir(path)):\n",
    "    videos_path = os.path.join(path,clase)\n",
    "    elementos += len(os.listdir(videos_path))\n",
    "elementos"
   ]
  },
  {
   "cell_type": "code",
   "execution_count": null,
   "metadata": {},
   "outputs": [],
   "source": []
  }
 ],
 "metadata": {
  "kernelspec": {
   "display_name": "Python 3",
   "language": "python",
   "name": "python3"
  },
  "language_info": {
   "codemirror_mode": {
    "name": "ipython",
    "version": 3
   },
   "file_extension": ".py",
   "mimetype": "text/x-python",
   "name": "python",
   "nbconvert_exporter": "python",
   "pygments_lexer": "ipython3",
   "version": "3.6.8"
  }
 },
 "nbformat": 4,
 "nbformat_minor": 2
}
