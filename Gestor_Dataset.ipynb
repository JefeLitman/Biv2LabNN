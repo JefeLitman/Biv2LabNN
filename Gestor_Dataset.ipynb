{
 "cells": [
  {
   "cell_type": "markdown",
   "metadata": {},
   "source": [
    "# Cabecera de codigo para seleccionar el dispositivo a usar"
   ]
  },
  {
   "cell_type": "code",
   "execution_count": 1,
   "metadata": {},
   "outputs": [],
   "source": [
    "import os\n",
    "os.environ[\"CUDA_DEVICE_ORDER\"]=\"PCI_BUS_ID\";\n",
    " \n",
    "# The GPU id to use, usually either \"0\" or \"1\" or \"-1\" if you want to use the cpu;\n",
    "os.environ[\"CUDA_VISIBLE_DEVICES\"]=\"-1\";"
   ]
  },
  {
   "cell_type": "markdown",
   "metadata": {},
   "source": [
    "# Importacion de Librerias"
   ]
  },
  {
   "cell_type": "code",
   "execution_count": 2,
   "metadata": {},
   "outputs": [],
   "source": [
    "from __future__ import absolute_import\n",
    "from __future__ import division\n",
    "from __future__ import print_function\n",
    "\n",
    "from shutil import copy2 as copy\n",
    "import multiprocessing.pool\n",
    "from six.moves import range\n",
    "\n",
    "import numpy as np"
   ]
  },
  {
   "cell_type": "markdown",
   "metadata": {},
   "source": [
    "# Organizando el DataSet"
   ]
  },
  {
   "cell_type": "code",
   "execution_count": 3,
   "metadata": {},
   "outputs": [
    {
     "name": "stdout",
     "output_type": "stream",
     "text": [
      "/home/jefelitman/DataSets\n",
      "/home/jefelitman/DataSets/ucf101\n"
     ]
    }
   ],
   "source": [
    "%cd ../DataSets\n",
    "\n",
    "if os.path.isdir(\"ucf101\"):\n",
    "    %cd ucf101\n",
    "else:\n",
    "    os.mkdir(\"ucf101\")"
   ]
  },
  {
   "cell_type": "code",
   "execution_count": 4,
   "metadata": {},
   "outputs": [],
   "source": [
    "ds_directory = \"/home/jefelitman/DataSets/ucf101\""
   ]
  },
  {
   "cell_type": "code",
   "execution_count": 5,
   "metadata": {},
   "outputs": [
    {
     "data": {
      "text/plain": [
       "['testlist02.txt',\n",
       " 'trainlist01.txt',\n",
       " 'classInd.txt',\n",
       " 'trainlist03.txt',\n",
       " 'testlist01.txt',\n",
       " 'testlist03.txt',\n",
       " 'trainlist02.txt']"
      ]
     },
     "execution_count": 5,
     "metadata": {},
     "output_type": "execute_result"
    }
   ],
   "source": [
    "splits_path = \"/home/jefelitman/ucf101_splits\"\n",
    "files_path = os.listdir(splits_path)\n",
    "files_path"
   ]
  },
  {
   "cell_type": "code",
   "execution_count": 6,
   "metadata": {},
   "outputs": [
    {
     "data": {
      "text/plain": [
       "'classInd.txt'"
      ]
     },
     "execution_count": 6,
     "metadata": {},
     "output_type": "execute_result"
    }
   ],
   "source": [
    "files_path.pop(2)"
   ]
  },
  {
   "cell_type": "markdown",
   "metadata": {},
   "source": [
    "### Creacion de las carpetas de clase en los train"
   ]
  },
  {
   "cell_type": "code",
   "execution_count": 7,
   "metadata": {},
   "outputs": [
    {
     "data": {
      "text/plain": [
       "101"
      ]
     },
     "execution_count": 7,
     "metadata": {},
     "output_type": "execute_result"
    }
   ],
   "source": [
    "clases_file = open(os.path.join(splits_path,'classInd.txt'),\"r\")\n",
    "clases = []\n",
    "for clase in clases_file:\n",
    "    clases.append(clase.split(\" \")[1][:-1])\n",
    "len(clases)"
   ]
  },
  {
   "cell_type": "code",
   "execution_count": 8,
   "metadata": {},
   "outputs": [],
   "source": [
    "for split in [\"split_1\",\"split_2\",\"split_3\"]:\n",
    "    split_path = os.path.join(ds_directory,split)\n",
    "    for folder in os.listdir(split_path):\n",
    "        for clase in clases:\n",
    "            os.mkdir(os.path.join(split_path,folder,clase))"
   ]
  },
  {
   "cell_type": "markdown",
   "metadata": {},
   "source": [
    "### Colocando los archivos en los splits segun corresponda"
   ]
  },
  {
   "cell_type": "code",
   "execution_count": null,
   "metadata": {},
   "outputs": [],
   "source": [
    "#Renombrando las carpetas para dejarlas todas en minuscula\n",
    "for folder in os.listdir(\"/home/jefelitman/DataSets/UCF101/frames\"):\n",
    "    src = os.path.join(\"/home/jefelitman/DataSets/UCF101/frames\",folder)\n",
    "    dst = os.path.join(\"/home/jefelitman/DataSets/UCF101/frames\",folder.lower())\n",
    "    os.rename(src,dst)"
   ]
  },
  {
   "cell_type": "code",
   "execution_count": 9,
   "metadata": {},
   "outputs": [
    {
     "data": {
      "text/plain": [
       "['v_frontcrawl_g07_c03',\n",
       " 'v_bowling_g06_c02',\n",
       " 'v_cuttinginkitchen_g08_c02',\n",
       " 'v_cricketbowling_g04_c02',\n",
       " 'v_yoyo_g13_c04',\n",
       " 'v_militaryparade_g15_c03',\n",
       " 'v_hammering_g02_c04',\n",
       " 'v_playingtabla_g15_c04',\n",
       " 'v_blowdryhair_g21_c02',\n",
       " 'v_cricketbowling_g23_c04']"
      ]
     },
     "execution_count": 9,
     "metadata": {},
     "output_type": "execute_result"
    }
   ],
   "source": [
    "os.listdir(\"/home/jefelitman/DataSets/UCF101/frames\")[:10]"
   ]
  },
  {
   "cell_type": "code",
   "execution_count": 21,
   "metadata": {},
   "outputs": [
    {
     "ename": "FileNotFoundError",
     "evalue": "[Errno 2] No such file or directory: '/home/jefelitman/DataSets/UCF101/frames/v_benchpress_g08_c010'",
     "output_type": "error",
     "traceback": [
      "\u001b[0;31m---------------------------------------------------------------------------\u001b[0m",
      "\u001b[0;31mFileNotFoundError\u001b[0m                         Traceback (most recent call last)",
      "\u001b[0;32m<ipython-input-21-3a48d1dc6421>\u001b[0m in \u001b[0;36m<module>\u001b[0;34m\u001b[0m\n\u001b[1;32m     21\u001b[0m         \u001b[0mos\u001b[0m\u001b[0;34m.\u001b[0m\u001b[0mmkdir\u001b[0m\u001b[0;34m(\u001b[0m\u001b[0mdest\u001b[0m\u001b[0;34m)\u001b[0m \u001b[0;31m#Creamos la carpeta del destino\u001b[0m\u001b[0;34m\u001b[0m\u001b[0;34m\u001b[0m\u001b[0m\n\u001b[1;32m     22\u001b[0m \u001b[0;34m\u001b[0m\u001b[0m\n\u001b[0;32m---> 23\u001b[0;31m         \u001b[0;32mfor\u001b[0m \u001b[0mframe\u001b[0m \u001b[0;32min\u001b[0m \u001b[0mos\u001b[0m\u001b[0;34m.\u001b[0m\u001b[0mlistdir\u001b[0m\u001b[0;34m(\u001b[0m\u001b[0mdir_ori_path\u001b[0m\u001b[0;34m)\u001b[0m\u001b[0;34m:\u001b[0m\u001b[0;34m\u001b[0m\u001b[0;34m\u001b[0m\u001b[0m\n\u001b[0m\u001b[1;32m     24\u001b[0m             \u001b[0mori\u001b[0m \u001b[0;34m=\u001b[0m \u001b[0mos\u001b[0m\u001b[0;34m.\u001b[0m\u001b[0mpath\u001b[0m\u001b[0;34m.\u001b[0m\u001b[0mjoin\u001b[0m\u001b[0;34m(\u001b[0m\u001b[0mdir_ori_path\u001b[0m\u001b[0;34m,\u001b[0m\u001b[0mframe\u001b[0m\u001b[0;34m)\u001b[0m\u001b[0;34m\u001b[0m\u001b[0;34m\u001b[0m\u001b[0m\n\u001b[1;32m     25\u001b[0m             \u001b[0mcopy\u001b[0m\u001b[0;34m(\u001b[0m\u001b[0mori\u001b[0m\u001b[0;34m,\u001b[0m\u001b[0mdest\u001b[0m\u001b[0;34m)\u001b[0m\u001b[0;34m\u001b[0m\u001b[0;34m\u001b[0m\u001b[0m\n",
      "\u001b[0;31mFileNotFoundError\u001b[0m: [Errno 2] No such file or directory: '/home/jefelitman/DataSets/UCF101/frames/v_benchpress_g08_c010'"
     ]
    }
   ],
   "source": [
    "origen_path = \"/home/jefelitman/DataSets/UCF101/frames\"\n",
    "for file in files_path:\n",
    "    archivo = open(os.path.join(splits_path,file),\"r\")\n",
    "    \n",
    "    if file.endswith(\"01.txt\"):\n",
    "        split_path = os.path.join(ds_directory,\"split_1\")\n",
    "    elif file.endswith(\"02.txt\"):\n",
    "        split_path = os.path.join(ds_directory,\"split_2\")\n",
    "    elif file.endswith(\"03.txt\"):\n",
    "        split_path = os.path.join(ds_directory,\"split_3\")\n",
    "    if file.startswith(\"train\"):\n",
    "        split_path = os.path.join(split_path,\"train\")\n",
    "    elif file.startswith(\"test\"):\n",
    "        split_path = os.path.join(split_path,\"test\")\n",
    "    \n",
    "    for linea in archivo:\n",
    "        clase = linea.split(\"/\")[0]\n",
    "        video = linea.split(\"/\")[1][:-1]\n",
    "        dir_ori_path = os.path.join(origen_path,video.lower())\n",
    "        dest = os.path.join(split_path,clase,video.lower())\n",
    "        os.mkdir(dest) #Creamos la carpeta del destino\n",
    "        \n",
    "        for frame in os.listdir(dir_ori_path):\n",
    "            ori = os.path.join(dir_ori_path,frame)\n",
    "            copy(ori,dest)"
   ]
  },
  {
   "cell_type": "code",
   "execution_count": 23,
   "metadata": {},
   "outputs": [
    {
     "name": "stdout",
     "output_type": "stream",
     "text": [
      "v_benchpress_g23_c04\n",
      "v_benchpress_g05_c04\n",
      "v_benchpress_g04_c03\n",
      "v_benchpress_g19_c05\n",
      "v_benchpress_g15_c01\n",
      "v_benchpress_g06_c07\n",
      "v_benchpress_g25_c02\n",
      "v_benchpress_g11_c05\n",
      "v_benchpress_g05_c06\n",
      "v_benchpress_g03_c01\n",
      "v_benchpress_g11_c03\n",
      "v_benchpress_g05_c07\n",
      "v_benchpress_g11_c02\n",
      "v_benchpress_g22_c06\n",
      "v_benchpress_g12_c02\n",
      "v_benchpress_g24_c07\n",
      "v_benchpress_g20_c06\n",
      "v_benchpress_g23_c05\n",
      "v_benchpress_g24_c04\n",
      "v_benchpress_g13_c01\n",
      "v_benchpress_g08_c01\n",
      "v_benchpress_g16_c02\n",
      "v_benchpress_g21_c03\n",
      "v_benchpress_g14_c06\n",
      "v_benchpress_g01_c03\n",
      "v_benchpress_g14_c02\n",
      "v_benchpress_g07_c04\n",
      "v_benchpress_g21_c01\n",
      "v_benchpress_g13_c04\n",
      "v_benchpress_g12_c05\n",
      "v_benchpress_g08_c04\n",
      "v_benchpress_g17_c01\n",
      "v_benchpress_g05_c03\n",
      "v_benchpress_g03_c04\n",
      "v_benchpress_g19_c03\n",
      "v_benchpress_g18_c02\n",
      "v_benchpress_g22_c03\n",
      "v_benchpress_g10_c01\n",
      "v_benchpress_g17_c02\n",
      "v_benchpress_g01_c01\n",
      "v_benchpress_g09_c03\n",
      "v_benchpress_g15_c04\n",
      "v_benchpress_g12_c04\n",
      "v_benchpress_g14_c04\n",
      "v_benchpress_g06_c06\n",
      "v_benchpress_g03_c03\n",
      "v_benchpress_g16_c04\n",
      "v_benchpress_g04_c07\n",
      "v_benchpress_g25_c07\n",
      "v_benchpress_g22_c07\n",
      "v_benchpress_g08_c06\n",
      "v_benchpress_g16_c03\n",
      "v_benchpress_g25_c01\n",
      "v_benchpress_g17_c03\n",
      "v_benchpress_g07_c02\n",
      "v_benchpress_g24_c05\n",
      "v_benchpress_g08_c05\n",
      "v_benchpress_g06_c02\n",
      "v_benchpress_g07_c05\n",
      "v_benchpress_g01_c02\n",
      "v_benchpress_g20_c07\n",
      "v_benchpress_g07_c06\n",
      "v_benchpress_g04_c06\n",
      "v_benchpress_g24_c02\n",
      "v_benchpress_g18_c03\n",
      "v_benchpress_g21_c04\n",
      "v_benchpress_g12_c07\n",
      "v_benchpress_g03_c06\n",
      "v_benchpress_g23_c03\n",
      "v_benchpress_g10_c04\n",
      "v_benchpress_g20_c03\n",
      "v_benchpress_g14_c01\n",
      "v_benchpress_g10_c03\n",
      "v_benchpress_g09_c02\n",
      "v_benchpress_g01_c04\n",
      "v_benchpress_g07_c01\n",
      "v_benchpress_g20_c04\n",
      "v_benchpress_g05_c05\n",
      "v_benchpress_g21_c02\n",
      "v_benchpress_g06_c01\n",
      "v_benchpress_g04_c02\n",
      "v_benchpress_g08_c07\n",
      "v_benchpress_g20_c05\n",
      "v_benchpress_g05_c02\n",
      "v_benchpress_g13_c02\n",
      "v_benchpress_g25_c03\n",
      "v_benchpress_g06_c03\n",
      "v_benchpress_g18_c06\n",
      "v_benchpress_g13_c03\n",
      "v_benchpress_g19_c06\n",
      "v_benchpress_g12_c06\n",
      "v_benchpress_g09_c01\n",
      "v_benchpress_g20_c01\n",
      "v_benchpress_g07_c03\n",
      "v_benchpress_g19_c04\n",
      "v_benchpress_g06_c05\n",
      "v_benchpress_g02_c02\n",
      "v_benchpress_g09_c05\n",
      "v_benchpress_g19_c02\n",
      "v_benchpress_g03_c05\n",
      "v_benchpress_g13_c06\n",
      "v_benchpress_g08_c02\n",
      "v_benchpress_g01_c06\n",
      "v_benchpress_g02_c06\n",
      "v_benchpress_g17_c06\n",
      "v_benchpress_g12_c03\n",
      "v_benchpress_g14_c03\n",
      "v_benchpress_g24_c03\n",
      "v_benchpress_g22_c04\n",
      "v_benchpress_g03_c07\n",
      "v_benchpress_g14_c07\n",
      "v_benchpress_g04_c04\n",
      "v_benchpress_g18_c07\n",
      "v_benchpress_g23_c02\n",
      "v_benchpress_g02_c04\n",
      "v_benchpress_g19_c01\n",
      "v_benchpress_g12_c01\n",
      "v_benchpress_g08_c03\n",
      "v_benchpress_g15_c03\n",
      "v_benchpress_g25_c06\n",
      "v_benchpress_g11_c01\n",
      "v_benchpress_g02_c07\n",
      "v_benchpress_g01_c05\n",
      "v_benchpress_g11_c04\n",
      "v_benchpress_g23_c01\n",
      "v_benchpress_g22_c02\n",
      "v_benchpress_g15_c02\n",
      "v_benchpress_g24_c06\n",
      "v_benchpress_g24_c01\n",
      "v_benchpress_g15_c06\n",
      "v_benchpress_g02_c03\n",
      "v_benchpress_g09_c04\n",
      "v_benchpress_g04_c05\n",
      "v_benchpress_g15_c05\n",
      "v_benchpress_g02_c05\n",
      "v_benchpress_g05_c01\n",
      "v_benchpress_g16_c01\n",
      "v_benchpress_g17_c07\n",
      "v_benchpress_g09_c06\n",
      "v_benchpress_g18_c05\n",
      "v_benchpress_g10_c02\n",
      "v_benchpress_g22_c05\n",
      "v_benchpress_g16_c05\n",
      "v_benchpress_g13_c07\n",
      "v_benchpress_g06_c04\n",
      "v_benchpress_g25_c04\n",
      "v_benchpress_g18_c04\n",
      "v_benchpress_g14_c05\n",
      "v_benchpress_g07_c07\n",
      "v_benchpress_g03_c02\n",
      "v_benchpress_g18_c01\n",
      "v_benchpress_g20_c02\n",
      "v_benchpress_g17_c04\n",
      "v_benchpress_g04_c01\n",
      "v_benchpress_g02_c01\n",
      "v_benchpress_g17_c05\n",
      "v_benchpress_g09_c07\n",
      "v_benchpress_g22_c01\n",
      "v_benchpress_g25_c05\n",
      "v_benchpress_g13_c05\n"
     ]
    }
   ],
   "source": [
    "#Funcion para buscar videos en el conjunto de datos\n",
    "for video in os.listdir(\"/home/jefelitman/DataSets/UCF101/frames\"):\n",
    "    if(video.startswith(\"v_benchpress\")):\n",
    "        print(video)"
   ]
  },
  {
   "cell_type": "code",
   "execution_count": null,
   "metadata": {},
   "outputs": [],
   "source": []
  }
 ],
 "metadata": {
  "kernelspec": {
   "display_name": "Python 3",
   "language": "python",
   "name": "python3"
  },
  "language_info": {
   "codemirror_mode": {
    "name": "ipython",
    "version": 3
   },
   "file_extension": ".py",
   "mimetype": "text/x-python",
   "name": "python",
   "nbconvert_exporter": "python",
   "pygments_lexer": "ipython3",
   "version": "3.6.8"
  }
 },
 "nbformat": 4,
 "nbformat_minor": 2
}
